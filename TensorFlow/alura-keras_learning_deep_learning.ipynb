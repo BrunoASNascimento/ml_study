{
  "cells": [
    {
      "cell_type": "markdown",
      "metadata": {
        "id": "sNc3NouWYrN7"
      },
      "source": [
        "Imports"
      ]
    },
    {
      "cell_type": "code",
      "execution_count": 1,
      "metadata": {
        "id": "4bQCahYjYdUB"
      },
      "outputs": [],
      "source": [
        "import tensorflow as tf\n",
        "from tensorflow import keras\n",
        "import matplotlib.pyplot as plt\n",
        "import numpy as np\n",
        "from tensorflow.keras.models import load_model"
      ]
    },
    {
      "cell_type": "code",
      "execution_count": 2,
      "metadata": {},
      "outputs": [
        {
          "data": {
            "text/plain": [
              "[PhysicalDevice(name='/physical_device:GPU:0', device_type='GPU')]"
            ]
          },
          "execution_count": 2,
          "metadata": {},
          "output_type": "execute_result"
        }
      ],
      "source": [
        "tf.config.list_physical_devices('GPU')\n"
      ]
    },
    {
      "cell_type": "markdown",
      "metadata": {
        "id": "f8uuzUjVYvkf"
      },
      "source": [
        "Carregando o dataset"
      ]
    },
    {
      "cell_type": "code",
      "execution_count": 3,
      "metadata": {
        "id": "QoIys3wMYirH"
      },
      "outputs": [
        {
          "name": "stdout",
          "output_type": "stream",
          "text": [
            "Downloading data from https://storage.googleapis.com/tensorflow/tf-keras-datasets/train-labels-idx1-ubyte.gz\n",
            "29515/29515 [==============================] - 0s 0us/step\n",
            "Downloading data from https://storage.googleapis.com/tensorflow/tf-keras-datasets/train-images-idx3-ubyte.gz\n",
            "26421880/26421880 [==============================] - 3s 0us/step\n",
            "Downloading data from https://storage.googleapis.com/tensorflow/tf-keras-datasets/t10k-labels-idx1-ubyte.gz\n",
            "5148/5148 [==============================] - 0s 0s/step\n",
            "Downloading data from https://storage.googleapis.com/tensorflow/tf-keras-datasets/t10k-images-idx3-ubyte.gz\n",
            "4422102/4422102 [==============================] - 0s 0us/step\n"
          ]
        }
      ],
      "source": [
        "dataset = keras.datasets.fashion_mnist\n",
        "((imagens_treino, identificacoes_treino), (imagens_teste, identificacoes_teste)) = dataset.load_data()\n"
      ]
    },
    {
      "cell_type": "markdown",
      "metadata": {
        "id": "oFr0526ZY5E_"
      },
      "source": [
        "Exploração dos dados"
      ]
    },
    {
      "cell_type": "code",
      "execution_count": 4,
      "metadata": {
        "id": "fPIT36hpYl5A"
      },
      "outputs": [
        {
          "data": {
            "text/plain": [
              "9"
            ]
          },
          "execution_count": 4,
          "metadata": {},
          "output_type": "execute_result"
        }
      ],
      "source": [
        "len(imagens_treino)\n",
        "imagens_treino.shape\n",
        "imagens_teste.shape\n",
        "len(identificacoes_teste)\n",
        "identificacoes_treino.min()\n",
        "identificacoes_treino.max()"
      ]
    },
    {
      "cell_type": "markdown",
      "metadata": {
        "id": "yTWqT9DIY-iB"
      },
      "source": [
        "Exibição dos dados"
      ]
    },
    {
      "cell_type": "code",
      "execution_count": 5,
      "metadata": {
        "id": "bGESm49JVahh"
      },
      "outputs": [
        {
          "data": {
            "text/plain": [
              "<matplotlib.colorbar.Colorbar at 0x1dc5f8e40d0>"
            ]
          },
          "execution_count": 5,
          "metadata": {},
          "output_type": "execute_result"
        },
        {
          "data": {
            "image/png": "[encoded data removed]",
            "text/plain": [
              "<Figure size 432x288 with 2 Axes>"
            ]
          },
          "metadata": {
            "needs_background": "light"
          },
          "output_type": "display_data"
        }
      ],
      "source": [
        "total_de_classificacoes = 10\n",
        "nomes_de_classificacoes = ['Camiseta', 'Calça', 'Pullover', \n",
        "                           'Vestido', 'Casaco', 'Sandália', 'Camisa',\n",
        "                           'Tênis', 'Bolsa', 'Bota']\n",
        "\n",
        "plt.imshow(imagens_treino[0])\n",
        "plt.colorbar()"
      ]
    },
    {
      "cell_type": "markdown",
      "metadata": {
        "id": "uU6ZySpIcoc5"
      },
      "source": [
        "Normalizando as imagens"
      ]
    },
    {
      "cell_type": "code",
      "execution_count": 6,
      "metadata": {
        "id": "Ral_hdl9ulGG"
      },
      "outputs": [],
      "source": [
        "imagens_treino = imagens_treino/float(255)"
      ]
    },
    {
      "cell_type": "markdown",
      "metadata": {
        "id": "2WABnvOJdCNl"
      },
      "source": [
        "Criando, compilando, treinando e normalizando o modelo"
      ]
    },
    {
      "cell_type": "code",
      "execution_count": 56,
      "metadata": {
        "id": "uFedwlfFc0ii"
      },
      "outputs": [
        {
          "name": "stdout",
          "output_type": "stream",
          "text": [
            "Epoch 1/5\n",
            "100/100 [==============================] - 1s 5ms/step - loss: 0.6435 - accuracy: 0.7767 - val_loss: 0.4517 - val_accuracy: 0.8432\n",
            "Epoch 2/5\n",
            "100/100 [==============================] - 0s 3ms/step - loss: 0.4326 - accuracy: 0.8482 - val_loss: 0.3907 - val_accuracy: 0.8627\n"
          ]
        }
      ],
      "source": [
        "modelo = keras.Sequential([\n",
        "    keras.layers.Flatten(input_shape=(28, 28)),\n",
        "    keras.layers.Dense(256, activation=tf.nn.relu),\n",
        "    keras.layers.Dropout(0.2),\n",
        "    keras.layers.Dense(10, activation=tf.nn.softmax)\n",
        "])\n",
        "\n",
        "adam = keras.optimizers.Adam(lr=0.002)\n",
        "\n",
        "callbacks = [\n",
        "    keras.callbacks.EarlyStopping(monitor='val_loss'),\n",
        "    keras.callbacks.ModelCheckpoint(filepath='../models/best_model.hdf5', monitor='val_loss',save_best_only=True)\n",
        "    ]\n",
        "\n",
        "modelo.compile(\n",
        "    optimizer=adam,\n",
        "    loss='sparse_categorical_crossentropy',\n",
        "    metrics=['accuracy']\n",
        ")\n",
        "\n",
        "historico = modelo.fit(imagens_treino, identificacoes_treino, batch_size=480,\n",
        "                       epochs=5, validation_split=0.2,callbacks=callbacks)\n"
      ]
    },
    {
      "cell_type": "markdown",
      "metadata": {},
      "source": [
        "Sumário do modelo"
      ]
    },
    {
      "cell_type": "code",
      "execution_count": 17,
      "metadata": {},
      "outputs": [
        {
          "name": "stdout",
          "output_type": "stream",
          "text": [
            "Model: \"sequential\"\n",
            "_________________________________________________________________\n",
            " Layer (type)                Output Shape              Param #   \n",
            "=================================================================\n",
            " flatten (Flatten)           (None, 784)               0         \n",
            "                                                                 \n",
            " dense (Dense)               (None, 256)               200960    \n",
            "                                                                 \n",
            " dropout (Dropout)           (None, 256)               0         \n",
            "                                                                 \n",
            " dense_1 (Dense)             (None, 10)                2570      \n",
            "                                                                 \n",
            "=================================================================\n",
            "Total params: 203,530\n",
            "Trainable params: 203,530\n",
            "Non-trainable params: 0\n",
            "_________________________________________________________________\n"
          ]
        }
      ],
      "source": [
        "sumario_do_modelo = modelo.summary()"
      ]
    },
    {
      "cell_type": "markdown",
      "metadata": {},
      "source": [
        "# Estudando zeragem dos pesos"
      ]
    },
    {
      "cell_type": "markdown",
      "metadata": {},
      "source": [
        "Pesos da primeira camada Dense"
      ]
    },
    {
      "cell_type": "code",
      "execution_count": 19,
      "metadata": {},
      "outputs": [],
      "source": [
        "pesos_da_camada_dense = modelo.layers[1].get_weights()[0]\n",
        "vieses_da_camada_dense = modelo.layers[1].get_weights()[1]"
      ]
    },
    {
      "cell_type": "code",
      "execution_count": 31,
      "metadata": {},
      "outputs": [
        {
          "data": {
            "text/plain": [
              "[array([[0.6753537 , 0.11382582, 0.43431532, ..., 0.99749213, 0.27621827,\n",
              "         0.20520498],\n",
              "        [0.88549477, 0.00622827, 0.7628985 , ..., 0.09791698, 0.4975873 ,\n",
              "         0.44621748],\n",
              "        [0.44059715, 0.5664013 , 0.316932  , ..., 0.49940503, 0.3146455 ,\n",
              "         0.4082218 ],\n",
              "        ...,\n",
              "        [0.00768024, 0.97981906, 0.88853794, ..., 0.5937559 , 0.50157875,\n",
              "         0.20711188],\n",
              "        [0.14785773, 0.8977284 , 0.7589078 , ..., 0.0902441 , 0.04070599,\n",
              "         0.16321132],\n",
              "        [0.7309471 , 0.9232853 , 0.32521993, ..., 0.20166308, 0.2095682 ,\n",
              "         0.26620856]], dtype=float32),\n",
              " array([-0.15336609, -0.21727692, -0.0091905 ,  0.06269353,  0.15935427,\n",
              "         0.02188217,  0.03794732,  0.21225916,  0.0657865 ,  0.07583074,\n",
              "        -0.32283115,  0.18799081,  0.3012288 ,  0.00756138, -0.08062172,\n",
              "        -0.05820587, -0.1659024 ,  0.03964073,  0.2627789 ,  0.2732208 ,\n",
              "         0.12662521, -0.02083159, -0.01474713,  0.03253857,  0.06431963,\n",
              "         0.21598414,  0.2681285 , -0.14321297,  0.257886  ,  0.24581014,\n",
              "        -0.01301534,  0.23431674,  0.45049977,  0.40209654, -0.03706897,\n",
              "         0.37559438, -0.01347867,  0.22607295, -0.19605738,  0.3854236 ,\n",
              "         0.14214914,  0.0117333 , -0.00897836,  0.21402977, -0.0130259 ,\n",
              "         0.20683381,  0.01080472, -0.01997293,  0.17865843, -0.08819261,\n",
              "        -0.03923145,  0.08482397,  0.06420995, -0.2307058 , -0.02323089,\n",
              "         0.10638856,  0.29156885, -0.01005039, -0.01960417, -0.00244382,\n",
              "        -0.12173693,  0.30512193,  0.01367516,  0.17329238,  0.28372407,\n",
              "         0.3231165 , -0.0284424 , -0.02637502,  0.24822618,  0.4574342 ,\n",
              "        -0.03905268, -0.02434668,  0.17661813,  0.2165955 ,  0.19561249,\n",
              "        -0.01788509,  0.2705789 ,  0.20620559,  0.29353723,  0.40478283,\n",
              "         0.31079465,  0.3185844 ,  0.3018868 , -0.00504672,  0.12555891,\n",
              "        -0.04914562,  0.04488989,  0.23848997,  0.25446776,  0.15654884,\n",
              "         0.13404167, -0.01932545, -0.00943538, -0.01852288, -0.1553258 ,\n",
              "         0.10952184,  0.1620404 ,  0.09006646, -0.01280066,  0.12655967,\n",
              "         0.30555406, -0.13799702,  0.28995606,  0.41378585,  0.2912093 ,\n",
              "        -0.01170786,  0.19985612,  0.11654024,  0.34480825,  0.20104192,\n",
              "        -0.20715839,  0.03522923,  0.22835205, -0.00930642, -0.10286934,\n",
              "         0.09116769,  0.2331185 ,  0.13176511,  0.29735297,  0.08531661,\n",
              "         0.31412372,  0.01822791,  0.21700662,  0.07271019,  0.14357075,\n",
              "         0.13440828, -0.02007195,  0.28152972,  0.09154574, -0.12170324,\n",
              "        -0.0271395 ,  0.00496358, -0.01802887, -0.04070479,  0.33329022,\n",
              "        -0.09189723, -0.14281276, -0.4081608 ,  0.16337955,  0.6126924 ,\n",
              "         0.09274868, -0.03420353,  0.17649603, -0.26399866,  0.22825663,\n",
              "         0.10440125, -0.20224561,  0.01171688, -0.15577976,  0.02989738,\n",
              "         0.26160955, -0.26147115,  0.13820559,  0.28913918, -0.01249516,\n",
              "         0.25568599,  0.02052772,  0.14801751,  0.1545805 ,  0.0058818 ,\n",
              "         0.09656622,  0.15043686,  0.27944103, -0.05189965, -0.01596682,\n",
              "         0.20387122,  0.31806782,  0.23931438,  0.34878907,  0.33546796,\n",
              "         0.20549059, -0.02720109,  0.24230064, -0.06136335,  0.13293815,\n",
              "         0.09455661, -0.00624219, -0.21059671,  0.19394502, -0.20915626,\n",
              "        -0.03833542,  0.1389603 ,  0.00964497,  0.15550016, -0.03795623,\n",
              "         0.44183835,  0.03010756,  0.40053788, -0.02621389,  0.25123948,\n",
              "        -0.00670544, -0.02066444,  0.17809498, -0.04370955,  0.08791255,\n",
              "        -0.04648131, -0.02968952,  0.29297307,  0.23859863,  0.5028324 ,\n",
              "        -0.24187681,  0.01484721,  0.05517472, -0.02816035,  0.24035063,\n",
              "        -0.09949774, -0.28673816, -0.00470056, -0.06084372,  0.01206156,\n",
              "         0.30553934, -0.2224088 ,  0.10484152,  0.17699707, -0.06319957,\n",
              "         0.4301133 , -0.05120482,  0.0776187 , -0.03983536,  0.02082636,\n",
              "         0.19359554,  0.1166136 ,  0.30865285, -0.10513294,  0.07421739,\n",
              "         0.11732943, -0.0212145 , -0.18800437, -0.08858411,  0.2008027 ,\n",
              "        -0.03194752,  0.09228253,  0.29521304,  0.50690705,  0.21359943,\n",
              "         0.26266304, -0.01286462,  0.11798443, -0.19788772,  0.38306993,\n",
              "         0.2740435 ,  0.17907643,  0.06085806, -0.08545747,  0.40820006,\n",
              "         0.04061019, -0.24904911,  0.10308733,  0.2359802 ,  0.19918445,\n",
              "         0.1223451 ,  0.26206926,  0.08566979,  0.05137172, -0.10147218,\n",
              "        -0.02147867], dtype=float32)]"
            ]
          },
          "execution_count": 31,
          "metadata": {},
          "output_type": "execute_result"
        }
      ],
      "source": [
        "pesos_da_camada_dense.shape\n",
        "\n",
        "\n",
        "# modelo.layers[1].set_weights(\n",
        "#     [pesos_da_camada_dense_zerados:=np.zeros((784, 256)), vieses_da_camada_dense])\n",
        "\n",
        "modelo.layers[1].set_weights(\n",
        "    [pesos_da_camada_dense_aleatorios:=np.random.rand(784, 256), vieses_da_camada_dense])\n",
        "\n",
        "modelo.layers[1].get_weights()\n"
      ]
    },
    {
      "cell_type": "code",
      "execution_count": 32,
      "metadata": {},
      "outputs": [
        {
          "name": "stdout",
          "output_type": "stream",
          "text": [
            "Epoch 1/5\n",
            "1500/1500 [==============================] - 4s 2ms/step - loss: 36.1784 - accuracy: 0.4112 - val_loss: 10.2279 - val_accuracy: 0.5342\n",
            "Epoch 2/5\n",
            "1500/1500 [==============================] - 4s 2ms/step - loss: 10.5782 - accuracy: 0.5874 - val_loss: 4.4144 - val_accuracy: 0.7105\n",
            "Epoch 3/5\n",
            "1500/1500 [==============================] - 4s 2ms/step - loss: 5.8413 - accuracy: 0.6465 - val_loss: 3.0583 - val_accuracy: 0.7181\n",
            "Epoch 4/5\n",
            "1500/1500 [==============================] - 4s 2ms/step - loss: 3.6650 - accuracy: 0.6879 - val_loss: 2.6157 - val_accuracy: 0.6939\n",
            "Epoch 5/5\n",
            "1500/1500 [==============================] - 4s 2ms/step - loss: 2.3444 - accuracy: 0.7231 - val_loss: 1.5159 - val_accuracy: 0.7767\n"
          ]
        }
      ],
      "source": [
        "modelo.compile(optimizer='adam',\n",
        "               loss='sparse_categorical_crossentropy',\n",
        "               metrics=['accuracy'])\n",
        "\n",
        "historico = modelo.fit(imagens_treino, identificacoes_treino,\n",
        "                       epochs=5, validation_split=0.2)\n"
      ]
    },
    {
      "cell_type": "code",
      "execution_count": 34,
      "metadata": {},
      "outputs": [
        {
          "data": {
            "text/plain": [
              "{'name': 'sequential',\n",
              " 'layers': [{'class_name': 'InputLayer',\n",
              "   'config': {'batch_input_shape': (None, 28, 28),\n",
              "    'dtype': 'float32',\n",
              "    'sparse': False,\n",
              "    'ragged': False,\n",
              "    'name': 'flatten_input'}},\n",
              "  {'class_name': 'Flatten',\n",
              "   'config': {'name': 'flatten',\n",
              "    'trainable': True,\n",
              "    'batch_input_shape': (None, 28, 28),\n",
              "    'dtype': 'float32',\n",
              "    'data_format': 'channels_last'}},\n",
              "  {'class_name': 'Dense',\n",
              "   'config': {'name': 'dense',\n",
              "    'trainable': True,\n",
              "    'dtype': 'float32',\n",
              "    'units': 256,\n",
              "    'activation': 'relu',\n",
              "    'use_bias': True,\n",
              "    'kernel_initializer': {'class_name': 'GlorotUniform',\n",
              "     'config': {'seed': None}},\n",
              "    'bias_initializer': {'class_name': 'Zeros', 'config': {}},\n",
              "    'kernel_regularizer': None,\n",
              "    'bias_regularizer': None,\n",
              "    'activity_regularizer': None,\n",
              "    'kernel_constraint': None,\n",
              "    'bias_constraint': None}},\n",
              "  {'class_name': 'Dropout',\n",
              "   'config': {'name': 'dropout',\n",
              "    'trainable': True,\n",
              "    'dtype': 'float32',\n",
              "    'rate': 0.2,\n",
              "    'noise_shape': None,\n",
              "    'seed': None}},\n",
              "  {'class_name': 'Dense',\n",
              "   'config': {'name': 'dense_1',\n",
              "    'trainable': True,\n",
              "    'dtype': 'float32',\n",
              "    'units': 10,\n",
              "    'activation': 'softmax',\n",
              "    'use_bias': True,\n",
              "    'kernel_initializer': {'class_name': 'GlorotUniform',\n",
              "     'config': {'seed': None}},\n",
              "    'bias_initializer': {'class_name': 'Zeros', 'config': {}},\n",
              "    'kernel_regularizer': None,\n",
              "    'bias_regularizer': None,\n",
              "    'activity_regularizer': None,\n",
              "    'kernel_constraint': None,\n",
              "    'bias_constraint': None}}]}"
            ]
          },
          "execution_count": 34,
          "metadata": {},
          "output_type": "execute_result"
        }
      ],
      "source": [
        "modelo.get_config()"
      ]
    },
    {
      "cell_type": "code",
      "execution_count": 33,
      "metadata": {},
      "outputs": [
        {
          "data": {
            "text/plain": [
              "<matplotlib.legend.Legend at 0x1ddc49c74c0>"
            ]
          },
          "execution_count": 33,
          "metadata": {},
          "output_type": "execute_result"
        },
        {
          "data": {
            "image/png": "[encoded data removed]",
            "text/plain": [
              "<Figure size 432x288 with 1 Axes>"
            ]
          },
          "metadata": {
            "needs_background": "light"
          },
          "output_type": "display_data"
        }
      ],
      "source": [
        "plt.plot(historico.history['accuracy'])\n",
        "plt.plot(historico.history['val_accuracy'])\n",
        "plt.title('Acurácia por épocas')\n",
        "plt.xlabel('épocas')\n",
        "plt.ylabel('acurácia')\n",
        "plt.legend(['treino', 'validação'])\n"
      ]
    },
    {
      "cell_type": "code",
      "execution_count": 30,
      "metadata": {},
      "outputs": [
        {
          "data": {
            "text/plain": [
              "<matplotlib.legend.Legend at 0x1dded3993f0>"
            ]
          },
          "execution_count": 30,
          "metadata": {},
          "output_type": "execute_result"
        },
        {
          "data": {
            "image/png": "[encoded data removed]",
            "text/plain": [
              "<Figure size 432x288 with 1 Axes>"
            ]
          },
          "metadata": {
            "needs_background": "light"
          },
          "output_type": "display_data"
        }
      ],
      "source": [
        "plt.plot(historico.history['loss'])\n",
        "plt.plot(historico.history['val_loss'])\n",
        "plt.title('Perda por épocas')\n",
        "plt.xlabel('épocas')\n",
        "plt.ylabel('perda')\n",
        "plt.legend(['treino', 'validação'])\n"
      ]
    },
    {
      "cell_type": "markdown",
      "metadata": {},
      "source": [
        "# Salvando o modelo e plotando os gráficos"
      ]
    },
    {
      "cell_type": "markdown",
      "metadata": {
        "id": "4-RqzS88dgk_"
      },
      "source": [
        "Salvando e carregando o modelo treinado"
      ]
    },
    {
      "cell_type": "code",
      "execution_count": 48,
      "metadata": {
        "id": "SVjmU41IELzX"
      },
      "outputs": [],
      "source": [
        "modelo.save('../models/modelo.h5')\n",
        "modelo_salvo = load_model('../models/modelo.h5')\n"
      ]
    },
    {
      "cell_type": "markdown",
      "metadata": {
        "id": "SVxHO3opdnMb"
      },
      "source": [
        "Visualizando as acurácias de treino e validação por época"
      ]
    },
    {
      "cell_type": "code",
      "execution_count": 10,
      "metadata": {
        "id": "pNc0JsWZY1Ie"
      },
      "outputs": [
        {
          "data": {
            "text/plain": [
              "<matplotlib.legend.Legend at 0x1ddedc5c6d0>"
            ]
          },
          "execution_count": 10,
          "metadata": {},
          "output_type": "execute_result"
        },
        {
          "data": {
            "image/png": "[encoded data removed]",
            "text/plain": [
              "<Figure size 432x288 with 1 Axes>"
            ]
          },
          "metadata": {
            "needs_background": "light"
          },
          "output_type": "display_data"
        }
      ],
      "source": [
        "plt.plot(historico.history['accuracy'])\n",
        "plt.plot(historico.history['val_accuracy'])\n",
        "plt.title('Acurácia por épocas')\n",
        "plt.xlabel('épocas')\n",
        "plt.ylabel('acurácia')\n",
        "plt.legend(['treino', 'validação'])\n"
      ]
    },
    {
      "cell_type": "markdown",
      "metadata": {
        "id": "ZKxkWNawdzZh"
      },
      "source": [
        "Visualizando as perdas de treino e validação por época"
      ]
    },
    {
      "cell_type": "code",
      "execution_count": 11,
      "metadata": {
        "id": "2ugG3Vusg_Va"
      },
      "outputs": [
        {
          "data": {
            "text/plain": [
              "<matplotlib.legend.Legend at 0x1ddedc747f0>"
            ]
          },
          "execution_count": 11,
          "metadata": {},
          "output_type": "execute_result"
        },
        {
          "data": {
            "image/png": "[encoded data removed]",
            "text/plain": [
              "<Figure size 432x288 with 1 Axes>"
            ]
          },
          "metadata": {
            "needs_background": "light"
          },
          "output_type": "display_data"
        }
      ],
      "source": [
        "plt.plot(historico.history['loss'])\n",
        "plt.plot(historico.history['val_loss'])\n",
        "plt.title('Perda por épocas')\n",
        "plt.xlabel('épocas')\n",
        "plt.ylabel('perda')\n",
        "plt.legend(['treino', 'validação'])"
      ]
    },
    {
      "cell_type": "markdown",
      "metadata": {
        "id": "JFXG1oibd8E8"
      },
      "source": [
        "Testando o modelo e o modelo salvo"
      ]
    },
    {
      "cell_type": "code",
      "execution_count": 12,
      "metadata": {
        "id": "I2kLEHPYUdhd"
      },
      "outputs": [
        {
          "name": "stdout",
          "output_type": "stream",
          "text": [
            "313/313 [==============================] - 0s 1ms/step\n",
            "resultado teste: 2\n",
            "número da imagem de teste: 2\n",
            "313/313 [==============================] - 0s 1ms/step\n",
            "resultado teste modelo salvo: 2\n",
            "número da imagem de teste: 2\n"
          ]
        }
      ],
      "source": [
        "testes = modelo.predict(imagens_teste)\n",
        "print('resultado teste:', np.argmax(testes[1]))\n",
        "print('número da imagem de teste:', identificacoes_teste[1])\n",
        "\n",
        "testes_modelo_salvo = modelo_salvo.predict(imagens_teste)\n",
        "print('resultado teste modelo salvo:', np.argmax(testes_modelo_salvo[1]))\n",
        "print('número da imagem de teste:', identificacoes_teste[1])"
      ]
    },
    {
      "cell_type": "markdown",
      "metadata": {
        "id": "U64QMV1GeCUr"
      },
      "source": [
        "Avaliando o modelo"
      ]
    },
    {
      "cell_type": "code",
      "execution_count": 13,
      "metadata": {
        "id": "wsbr9WqyXQ2G"
      },
      "outputs": [
        {
          "name": "stdout",
          "output_type": "stream",
          "text": [
            "313/313 [==============================] - 1s 2ms/step - loss: 57.6524 - accuracy: 0.8598\n",
            "Perda do teste: 57.65242385864258\n",
            "Acurácia do teste: 0.8597999811172485\n"
          ]
        }
      ],
      "source": [
        "perda_teste, acuracia_teste = modelo.evaluate(imagens_teste, identificacoes_teste)\n",
        "print('Perda do teste:', perda_teste)\n",
        "print('Acurácia do teste:', acuracia_teste)"
      ]
    }
  ],
  "metadata": {
    "colab": {
      "name": "Projeto_aula7.ipynb",
      "provenance": []
    },
    "kernelspec": {
      "display_name": "Python 3.10.8 ('study_keras')",
      "language": "python",
      "name": "python3"
    },
    "language_info": {
      "codemirror_mode": {
        "name": "ipython",
        "version": 3
      },
      "file_extension": ".py",
      "mimetype": "text/x-python",
      "name": "python",
      "nbconvert_exporter": "python",
      "pygments_lexer": "ipython3",
      "version": "3.10.8"
    },
    "vscode": {
      "interpreter": {
        "hash": "e4a075841a9d09c8d2d034a1659e6076c7e45e50e72f5ec921fe6aa623ed2def"
      }
    }
  },
  "nbformat": 4,
  "nbformat_minor": 0
}

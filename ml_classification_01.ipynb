{
  "nbformat": 4,
  "nbformat_minor": 0,
  "metadata": {
    "colab": {
      "name": "ml_classification_01.ipynb",
      "provenance": [],
      "authorship_tag": "ABX9TyMctQ7JK14sP5sL4BrC5V1k",
      "include_colab_link": true
    },
    "kernelspec": {
      "name": "python3",
      "display_name": "Python 3"
    }
  },
  "cells": [
    {
      "cell_type": "markdown",
      "metadata": {
        "id": "view-in-github",
        "colab_type": "text"
      },
      "source": [
        "<a href=\"https://colab.research.google.com/github/BrunoASNascimento/ml_study/blob/master/ml_classification_01.ipynb\" target=\"_parent\"><img src=\"https://colab.research.google.com/assets/colab-badge.svg\" alt=\"Open In Colab\"/></a>"
      ]
    },
    {
      "cell_type": "code",
      "metadata": {
        "id": "TmbhktVoJ0NC",
        "colab_type": "code",
        "colab": {}
      },
      "source": [
        "# features (1 sim, 0 não)\n",
        "# pelo longo? \n",
        "# perna curta?\n",
        "# faz auau?\n",
        "porco1 = [0, 1, 0]\n",
        "porco2 = [0, 1, 1]\n",
        "porco3 = [1, 1, 0]\n",
        "\n",
        "cachorro1= [ 0,1,1]\n",
        "cachorro2= [ 1,0,1]\n",
        "cachorro3= [ 1,1,1]\n",
        "\n",
        "dados = [\n",
        "            porco1, \n",
        "            porco2, \n",
        "            porco3, \n",
        "            cachorro1,\n",
        "            cachorro2,\n",
        "            cachorro3\n",
        "        ]\n",
        "\n",
        "# 1 => porco; 0 => cachorro\n",
        "classes = [1,1,1,0,0,0]"
      ],
      "execution_count": null,
      "outputs": []
    },
    {
      "cell_type": "code",
      "metadata": {
        "id": "lsoTDQx8QPyO",
        "colab_type": "code",
        "colab": {
          "base_uri": "https://localhost:8080/",
          "height": 85
        },
        "outputId": "1780f814-25e3-4e35-9234-08790ceeb479"
      },
      "source": [
        "from sklearn.svm import LinearSVC\n",
        "\n",
        "model = LinearSVC()\n",
        "\n",
        "model.fit(dados, classes)"
      ],
      "execution_count": null,
      "outputs": [
        {
          "output_type": "execute_result",
          "data": {
            "text/plain": [
              "LinearSVC(C=1.0, class_weight=None, dual=True, fit_intercept=True,\n",
              "          intercept_scaling=1, loss='squared_hinge', max_iter=1000,\n",
              "          multi_class='ovr', penalty='l2', random_state=None, tol=0.0001,\n",
              "          verbose=0)"
            ]
          },
          "metadata": {
            "tags": []
          },
          "execution_count": 3
        }
      ]
    },
    {
      "cell_type": "code",
      "metadata": {
        "id": "Lw3B1tvOQoK0",
        "colab_type": "code",
        "colab": {
          "base_uri": "https://localhost:8080/",
          "height": 34
        },
        "outputId": "44422b6a-9803-42aa-d618-2d62cb18d8a7"
      },
      "source": [
        "animal_misterioso = [1,1,1]\n",
        "model.predict([animal_misterioso])"
      ],
      "execution_count": null,
      "outputs": [
        {
          "output_type": "execute_result",
          "data": {
            "text/plain": [
              "array([0])"
            ]
          },
          "metadata": {
            "tags": []
          },
          "execution_count": 5
        }
      ]
    },
    {
      "cell_type": "code",
      "metadata": {
        "id": "-tkp7uM-Q9jB",
        "colab_type": "code",
        "colab": {}
      },
      "source": [
        "misterio1 = [1,1,1]\n",
        "misterio2 = [1,1,0]\n",
        "misterio3 = [0,1,1]\n",
        "\n",
        "testes = [ misterio1,misterio2,misterio3]\n",
        "previsoes = model.predict(testes)"
      ],
      "execution_count": null,
      "outputs": []
    },
    {
      "cell_type": "code",
      "metadata": {
        "id": "AIYl-obYRmAp",
        "colab_type": "code",
        "colab": {}
      },
      "source": [
        "testes_classes = [0,1,1]"
      ],
      "execution_count": null,
      "outputs": []
    },
    {
      "cell_type": "code",
      "metadata": {
        "id": "B6u-EZrKRrdY",
        "colab_type": "code",
        "colab": {
          "base_uri": "https://localhost:8080/",
          "height": 34
        },
        "outputId": "fe318f40-fca5-41da-beed-5b208c5cebb4"
      },
      "source": [
        "corretos = (previsoes==testes_classes).sum()\n",
        "total = len(testes_classes)\n",
        "taxa_de_acertos = corretos/total\n",
        "print(f'Taxa de acertos {round(taxa_de_acertos*100,2)}%')"
      ],
      "execution_count": null,
      "outputs": [
        {
          "output_type": "stream",
          "text": [
            "Taxa de acertos 66.67%\n"
          ],
          "name": "stdout"
        }
      ]
    },
    {
      "cell_type": "code",
      "metadata": {
        "id": "GTEirLPHShxg",
        "colab_type": "code",
        "colab": {
          "base_uri": "https://localhost:8080/",
          "height": 34
        },
        "outputId": "78959376-3912-4e16-c5e6-740aee629e61"
      },
      "source": [
        "from sklearn.metrics import accuracy_score\n",
        "\n",
        "taxa_de_acertos = accuracy_score(testes_classes,previsoes)\n",
        "print(f'Taxa de acertos {round(taxa_de_acertos*100,2)}%')"
      ],
      "execution_count": null,
      "outputs": [
        {
          "output_type": "stream",
          "text": [
            "Taxa de acertos 66.67%\n"
          ],
          "name": "stdout"
        }
      ]
    }
  ]
}
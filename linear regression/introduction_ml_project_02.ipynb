{
  "nbformat": 4,
  "nbformat_minor": 0,
  "metadata": {
    "colab": {
      "name": "introduction_ml_project_02.ipynb",
      "provenance": [],
      "authorship_tag": "ABX9TyPvN3XAwitIda52Mu4OKo2g",
      "include_colab_link": true
    },
    "kernelspec": {
      "name": "python3",
      "display_name": "Python 3"
    }
  },
  "cells": [
    {
      "cell_type": "markdown",
      "metadata": {
        "id": "view-in-github",
        "colab_type": "text"
      },
      "source": [
        "<a href=\"https://colab.research.google.com/github/BrunoASNascimento/ml_study/blob/master/introduction_ml_project_02.ipynb\" target=\"_parent\"><img src=\"https://colab.research.google.com/assets/colab-badge.svg\" alt=\"Open In Colab\"/></a>"
      ]
    },
    {
      "cell_type": "code",
      "metadata": {
        "id": "Oangp65FQ454",
        "colab_type": "code",
        "colab": {
          "base_uri": "https://localhost:8080/",
          "height": 204
        },
        "outputId": "493ce295-07c7-4c3b-dfed-969ac3e5c290"
      },
      "source": [
        "import pandas as pd\n",
        "\n",
        "url = 'https://gist.githubusercontent.com/guilhermesilveira/2d2efa37d66b6c84a722ea627a897ced/raw/10968b997d885cbded1c92938c7a9912ba41c615/tracking.csv'\n",
        "\n",
        "dados = pd.read_csv(url)\n",
        "dados.head(5)"
      ],
      "execution_count": null,
      "outputs": [
        {
          "output_type": "execute_result",
          "data": {
            "text/html": [
              "<div>\n",
              "<style scoped>\n",
              "    .dataframe tbody tr th:only-of-type {\n",
              "        vertical-align: middle;\n",
              "    }\n",
              "\n",
              "    .dataframe tbody tr th {\n",
              "        vertical-align: top;\n",
              "    }\n",
              "\n",
              "    .dataframe thead th {\n",
              "        text-align: right;\n",
              "    }\n",
              "</style>\n",
              "<table border=\"1\" class=\"dataframe\">\n",
              "  <thead>\n",
              "    <tr style=\"text-align: right;\">\n",
              "      <th></th>\n",
              "      <th>home</th>\n",
              "      <th>how_it_works</th>\n",
              "      <th>contact</th>\n",
              "      <th>bought</th>\n",
              "    </tr>\n",
              "  </thead>\n",
              "  <tbody>\n",
              "    <tr>\n",
              "      <th>0</th>\n",
              "      <td>1</td>\n",
              "      <td>1</td>\n",
              "      <td>0</td>\n",
              "      <td>0</td>\n",
              "    </tr>\n",
              "    <tr>\n",
              "      <th>1</th>\n",
              "      <td>1</td>\n",
              "      <td>1</td>\n",
              "      <td>0</td>\n",
              "      <td>0</td>\n",
              "    </tr>\n",
              "    <tr>\n",
              "      <th>2</th>\n",
              "      <td>1</td>\n",
              "      <td>1</td>\n",
              "      <td>0</td>\n",
              "      <td>0</td>\n",
              "    </tr>\n",
              "    <tr>\n",
              "      <th>3</th>\n",
              "      <td>1</td>\n",
              "      <td>1</td>\n",
              "      <td>0</td>\n",
              "      <td>0</td>\n",
              "    </tr>\n",
              "    <tr>\n",
              "      <th>4</th>\n",
              "      <td>1</td>\n",
              "      <td>1</td>\n",
              "      <td>0</td>\n",
              "      <td>0</td>\n",
              "    </tr>\n",
              "  </tbody>\n",
              "</table>\n",
              "</div>"
            ],
            "text/plain": [
              "   home  how_it_works  contact  bought\n",
              "0     1             1        0       0\n",
              "1     1             1        0       0\n",
              "2     1             1        0       0\n",
              "3     1             1        0       0\n",
              "4     1             1        0       0"
            ]
          },
          "metadata": {
            "tags": []
          },
          "execution_count": 2
        }
      ]
    },
    {
      "cell_type": "code",
      "metadata": {
        "id": "acDhh1DdRhJ0",
        "colab_type": "code",
        "colab": {}
      },
      "source": [
        "x = dados[['home',\t'how_it_works',\t'contact',\t'bought']]\n",
        "y = dados['bought']"
      ],
      "execution_count": null,
      "outputs": []
    },
    {
      "cell_type": "code",
      "metadata": {
        "id": "RzA-n4xwSLkw",
        "colab_type": "code",
        "colab": {}
      },
      "source": [
        "treino_x = x[:75]\n",
        "treino_y = y[:75]\n",
        "teste_x = x[75:]\n",
        "teste_y = y[75:]"
      ],
      "execution_count": null,
      "outputs": []
    },
    {
      "cell_type": "code",
      "metadata": {
        "id": "F4cpcY6RSnfk",
        "colab_type": "code",
        "colab": {
          "base_uri": "https://localhost:8080/",
          "height": 85
        },
        "outputId": "7da14bf0-3ac0-4ff7-aee7-d8f04f20b25d"
      },
      "source": [
        "from sklearn.svm import LinearSVC\n",
        "\n",
        "modelo = LinearSVC()\n",
        "modelo.fit(treino_x,treino_y)"
      ],
      "execution_count": null,
      "outputs": [
        {
          "output_type": "execute_result",
          "data": {
            "text/plain": [
              "LinearSVC(C=1.0, class_weight=None, dual=True, fit_intercept=True,\n",
              "          intercept_scaling=1, loss='squared_hinge', max_iter=1000,\n",
              "          multi_class='ovr', penalty='l2', random_state=None, tol=0.0001,\n",
              "          verbose=0)"
            ]
          },
          "metadata": {
            "tags": []
          },
          "execution_count": 5
        }
      ]
    },
    {
      "cell_type": "code",
      "metadata": {
        "id": "N-kzGOMjT2vU",
        "colab_type": "code",
        "colab": {
          "base_uri": "https://localhost:8080/",
          "height": 51
        },
        "outputId": "1913e80e-1294-463d-8561-fbd4f603882e"
      },
      "source": [
        "previsoes = modelo.predict(teste_x)\n",
        "print(previsoes)\n",
        "print(teste_y.values)"
      ],
      "execution_count": null,
      "outputs": [
        {
          "output_type": "stream",
          "text": [
            "[0 0 0 0 1 0 0 0 1 1 0 0 0 0 1 1 0 0 0 0 1 0 0 0]\n",
            "[0 0 0 0 1 0 0 0 1 1 0 0 0 0 1 1 0 0 0 0 1 0 0 0]\n"
          ],
          "name": "stdout"
        }
      ]
    },
    {
      "cell_type": "code",
      "metadata": {
        "id": "x6wT0gWxUGSJ",
        "colab_type": "code",
        "colab": {
          "base_uri": "https://localhost:8080/",
          "height": 34
        },
        "outputId": "b501ef96-8fa5-4aa8-ba81-508bb2347740"
      },
      "source": [
        "from sklearn.metrics import accuracy_score\n",
        "\n",
        "taxa_de_acertos = accuracy_score(teste_y,previsoes)\n",
        "print(f'Taxa de acertos {round(taxa_de_acertos*100,2)}%')"
      ],
      "execution_count": null,
      "outputs": [
        {
          "output_type": "stream",
          "text": [
            "Taxa de acertos 100.0%\n"
          ],
          "name": "stdout"
        }
      ]
    },
    {
      "cell_type": "code",
      "metadata": {
        "id": "-1jrCaHJ6CQ9",
        "colab_type": "code",
        "colab": {
          "base_uri": "https://localhost:8080/",
          "height": 34
        },
        "outputId": "0e06c2c5-feba-4c32-e967-233d48e7867a"
      },
      "source": [
        "from sklearn.model_selection import train_test_split    \n",
        "SEED = 20\n",
        "treino_x,teste_x ,treino_y,teste_y =train_test_split(x,y, test_size=0.25, random_state=SEED)\n",
        "\n",
        "modelo = LinearSVC()\n",
        "modelo.fit(treino_x,treino_y)\n",
        "previsoes = modelo.predict(teste_x)\n",
        "\n",
        "taxa_de_acertos = accuracy_score(teste_y,previsoes)\n",
        "print(f'Taxa de acertos {round(taxa_de_acertos*100,2)}%')"
      ],
      "execution_count": null,
      "outputs": [
        {
          "output_type": "stream",
          "text": [
            "Taxa de acertos 100.0%\n"
          ],
          "name": "stdout"
        }
      ]
    },
    {
      "cell_type": "code",
      "metadata": {
        "id": "X10-nI9E7u6M",
        "colab_type": "code",
        "colab": {
          "base_uri": "https://localhost:8080/",
          "height": 68
        },
        "outputId": "77b2bdb3-df5a-4927-a1c4-50baf7a29414"
      },
      "source": [
        "print(treino_y.value_counts())"
      ],
      "execution_count": null,
      "outputs": [
        {
          "output_type": "stream",
          "text": [
            "0    47\n",
            "1    27\n",
            "Name: bought, dtype: int64\n"
          ],
          "name": "stdout"
        }
      ]
    },
    {
      "cell_type": "code",
      "metadata": {
        "id": "Ic2xV1Pf7-CR",
        "colab_type": "code",
        "colab": {
          "base_uri": "https://localhost:8080/",
          "height": 68
        },
        "outputId": "c82dc975-dc1a-48eb-c153-40f804a3a3aa"
      },
      "source": [
        "print(teste_y.value_counts())"
      ],
      "execution_count": null,
      "outputs": [
        {
          "output_type": "stream",
          "text": [
            "0    19\n",
            "1     6\n",
            "Name: bought, dtype: int64\n"
          ],
          "name": "stdout"
        }
      ]
    },
    {
      "cell_type": "code",
      "metadata": {
        "id": "r_fW_pMl8Kwb",
        "colab_type": "code",
        "colab": {
          "base_uri": "https://localhost:8080/",
          "height": 34
        },
        "outputId": "cd0b00a6-cf8f-4225-e508-dae88428500c"
      },
      "source": [
        "from sklearn.model_selection import train_test_split    \n",
        "SEED = 20\n",
        "treino_x,teste_x ,treino_y,teste_y =train_test_split(x,y, test_size=0.25, random_state=SEED,stratify=y)\n",
        "\n",
        "modelo = LinearSVC()\n",
        "modelo.fit(treino_x,treino_y)\n",
        "previsoes = modelo.predict(teste_x)\n",
        "\n",
        "taxa_de_acertos = accuracy_score(teste_y,previsoes)\n",
        "print(f'Taxa de acertos {round(taxa_de_acertos*100,2)}%')"
      ],
      "execution_count": null,
      "outputs": [
        {
          "output_type": "stream",
          "text": [
            "Taxa de acertos 100.0%\n"
          ],
          "name": "stdout"
        }
      ]
    },
    {
      "cell_type": "code",
      "metadata": {
        "id": "OUnONNLW8TsB",
        "colab_type": "code",
        "colab": {
          "base_uri": "https://localhost:8080/",
          "height": 119
        },
        "outputId": "0c517f86-6859-41cc-9640-43a8675444c6"
      },
      "source": [
        "print(treino_y.value_counts())\n",
        "print(teste_y.value_counts())"
      ],
      "execution_count": null,
      "outputs": [
        {
          "output_type": "stream",
          "text": [
            "0    49\n",
            "1    25\n",
            "Name: bought, dtype: int64\n",
            "0    17\n",
            "1     8\n",
            "Name: bought, dtype: int64\n"
          ],
          "name": "stdout"
        }
      ]
    },
    {
      "cell_type": "markdown",
      "metadata": {
        "id": "TBvvNylSW40e",
        "colab_type": "text"
      },
      "source": [
        "#Segunda parte\n"
      ]
    },
    {
      "cell_type": "code",
      "metadata": {
        "id": "cEnpbMEb8WeZ",
        "colab_type": "code",
        "colab": {
          "base_uri": "https://localhost:8080/",
          "height": 204
        },
        "outputId": "bde1f807-ea99-4fc6-f650-7fbeec775f4b"
      },
      "source": [
        "url = 'https://gist.githubusercontent.com/guilhermesilveira/1b7d5475863c15f484ac495bd70975cf/raw/16aff7a0aee67e7c100a2a48b676a2d2d142f646/projects.csv'\n",
        "\n",
        "dados = pd.read_csv(url)\n",
        "dados.head(5)"
      ],
      "execution_count": null,
      "outputs": [
        {
          "output_type": "execute_result",
          "data": {
            "text/html": [
              "<div>\n",
              "<style scoped>\n",
              "    .dataframe tbody tr th:only-of-type {\n",
              "        vertical-align: middle;\n",
              "    }\n",
              "\n",
              "    .dataframe tbody tr th {\n",
              "        vertical-align: top;\n",
              "    }\n",
              "\n",
              "    .dataframe thead th {\n",
              "        text-align: right;\n",
              "    }\n",
              "</style>\n",
              "<table border=\"1\" class=\"dataframe\">\n",
              "  <thead>\n",
              "    <tr style=\"text-align: right;\">\n",
              "      <th></th>\n",
              "      <th>unfinished</th>\n",
              "      <th>expected_hours</th>\n",
              "      <th>price</th>\n",
              "    </tr>\n",
              "  </thead>\n",
              "  <tbody>\n",
              "    <tr>\n",
              "      <th>0</th>\n",
              "      <td>1</td>\n",
              "      <td>26</td>\n",
              "      <td>192</td>\n",
              "    </tr>\n",
              "    <tr>\n",
              "      <th>1</th>\n",
              "      <td>1</td>\n",
              "      <td>88</td>\n",
              "      <td>9015</td>\n",
              "    </tr>\n",
              "    <tr>\n",
              "      <th>2</th>\n",
              "      <td>1</td>\n",
              "      <td>89</td>\n",
              "      <td>2577</td>\n",
              "    </tr>\n",
              "    <tr>\n",
              "      <th>3</th>\n",
              "      <td>1</td>\n",
              "      <td>42</td>\n",
              "      <td>275</td>\n",
              "    </tr>\n",
              "    <tr>\n",
              "      <th>4</th>\n",
              "      <td>1</td>\n",
              "      <td>39</td>\n",
              "      <td>170</td>\n",
              "    </tr>\n",
              "  </tbody>\n",
              "</table>\n",
              "</div>"
            ],
            "text/plain": [
              "   unfinished  expected_hours  price\n",
              "0           1              26    192\n",
              "1           1              88   9015\n",
              "2           1              89   2577\n",
              "3           1              42    275\n",
              "4           1              39    170"
            ]
          },
          "metadata": {
            "tags": []
          },
          "execution_count": 13
        }
      ]
    },
    {
      "cell_type": "code",
      "metadata": {
        "id": "-u2A7QTENEB_",
        "colab_type": "code",
        "colab": {
          "base_uri": "https://localhost:8080/",
          "height": 359
        },
        "outputId": "e0583b35-4d27-4c7e-f1e7-4442fbe84bcf"
      },
      "source": [
        "change = {\n",
        "    0:1,\n",
        "    1:0\n",
        "}\n",
        "dados['finished'] = dados['unfinished'].map(change)\n",
        "dados.head(10)"
      ],
      "execution_count": null,
      "outputs": [
        {
          "output_type": "execute_result",
          "data": {
            "text/html": [
              "<div>\n",
              "<style scoped>\n",
              "    .dataframe tbody tr th:only-of-type {\n",
              "        vertical-align: middle;\n",
              "    }\n",
              "\n",
              "    .dataframe tbody tr th {\n",
              "        vertical-align: top;\n",
              "    }\n",
              "\n",
              "    .dataframe thead th {\n",
              "        text-align: right;\n",
              "    }\n",
              "</style>\n",
              "<table border=\"1\" class=\"dataframe\">\n",
              "  <thead>\n",
              "    <tr style=\"text-align: right;\">\n",
              "      <th></th>\n",
              "      <th>unfinished</th>\n",
              "      <th>expected_hours</th>\n",
              "      <th>price</th>\n",
              "      <th>finished</th>\n",
              "    </tr>\n",
              "  </thead>\n",
              "  <tbody>\n",
              "    <tr>\n",
              "      <th>0</th>\n",
              "      <td>1</td>\n",
              "      <td>26</td>\n",
              "      <td>192</td>\n",
              "      <td>0</td>\n",
              "    </tr>\n",
              "    <tr>\n",
              "      <th>1</th>\n",
              "      <td>1</td>\n",
              "      <td>88</td>\n",
              "      <td>9015</td>\n",
              "      <td>0</td>\n",
              "    </tr>\n",
              "    <tr>\n",
              "      <th>2</th>\n",
              "      <td>1</td>\n",
              "      <td>89</td>\n",
              "      <td>2577</td>\n",
              "      <td>0</td>\n",
              "    </tr>\n",
              "    <tr>\n",
              "      <th>3</th>\n",
              "      <td>1</td>\n",
              "      <td>42</td>\n",
              "      <td>275</td>\n",
              "      <td>0</td>\n",
              "    </tr>\n",
              "    <tr>\n",
              "      <th>4</th>\n",
              "      <td>1</td>\n",
              "      <td>39</td>\n",
              "      <td>170</td>\n",
              "      <td>0</td>\n",
              "    </tr>\n",
              "    <tr>\n",
              "      <th>5</th>\n",
              "      <td>1</td>\n",
              "      <td>33</td>\n",
              "      <td>173</td>\n",
              "      <td>0</td>\n",
              "    </tr>\n",
              "    <tr>\n",
              "      <th>6</th>\n",
              "      <td>1</td>\n",
              "      <td>64</td>\n",
              "      <td>1965</td>\n",
              "      <td>0</td>\n",
              "    </tr>\n",
              "    <tr>\n",
              "      <th>7</th>\n",
              "      <td>1</td>\n",
              "      <td>99</td>\n",
              "      <td>1993</td>\n",
              "      <td>0</td>\n",
              "    </tr>\n",
              "    <tr>\n",
              "      <th>8</th>\n",
              "      <td>1</td>\n",
              "      <td>45</td>\n",
              "      <td>278</td>\n",
              "      <td>0</td>\n",
              "    </tr>\n",
              "    <tr>\n",
              "      <th>9</th>\n",
              "      <td>0</td>\n",
              "      <td>96</td>\n",
              "      <td>12479</td>\n",
              "      <td>1</td>\n",
              "    </tr>\n",
              "  </tbody>\n",
              "</table>\n",
              "</div>"
            ],
            "text/plain": [
              "   unfinished  expected_hours  price  finished\n",
              "0           1              26    192         0\n",
              "1           1              88   9015         0\n",
              "2           1              89   2577         0\n",
              "3           1              42    275         0\n",
              "4           1              39    170         0\n",
              "5           1              33    173         0\n",
              "6           1              64   1965         0\n",
              "7           1              99   1993         0\n",
              "8           1              45    278         0\n",
              "9           0              96  12479         1"
            ]
          },
          "metadata": {
            "tags": []
          },
          "execution_count": 14
        }
      ]
    },
    {
      "cell_type": "code",
      "metadata": {
        "id": "-1uz0zdrNjE7",
        "colab_type": "code",
        "colab": {
          "base_uri": "https://localhost:8080/",
          "height": 351
        },
        "outputId": "467ac221-444a-438b-aa60-35fb76885716"
      },
      "source": [
        "import seaborn as sns\n",
        "\n",
        "sns.scatterplot(x='expected_hours',y='price',data=dados)"
      ],
      "execution_count": null,
      "outputs": [
        {
          "output_type": "stream",
          "text": [
            "/usr/local/lib/python3.6/dist-packages/statsmodels/tools/_testing.py:19: FutureWarning: pandas.util.testing is deprecated. Use the functions in the public API at pandas.testing instead.\n",
            "  import pandas.util.testing as tm\n"
          ],
          "name": "stderr"
        },
        {
          "output_type": "execute_result",
          "data": {
            "text/plain": [
              "<matplotlib.axes._subplots.AxesSubplot at 0x7fe661bd6d30>"
            ]
          },
          "metadata": {
            "tags": []
          },
          "execution_count": 15
        },
        {
          "output_type": "display_data",
          "data": {
            "image/png": "[encoded data removed]",
            "text/plain": [
              "<Figure size 432x288 with 1 Axes>"
            ]
          },
          "metadata": {
            "tags": [],
            "needs_background": "light"
          }
        }
      ]
    },
    {
      "cell_type": "code",
      "metadata": {
        "id": "XtzdKh2WODBf",
        "colab_type": "code",
        "colab": {
          "base_uri": "https://localhost:8080/",
          "height": 297
        },
        "outputId": "b3432f08-8c4c-434e-96ce-799802403981"
      },
      "source": [
        "sns.scatterplot(x='expected_hours',y='price',hue= 'finished',data=dados)"
      ],
      "execution_count": null,
      "outputs": [
        {
          "output_type": "execute_result",
          "data": {
            "text/plain": [
              "<matplotlib.axes._subplots.AxesSubplot at 0x7fe65f2bab00>"
            ]
          },
          "metadata": {
            "tags": []
          },
          "execution_count": 16
        },
        {
          "output_type": "display_data",
          "data": {
            "image/png": "[encoded data removed]",
            "text/plain": [
              "<Figure size 432x288 with 1 Axes>"
            ]
          },
          "metadata": {
            "tags": [],
            "needs_background": "light"
          }
        }
      ]
    },
    {
      "cell_type": "code",
      "metadata": {
        "id": "fF63aeonONJu",
        "colab_type": "code",
        "colab": {
          "base_uri": "https://localhost:8080/",
          "height": 386
        },
        "outputId": "a08c5144-8e81-4f26-8217-b72ef37de7b2"
      },
      "source": [
        "sns.relplot(x='expected_hours',y='price',col= 'finished',hue= 'finished',data=dados)"
      ],
      "execution_count": null,
      "outputs": [
        {
          "output_type": "execute_result",
          "data": {
            "text/plain": [
              "<seaborn.axisgrid.FacetGrid at 0x7fe65edec2b0>"
            ]
          },
          "metadata": {
            "tags": []
          },
          "execution_count": 17
        },
        {
          "output_type": "display_data",
          "data": {
            "image/png": "[encoded data removed]",
            "text/plain": [
              "<Figure size 795.875x360 with 2 Axes>"
            ]
          },
          "metadata": {
            "tags": [],
            "needs_background": "light"
          }
        }
      ]
    },
    {
      "cell_type": "code",
      "metadata": {
        "id": "ofa_5VUoOyqh",
        "colab_type": "code",
        "colab": {}
      },
      "source": [
        "x = dados[['expected_hours','price']]\n",
        "y = dados['finished']"
      ],
      "execution_count": null,
      "outputs": []
    },
    {
      "cell_type": "code",
      "metadata": {
        "id": "QY7ujrKwO-5k",
        "colab_type": "code",
        "colab": {
          "base_uri": "https://localhost:8080/",
          "height": 68
        },
        "outputId": "8477a304-7a64-41fe-ea8b-94dc24de7b5d"
      },
      "source": [
        "from sklearn.model_selection import train_test_split    \n",
        "SEED = 5\n",
        "np.random.seed(SEED)\n",
        "treino_x,teste_x ,treino_y,teste_y =train_test_split(x,y, test_size=0.25, stratify=y)\n",
        "\n",
        "modelo = LinearSVC()\n",
        "modelo.fit(treino_x,treino_y)\n",
        "previsoes = modelo.predict(teste_x)\n",
        "\n",
        "taxa_de_acertos = accuracy_score(teste_y,previsoes)\n",
        "print(f'Taxa de acertos {round(taxa_de_acertos*100,2)}%')"
      ],
      "execution_count": null,
      "outputs": [
        {
          "output_type": "stream",
          "text": [
            "Taxa de acertos 64.44%\n"
          ],
          "name": "stdout"
        },
        {
          "output_type": "stream",
          "text": [
            "/usr/local/lib/python3.6/dist-packages/sklearn/svm/_base.py:947: ConvergenceWarning: Liblinear failed to converge, increase the number of iterations.\n",
            "  \"the number of iterations.\", ConvergenceWarning)\n"
          ],
          "name": "stderr"
        }
      ]
    },
    {
      "cell_type": "code",
      "metadata": {
        "id": "Tcf9ovKcPOL2",
        "colab_type": "code",
        "colab": {
          "base_uri": "https://localhost:8080/",
          "height": 34
        },
        "outputId": "5aa3b3b3-62de-4f30-946f-33e66068d43a"
      },
      "source": [
        "import numpy as np\n",
        "\n",
        "previsoes_de_base = np.ones(540)\n",
        "taxa_de_acertos = accuracy_score(teste_y,previsoes_de_base)\n",
        "print(f'Taxa de acertos baseline {round(taxa_de_acertos*100,2)}%')"
      ],
      "execution_count": null,
      "outputs": [
        {
          "output_type": "stream",
          "text": [
            "Taxa de acertos baseline 52.59%\n"
          ],
          "name": "stdout"
        }
      ]
    },
    {
      "cell_type": "code",
      "metadata": {
        "id": "fm5EPaQBU41N",
        "colab_type": "code",
        "colab": {
          "base_uri": "https://localhost:8080/",
          "height": 297
        },
        "outputId": "5d72ebb0-c1bc-4aa8-eb74-6e84df516f6a"
      },
      "source": [
        "sns.scatterplot(x='expected_hours',y='price',hue= teste_y,data=teste_x)"
      ],
      "execution_count": null,
      "outputs": [
        {
          "output_type": "execute_result",
          "data": {
            "text/plain": [
              "<matplotlib.axes._subplots.AxesSubplot at 0x7fe65d1d8208>"
            ]
          },
          "metadata": {
            "tags": []
          },
          "execution_count": 29
        },
        {
          "output_type": "display_data",
          "data": {
            "image/png": "[encoded data removed]",
            "text/plain": [
              "<Figure size 432x288 with 1 Axes>"
            ]
          },
          "metadata": {
            "tags": [],
            "needs_background": "light"
          }
        }
      ]
    },
    {
      "cell_type": "code",
      "metadata": {
        "id": "Iae1pss-VNxx",
        "colab_type": "code",
        "colab": {
          "base_uri": "https://localhost:8080/",
          "height": 34
        },
        "outputId": "1b376ea0-a0a1-448f-aa2f-cd2286ee7278"
      },
      "source": [
        "x_min = teste_x['expected_hours'].min()\n",
        "x_max = teste_x['expected_hours'].max()\n",
        "y_min = teste_x['price'].min()\n",
        "y_max = teste_x['price'].max()\n",
        "print(x_min,\n",
        "x_max,\n",
        "y_min,\n",
        "y_max)"
      ],
      "execution_count": null,
      "outputs": [
        {
          "output_type": "stream",
          "text": [
            "1 100 100 30223\n"
          ],
          "name": "stdout"
        }
      ]
    },
    {
      "cell_type": "code",
      "metadata": {
        "id": "-EkFSapgVrsq",
        "colab_type": "code",
        "colab": {}
      },
      "source": [
        "pixels =100\n",
        "eixo_x = np.arange(x_min, x_max, (x_max-x_min)/pixels)\n",
        "eixo_y = np.arange(y_min, y_max, (y_max-y_min)/pixels)"
      ],
      "execution_count": null,
      "outputs": []
    },
    {
      "cell_type": "code",
      "metadata": {
        "id": "SM699tgtWRQs",
        "colab_type": "code",
        "colab": {
          "base_uri": "https://localhost:8080/",
          "height": 136
        },
        "outputId": "cab7f80c-ca7f-4cd4-f228-1686f38340cb"
      },
      "source": [
        "xx , yy = np.meshgrid(eixo_x,eixo_y)\n",
        "pontos = np.c_[xx.ravel(),yy.ravel()]\n",
        "pontos"
      ],
      "execution_count": null,
      "outputs": [
        {
          "output_type": "execute_result",
          "data": {
            "text/plain": [
              "array([[1.000000e+00, 1.000000e+02],\n",
              "       [1.990000e+00, 1.000000e+02],\n",
              "       [2.980000e+00, 1.000000e+02],\n",
              "       ...,\n",
              "       [9.703000e+01, 2.992177e+04],\n",
              "       [9.802000e+01, 2.992177e+04],\n",
              "       [9.901000e+01, 2.992177e+04]])"
            ]
          },
          "metadata": {
            "tags": []
          },
          "execution_count": 32
        }
      ]
    },
    {
      "cell_type": "code",
      "metadata": {
        "id": "hnmro6byWxZS",
        "colab_type": "code",
        "colab": {
          "base_uri": "https://localhost:8080/",
          "height": 136
        },
        "outputId": "619872a5-6f1a-43e2-c8dd-d67cb4d79a92"
      },
      "source": [
        "z = modelo.predict(pontos)\n",
        "z = z.reshape(xx.shape)\n",
        "z"
      ],
      "execution_count": null,
      "outputs": [
        {
          "output_type": "execute_result",
          "data": {
            "text/plain": [
              "array([[0, 0, 0, ..., 0, 0, 0],\n",
              "       [1, 1, 1, ..., 1, 0, 0],\n",
              "       [1, 1, 1, ..., 1, 1, 1],\n",
              "       ...,\n",
              "       [1, 1, 1, ..., 1, 1, 1],\n",
              "       [1, 1, 1, ..., 1, 1, 1],\n",
              "       [1, 1, 1, ..., 1, 1, 1]])"
            ]
          },
          "metadata": {
            "tags": []
          },
          "execution_count": 33
        }
      ]
    },
    {
      "cell_type": "markdown",
      "metadata": {
        "id": "4vadEkpgXtLB",
        "colab_type": "text"
      },
      "source": [
        "#Decision boundary\n"
      ]
    },
    {
      "cell_type": "code",
      "metadata": {
        "id": "-wyzvwC4W_-h",
        "colab_type": "code",
        "colab": {
          "base_uri": "https://localhost:8080/",
          "height": 282
        },
        "outputId": "13c94474-96d3-495f-c70e-85f9efdc11bf"
      },
      "source": [
        "import matplotlib.pyplot as plt\n",
        "\n",
        "plt.contourf(xx,yy,z,alpha=0.3)\n",
        "plt.scatter(teste_x['expected_hours'],teste_x['price'],c=teste_y,s=1)\n",
        "\n"
      ],
      "execution_count": null,
      "outputs": [
        {
          "output_type": "execute_result",
          "data": {
            "text/plain": [
              "<matplotlib.collections.PathCollection at 0x7fe65d472780>"
            ]
          },
          "metadata": {
            "tags": []
          },
          "execution_count": 34
        },
        {
          "output_type": "display_data",
          "data": {
            "image/png": "[encoded data removed]",
            "text/plain": [
              "<Figure size 432x288 with 1 Axes>"
            ]
          },
          "metadata": {
            "tags": [],
            "needs_background": "light"
          }
        }
      ]
    },
    {
      "cell_type": "code",
      "metadata": {
        "id": "dkA8r5DRJhPx",
        "colab_type": "code",
        "colab": {
          "base_uri": "https://localhost:8080/",
          "height": 34
        },
        "outputId": "47d31e08-172b-4746-fefb-90101fa1dc34"
      },
      "source": [
        "from sklearn.model_selection import train_test_split    \n",
        "from sklearn.svm import SVC\n",
        "\n",
        "SEED = 5\n",
        "np.random.seed(SEED)\n",
        "treino_x,teste_x ,treino_y,teste_y =train_test_split(x,y, test_size=0.25, stratify=y)\n",
        "\n",
        "modelo = SVC()\n",
        "modelo.fit(treino_x,treino_y)\n",
        "previsoes = modelo.predict(teste_x)\n",
        "\n",
        "taxa_de_acertos = accuracy_score(teste_y,previsoes)\n",
        "print(f'Taxa de acertos {round(taxa_de_acertos*100,2)}%')"
      ],
      "execution_count": null,
      "outputs": [
        {
          "output_type": "stream",
          "text": [
            "Taxa de acertos 55.19%\n"
          ],
          "name": "stdout"
        }
      ]
    },
    {
      "cell_type": "code",
      "metadata": {
        "id": "COBHiD-tJ3Z_",
        "colab_type": "code",
        "colab": {
          "base_uri": "https://localhost:8080/",
          "height": 282
        },
        "outputId": "77e195fe-3c41-44df-e48f-178ca7d7198e"
      },
      "source": [
        "x_min = teste_x['expected_hours'].min()\n",
        "x_max = teste_x['expected_hours'].max()\n",
        "y_min = teste_x['price'].min()\n",
        "y_max = teste_x['price'].max()\n",
        "\n",
        "pixels =100\n",
        "eixo_x = np.arange(x_min, x_max, (x_max-x_min)/pixels)\n",
        "eixo_y = np.arange(y_min, y_max, (y_max-y_min)/pixels)\n",
        "\n",
        "xx , yy = np.meshgrid(eixo_x,eixo_y)\n",
        "pontos = np.c_[xx.ravel(),yy.ravel()]\n",
        "\n",
        "z = modelo.predict(pontos)\n",
        "z = z.reshape(xx.shape)\n",
        "\n",
        "plt.contourf(xx,yy,z,alpha=0.3)\n",
        "plt.scatter(teste_x['expected_hours'],teste_x['price'],c=teste_y,s=1)"
      ],
      "execution_count": null,
      "outputs": [
        {
          "output_type": "execute_result",
          "data": {
            "text/plain": [
              "<matplotlib.collections.PathCollection at 0x7fe65cda1588>"
            ]
          },
          "metadata": {
            "tags": []
          },
          "execution_count": 38
        },
        {
          "output_type": "display_data",
          "data": {
            "image/png": "[encoded data removed]",
            "text/plain": [
              "<Figure size 432x288 with 1 Axes>"
            ]
          },
          "metadata": {
            "tags": [],
            "needs_background": "light"
          }
        }
      ]
    },
    {
      "cell_type": "code",
      "metadata": {
        "id": "0k5odgy1KXkN",
        "colab_type": "code",
        "colab": {
          "base_uri": "https://localhost:8080/",
          "height": 34
        },
        "outputId": "e5d2571f-0c30-4515-dba1-40ba9c7dd235"
      },
      "source": [
        "from sklearn.model_selection import train_test_split    \n",
        "from sklearn.svm import SVC\n",
        "from sklearn.preprocessing import StandardScaler\n",
        "\n",
        "SEED = 5\n",
        "np.random.seed(SEED)\n",
        "raw_treino_x,raw_teste_x ,treino_y,teste_y =train_test_split(x,y, test_size=0.25, stratify=y)\n",
        "\n",
        "scaler = StandardScaler()\n",
        "scaler.fit(raw_treino_x)\n",
        "treino_x = scaler.transform(raw_treino_x)\n",
        "teste_x = scaler.transform(raw_teste_x)\n",
        "\n",
        "modelo = SVC()\n",
        "modelo.fit(treino_x,treino_y)\n",
        "previsoes = modelo.predict(teste_x)\n",
        "\n",
        "taxa_de_acertos = accuracy_score(teste_y,previsoes)\n",
        "print(f'Taxa de acertos {round(taxa_de_acertos*100,2)}%')"
      ],
      "execution_count": null,
      "outputs": [
        {
          "output_type": "stream",
          "text": [
            "Taxa de acertos 66.85%\n"
          ],
          "name": "stdout"
        }
      ]
    },
    {
      "cell_type": "code",
      "metadata": {
        "id": "7HVhac7jLRUV",
        "colab_type": "code",
        "colab": {
          "base_uri": "https://localhost:8080/",
          "height": 282
        },
        "outputId": "6ad068e1-013e-4f7c-bf8a-7ed2e82254a7"
      },
      "source": [
        "data_x = teste_x[:,0]\n",
        "data_y = teste_x[:,1]\n",
        "\n",
        "x_min = data_x.min()\n",
        "x_max = data_x.max()\n",
        "y_min = data_y.min()\n",
        "y_max = data_y.max()\n",
        "\n",
        "pixels =100\n",
        "eixo_x = np.arange(x_min, x_max, (x_max-x_min)/pixels)\n",
        "eixo_y = np.arange(y_min, y_max, (y_max-y_min)/pixels)\n",
        "\n",
        "xx , yy = np.meshgrid(eixo_x,eixo_y)\n",
        "pontos = np.c_[xx.ravel(),yy.ravel()]\n",
        "\n",
        "z = modelo.predict(pontos)\n",
        "z = z.reshape(xx.shape)\n",
        "\n",
        "plt.contourf(xx,yy,z,alpha=0.3)\n",
        "plt.scatter(data_x,data_y,c=teste_y,s=1)"
      ],
      "execution_count": null,
      "outputs": [
        {
          "output_type": "execute_result",
          "data": {
            "text/plain": [
              "<matplotlib.collections.PathCollection at 0x7fe65cbab6d8>"
            ]
          },
          "metadata": {
            "tags": []
          },
          "execution_count": 43
        },
        {
          "output_type": "display_data",
          "data": {
            "image/png": "[encoded data removed]",
            "text/plain": [
              "<Figure size 432x288 with 1 Axes>"
            ]
          },
          "metadata": {
            "tags": [],
            "needs_background": "light"
          }
        }
      ]
    },
    {
      "cell_type": "markdown",
      "metadata": {
        "id": "Kq0akc2UM8FL",
        "colab_type": "text"
      },
      "source": [
        "#Terceira parte"
      ]
    },
    {
      "cell_type": "code",
      "metadata": {
        "id": "fu1uJcvsM7B1",
        "colab_type": "code",
        "colab": {
          "base_uri": "https://localhost:8080/",
          "height": 204
        },
        "outputId": "5c9a00af-a2c0-49d6-9c3a-bf4f75453e7a"
      },
      "source": [
        "url = 'https://gist.githubusercontent.com/guilhermesilveira/4d1d4a16ccbf6ea4e0a64a38a24ec884/raw/afd05cb0c796d18f3f5a6537053ded308ba94bf7/car-prices.csv'\n",
        "\n",
        "dados = pd.read_csv(url)\n",
        "dados.head(5)"
      ],
      "execution_count": null,
      "outputs": [
        {
          "output_type": "execute_result",
          "data": {
            "text/html": [
              "<div>\n",
              "<style scoped>\n",
              "    .dataframe tbody tr th:only-of-type {\n",
              "        vertical-align: middle;\n",
              "    }\n",
              "\n",
              "    .dataframe tbody tr th {\n",
              "        vertical-align: top;\n",
              "    }\n",
              "\n",
              "    .dataframe thead th {\n",
              "        text-align: right;\n",
              "    }\n",
              "</style>\n",
              "<table border=\"1\" class=\"dataframe\">\n",
              "  <thead>\n",
              "    <tr style=\"text-align: right;\">\n",
              "      <th></th>\n",
              "      <th>Unnamed: 0</th>\n",
              "      <th>mileage_per_year</th>\n",
              "      <th>model_year</th>\n",
              "      <th>price</th>\n",
              "      <th>sold</th>\n",
              "    </tr>\n",
              "  </thead>\n",
              "  <tbody>\n",
              "    <tr>\n",
              "      <th>0</th>\n",
              "      <td>0</td>\n",
              "      <td>21801</td>\n",
              "      <td>2000</td>\n",
              "      <td>30941.02</td>\n",
              "      <td>yes</td>\n",
              "    </tr>\n",
              "    <tr>\n",
              "      <th>1</th>\n",
              "      <td>1</td>\n",
              "      <td>7843</td>\n",
              "      <td>1998</td>\n",
              "      <td>40557.96</td>\n",
              "      <td>yes</td>\n",
              "    </tr>\n",
              "    <tr>\n",
              "      <th>2</th>\n",
              "      <td>2</td>\n",
              "      <td>7109</td>\n",
              "      <td>2006</td>\n",
              "      <td>89627.50</td>\n",
              "      <td>no</td>\n",
              "    </tr>\n",
              "    <tr>\n",
              "      <th>3</th>\n",
              "      <td>3</td>\n",
              "      <td>26823</td>\n",
              "      <td>2015</td>\n",
              "      <td>95276.14</td>\n",
              "      <td>no</td>\n",
              "    </tr>\n",
              "    <tr>\n",
              "      <th>4</th>\n",
              "      <td>4</td>\n",
              "      <td>7935</td>\n",
              "      <td>2014</td>\n",
              "      <td>117384.68</td>\n",
              "      <td>yes</td>\n",
              "    </tr>\n",
              "  </tbody>\n",
              "</table>\n",
              "</div>"
            ],
            "text/plain": [
              "   Unnamed: 0  mileage_per_year  model_year      price sold\n",
              "0           0             21801        2000   30941.02  yes\n",
              "1           1              7843        1998   40557.96  yes\n",
              "2           2              7109        2006   89627.50   no\n",
              "3           3             26823        2015   95276.14   no\n",
              "4           4              7935        2014  117384.68  yes"
            ]
          },
          "metadata": {
            "tags": []
          },
          "execution_count": 45
        }
      ]
    },
    {
      "cell_type": "code",
      "metadata": {
        "id": "GWCIub11NzM2",
        "colab_type": "code",
        "colab": {
          "base_uri": "https://localhost:8080/",
          "height": 359
        },
        "outputId": "97cf3b03-bf77-4cfd-8608-9d89a9ab4633"
      },
      "source": [
        "change = {\n",
        "    'yes':1,\n",
        "    'no':0\n",
        "}\n",
        "dados['sold'] = dados['sold'].map(change)\n",
        "dados.head(10)"
      ],
      "execution_count": null,
      "outputs": [
        {
          "output_type": "execute_result",
          "data": {
            "text/html": [
              "<div>\n",
              "<style scoped>\n",
              "    .dataframe tbody tr th:only-of-type {\n",
              "        vertical-align: middle;\n",
              "    }\n",
              "\n",
              "    .dataframe tbody tr th {\n",
              "        vertical-align: top;\n",
              "    }\n",
              "\n",
              "    .dataframe thead th {\n",
              "        text-align: right;\n",
              "    }\n",
              "</style>\n",
              "<table border=\"1\" class=\"dataframe\">\n",
              "  <thead>\n",
              "    <tr style=\"text-align: right;\">\n",
              "      <th></th>\n",
              "      <th>Unnamed: 0</th>\n",
              "      <th>mileage_per_year</th>\n",
              "      <th>model_year</th>\n",
              "      <th>price</th>\n",
              "      <th>sold</th>\n",
              "    </tr>\n",
              "  </thead>\n",
              "  <tbody>\n",
              "    <tr>\n",
              "      <th>0</th>\n",
              "      <td>0</td>\n",
              "      <td>21801</td>\n",
              "      <td>2000</td>\n",
              "      <td>30941.02</td>\n",
              "      <td>1</td>\n",
              "    </tr>\n",
              "    <tr>\n",
              "      <th>1</th>\n",
              "      <td>1</td>\n",
              "      <td>7843</td>\n",
              "      <td>1998</td>\n",
              "      <td>40557.96</td>\n",
              "      <td>1</td>\n",
              "    </tr>\n",
              "    <tr>\n",
              "      <th>2</th>\n",
              "      <td>2</td>\n",
              "      <td>7109</td>\n",
              "      <td>2006</td>\n",
              "      <td>89627.50</td>\n",
              "      <td>0</td>\n",
              "    </tr>\n",
              "    <tr>\n",
              "      <th>3</th>\n",
              "      <td>3</td>\n",
              "      <td>26823</td>\n",
              "      <td>2015</td>\n",
              "      <td>95276.14</td>\n",
              "      <td>0</td>\n",
              "    </tr>\n",
              "    <tr>\n",
              "      <th>4</th>\n",
              "      <td>4</td>\n",
              "      <td>7935</td>\n",
              "      <td>2014</td>\n",
              "      <td>117384.68</td>\n",
              "      <td>1</td>\n",
              "    </tr>\n",
              "    <tr>\n",
              "      <th>5</th>\n",
              "      <td>5</td>\n",
              "      <td>14661</td>\n",
              "      <td>2007</td>\n",
              "      <td>55405.26</td>\n",
              "      <td>1</td>\n",
              "    </tr>\n",
              "    <tr>\n",
              "      <th>6</th>\n",
              "      <td>6</td>\n",
              "      <td>9990</td>\n",
              "      <td>2002</td>\n",
              "      <td>93415.61</td>\n",
              "      <td>1</td>\n",
              "    </tr>\n",
              "    <tr>\n",
              "      <th>7</th>\n",
              "      <td>7</td>\n",
              "      <td>11599</td>\n",
              "      <td>2008</td>\n",
              "      <td>65265.09</td>\n",
              "      <td>0</td>\n",
              "    </tr>\n",
              "    <tr>\n",
              "      <th>8</th>\n",
              "      <td>8</td>\n",
              "      <td>7834</td>\n",
              "      <td>1999</td>\n",
              "      <td>43917.53</td>\n",
              "      <td>1</td>\n",
              "    </tr>\n",
              "    <tr>\n",
              "      <th>9</th>\n",
              "      <td>9</td>\n",
              "      <td>14913</td>\n",
              "      <td>2003</td>\n",
              "      <td>107860.41</td>\n",
              "      <td>1</td>\n",
              "    </tr>\n",
              "  </tbody>\n",
              "</table>\n",
              "</div>"
            ],
            "text/plain": [
              "   Unnamed: 0  mileage_per_year  model_year      price  sold\n",
              "0           0             21801        2000   30941.02     1\n",
              "1           1              7843        1998   40557.96     1\n",
              "2           2              7109        2006   89627.50     0\n",
              "3           3             26823        2015   95276.14     0\n",
              "4           4              7935        2014  117384.68     1\n",
              "5           5             14661        2007   55405.26     1\n",
              "6           6              9990        2002   93415.61     1\n",
              "7           7             11599        2008   65265.09     0\n",
              "8           8              7834        1999   43917.53     1\n",
              "9           9             14913        2003  107860.41     1"
            ]
          },
          "metadata": {
            "tags": []
          },
          "execution_count": 46
        }
      ]
    },
    {
      "cell_type": "code",
      "metadata": {
        "id": "7Z1vM0WiOM9F",
        "colab_type": "code",
        "colab": {
          "base_uri": "https://localhost:8080/",
          "height": 359
        },
        "outputId": "072b2be6-00f0-4297-d25a-ca0c0f00b1b5"
      },
      "source": [
        "from datetime import datetime\n",
        "dados['age'] = datetime.today().year - dados['model_year']\n",
        "dados['km_per_year'] = dados['mileage_per_year'] * 1.60934\n",
        "dados = dados.drop(columns=['Unnamed: 0',\t'mileage_per_year',\t'model_year'])\n",
        "dados.head(10)"
      ],
      "execution_count": null,
      "outputs": [
        {
          "output_type": "execute_result",
          "data": {
            "text/html": [
              "<div>\n",
              "<style scoped>\n",
              "    .dataframe tbody tr th:only-of-type {\n",
              "        vertical-align: middle;\n",
              "    }\n",
              "\n",
              "    .dataframe tbody tr th {\n",
              "        vertical-align: top;\n",
              "    }\n",
              "\n",
              "    .dataframe thead th {\n",
              "        text-align: right;\n",
              "    }\n",
              "</style>\n",
              "<table border=\"1\" class=\"dataframe\">\n",
              "  <thead>\n",
              "    <tr style=\"text-align: right;\">\n",
              "      <th></th>\n",
              "      <th>price</th>\n",
              "      <th>sold</th>\n",
              "      <th>age</th>\n",
              "      <th>km_per_year</th>\n",
              "    </tr>\n",
              "  </thead>\n",
              "  <tbody>\n",
              "    <tr>\n",
              "      <th>0</th>\n",
              "      <td>30941.02</td>\n",
              "      <td>1</td>\n",
              "      <td>20</td>\n",
              "      <td>35085.22134</td>\n",
              "    </tr>\n",
              "    <tr>\n",
              "      <th>1</th>\n",
              "      <td>40557.96</td>\n",
              "      <td>1</td>\n",
              "      <td>22</td>\n",
              "      <td>12622.05362</td>\n",
              "    </tr>\n",
              "    <tr>\n",
              "      <th>2</th>\n",
              "      <td>89627.50</td>\n",
              "      <td>0</td>\n",
              "      <td>14</td>\n",
              "      <td>11440.79806</td>\n",
              "    </tr>\n",
              "    <tr>\n",
              "      <th>3</th>\n",
              "      <td>95276.14</td>\n",
              "      <td>0</td>\n",
              "      <td>5</td>\n",
              "      <td>43167.32682</td>\n",
              "    </tr>\n",
              "    <tr>\n",
              "      <th>4</th>\n",
              "      <td>117384.68</td>\n",
              "      <td>1</td>\n",
              "      <td>6</td>\n",
              "      <td>12770.11290</td>\n",
              "    </tr>\n",
              "    <tr>\n",
              "      <th>5</th>\n",
              "      <td>55405.26</td>\n",
              "      <td>1</td>\n",
              "      <td>13</td>\n",
              "      <td>23594.53374</td>\n",
              "    </tr>\n",
              "    <tr>\n",
              "      <th>6</th>\n",
              "      <td>93415.61</td>\n",
              "      <td>1</td>\n",
              "      <td>18</td>\n",
              "      <td>16077.30660</td>\n",
              "    </tr>\n",
              "    <tr>\n",
              "      <th>7</th>\n",
              "      <td>65265.09</td>\n",
              "      <td>0</td>\n",
              "      <td>12</td>\n",
              "      <td>18666.73466</td>\n",
              "    </tr>\n",
              "    <tr>\n",
              "      <th>8</th>\n",
              "      <td>43917.53</td>\n",
              "      <td>1</td>\n",
              "      <td>21</td>\n",
              "      <td>12607.56956</td>\n",
              "    </tr>\n",
              "    <tr>\n",
              "      <th>9</th>\n",
              "      <td>107860.41</td>\n",
              "      <td>1</td>\n",
              "      <td>17</td>\n",
              "      <td>24000.08742</td>\n",
              "    </tr>\n",
              "  </tbody>\n",
              "</table>\n",
              "</div>"
            ],
            "text/plain": [
              "       price  sold  age  km_per_year\n",
              "0   30941.02     1   20  35085.22134\n",
              "1   40557.96     1   22  12622.05362\n",
              "2   89627.50     0   14  11440.79806\n",
              "3   95276.14     0    5  43167.32682\n",
              "4  117384.68     1    6  12770.11290\n",
              "5   55405.26     1   13  23594.53374\n",
              "6   93415.61     1   18  16077.30660\n",
              "7   65265.09     0   12  18666.73466\n",
              "8   43917.53     1   21  12607.56956\n",
              "9  107860.41     1   17  24000.08742"
            ]
          },
          "metadata": {
            "tags": []
          },
          "execution_count": 50
        }
      ]
    },
    {
      "cell_type": "code",
      "metadata": {
        "id": "GzbLaak_PiW4",
        "colab_type": "code",
        "colab": {}
      },
      "source": [
        "x = dados[['price'\t,\t'age',\t'km_per_year']]\n",
        "y = dados['sold']"
      ],
      "execution_count": null,
      "outputs": []
    },
    {
      "cell_type": "code",
      "metadata": {
        "id": "BubdtrQ9P-m9",
        "colab_type": "code",
        "colab": {
          "base_uri": "https://localhost:8080/",
          "height": 68
        },
        "outputId": "3fca6d6a-c6e8-48b2-b166-95fdd344943a"
      },
      "source": [
        "from sklearn.model_selection import train_test_split    \n",
        "SEED = 5\n",
        "np.random.seed(SEED)\n",
        "treino_x,teste_x ,treino_y,teste_y =train_test_split(x,y, test_size=0.25, stratify=y)\n",
        "\n",
        "modelo = LinearSVC()\n",
        "modelo.fit(treino_x,treino_y)\n",
        "previsoes = modelo.predict(teste_x)\n",
        "\n",
        "taxa_de_acertos = accuracy_score(teste_y,previsoes)\n",
        "print(f'Taxa de acertos {round(taxa_de_acertos*100,2)}%')"
      ],
      "execution_count": null,
      "outputs": [
        {
          "output_type": "stream",
          "text": [
            "Taxa de acertos 58.0%\n"
          ],
          "name": "stdout"
        },
        {
          "output_type": "stream",
          "text": [
            "/usr/local/lib/python3.6/dist-packages/sklearn/svm/_base.py:947: ConvergenceWarning: Liblinear failed to converge, increase the number of iterations.\n",
            "  \"the number of iterations.\", ConvergenceWarning)\n"
          ],
          "name": "stderr"
        }
      ]
    },
    {
      "cell_type": "code",
      "metadata": {
        "id": "57f7s2M2QiEE",
        "colab_type": "code",
        "colab": {
          "base_uri": "https://localhost:8080/",
          "height": 34
        },
        "outputId": "6fbfd079-de89-4c16-9ac2-be10488841a6"
      },
      "source": [
        "from sklearn.dummy import DummyClassifier\n",
        "np.random.seed(SEED)\n",
        "dummy_stratified = DummyClassifier(strategy='stratified')\n",
        "dummy_stratified.fit(treino_x,treino_y)\n",
        "taxa_de_acertos = dummy_stratified.score(teste_x,teste_y)\n",
        "print(f'Taxa de acertos dummy stratified {round(taxa_de_acertos*100,2)}%')"
      ],
      "execution_count": null,
      "outputs": [
        {
          "output_type": "stream",
          "text": [
            "Taxa de acertos dummy stratified 51.24%\n"
          ],
          "name": "stdout"
        }
      ]
    },
    {
      "cell_type": "code",
      "metadata": {
        "id": "xpvrvvdZRVEN",
        "colab_type": "code",
        "colab": {
          "base_uri": "https://localhost:8080/",
          "height": 34
        },
        "outputId": "bbf672c6-a4d4-47bf-f59c-6e7ed60075ef"
      },
      "source": [
        "from sklearn.dummy import DummyClassifier\n",
        "np.random.seed(SEED)\n",
        "dummy_mostfrequent = DummyClassifier(strategy='most_frequent')\n",
        "dummy_mostfrequent.fit(treino_x,treino_y)\n",
        "taxa_de_acertos = dummy_mostfrequent.score(teste_x,teste_y)\n",
        "print(f'Taxa de acertos dummy most frequent {round(taxa_de_acertos*100,2)}%')"
      ],
      "execution_count": null,
      "outputs": [
        {
          "output_type": "stream",
          "text": [
            "Taxa de acertos dummy most frequent 58.0%\n"
          ],
          "name": "stdout"
        }
      ]
    },
    {
      "cell_type": "code",
      "metadata": {
        "id": "6UbOe_ICSyEZ",
        "colab_type": "code",
        "colab": {
          "base_uri": "https://localhost:8080/",
          "height": 34
        },
        "outputId": "85101bf8-4336-4705-8d57-814ef0b480b5"
      },
      "source": [
        "SEED = 5\n",
        "np.random.seed(SEED)\n",
        "raw_treino_x,raw_teste_x ,treino_y,teste_y =train_test_split(x,y, test_size=0.25, stratify=y)\n",
        "\n",
        "scaler = StandardScaler()\n",
        "scaler.fit(raw_treino_x)\n",
        "treino_x = scaler.transform(raw_treino_x)\n",
        "teste_x = scaler.transform(raw_teste_x)\n",
        "\n",
        "modelo = SVC()\n",
        "modelo.fit(treino_x,treino_y)\n",
        "previsoes = modelo.predict(teste_x)\n",
        "\n",
        "taxa_de_acertos = accuracy_score(teste_y,previsoes)\n",
        "print(f'Taxa de acertos {round(taxa_de_acertos*100,2)}%')"
      ],
      "execution_count": null,
      "outputs": [
        {
          "output_type": "stream",
          "text": [
            "Taxa de acertos 77.48%\n"
          ],
          "name": "stdout"
        }
      ]
    },
    {
      "cell_type": "code",
      "metadata": {
        "id": "Uo2p4__qUW0E",
        "colab_type": "code",
        "colab": {
          "base_uri": "https://localhost:8080/",
          "height": 34
        },
        "outputId": "3cace667-de94-444d-abc0-03a92e04a54f"
      },
      "source": [
        "from sklearn.tree import DecisionTreeClassifier\n",
        "\n",
        "SEED = 5\n",
        "np.random.seed(SEED)\n",
        "treino_x,teste_x ,treino_y,teste_y =train_test_split(x,y, test_size=0.25, stratify=y)\n",
        "\n",
        "\n",
        "\n",
        "modelo = DecisionTreeClassifier(max_depth=3)\n",
        "modelo.fit(treino_x,treino_y)\n",
        "previsoes = modelo.predict(teste_x)\n",
        "\n",
        "taxa_de_acertos = accuracy_score(teste_y,previsoes)\n",
        "print(f'Taxa de acertos {round(taxa_de_acertos*100,2)}%')"
      ],
      "execution_count": null,
      "outputs": [
        {
          "output_type": "stream",
          "text": [
            "Taxa de acertos 79.28%\n"
          ],
          "name": "stdout"
        }
      ]
    },
    {
      "cell_type": "code",
      "metadata": {
        "id": "NLUdnwfFUtfX",
        "colab_type": "code",
        "colab": {
          "base_uri": "https://localhost:8080/",
          "height": 598
        },
        "outputId": "ba41faba-d97d-4f42-a974-94a975bdde27"
      },
      "source": [
        "from sklearn.tree import export_graphviz\n",
        "import graphviz\n",
        "\n",
        "features = x.columns\n",
        "dot_data = export_graphviz(modelo,out_file=None,feature_names=features,filled=True,class_names=['no','yes'])\n",
        "graph = graphviz.Source(dot_data)\n",
        "graph"
      ],
      "execution_count": null,
      "outputs": [
        {
          "output_type": "execute_result",
          "data": {
            "text/plain": [
              "<graphviz.files.Source at 0x7fe66f8ac588>"
            ],
            "image/svg+xml": "<?xml version=\"1.0\" encoding=\"UTF-8\" standalone=\"no\"?>\n<!DOCTYPE svg PUBLIC \"-//W3C//DTD SVG 1.1//EN\"\n \"http://www.w3.org/Graphics/SVG/1.1/DTD/svg11.dtd\">\n<!-- Generated by graphviz version 2.40.1 (20161225.0304)\n -->\n<!-- Title: Tree Pages: 1 -->\n<svg width=\"847pt\" height=\"433pt\"\n viewBox=\"0.00 0.00 847.00 433.00\" xmlns=\"http://www.w3.org/2000/svg\" xmlns:xlink=\"http://www.w3.org/1999/xlink\">\n<g id=\"graph0\" class=\"graph\" transform=\"scale(1 1) rotate(0) translate(4 429)\">\n<title>Tree</title>\n<polygon fill=\"#ffffff\" stroke=\"transparent\" points=\"-4,4 -4,-429 843,-429 843,4 -4,4\"/>\n<!-- 0 -->\n<g id=\"node1\" class=\"node\">\n<title>0</title>\n<polygon fill=\"#c8e4f8\" stroke=\"#000000\" points=\"358.5,-425 218.5,-425 218.5,-342 358.5,-342 358.5,-425\"/>\n<text text-anchor=\"middle\" x=\"288.5\" y=\"-409.8\" font-family=\"Times,serif\" font-size=\"14.00\" fill=\"#000000\">price &lt;= 59999.074</text>\n<text text-anchor=\"middle\" x=\"288.5\" y=\"-394.8\" font-family=\"Times,serif\" font-size=\"14.00\" fill=\"#000000\">gini = 0.487</text>\n<text text-anchor=\"middle\" x=\"288.5\" y=\"-379.8\" font-family=\"Times,serif\" font-size=\"14.00\" fill=\"#000000\">samples = 7500</text>\n<text text-anchor=\"middle\" x=\"288.5\" y=\"-364.8\" font-family=\"Times,serif\" font-size=\"14.00\" fill=\"#000000\">value = [3150, 4350]</text>\n<text text-anchor=\"middle\" x=\"288.5\" y=\"-349.8\" font-family=\"Times,serif\" font-size=\"14.00\" fill=\"#000000\">class = yes</text>\n</g>\n<!-- 1 -->\n<g id=\"node2\" class=\"node\">\n<title>1</title>\n<polygon fill=\"#52aae8\" stroke=\"#000000\" points=\"267.5,-306 135.5,-306 135.5,-223 267.5,-223 267.5,-306\"/>\n<text text-anchor=\"middle\" x=\"201.5\" y=\"-290.8\" font-family=\"Times,serif\" font-size=\"14.00\" fill=\"#000000\">price &lt;= 40070.154</text>\n<text text-anchor=\"middle\" x=\"201.5\" y=\"-275.8\" font-family=\"Times,serif\" font-size=\"14.00\" fill=\"#000000\">gini = 0.202</text>\n<text text-anchor=\"middle\" x=\"201.5\" y=\"-260.8\" font-family=\"Times,serif\" font-size=\"14.00\" fill=\"#000000\">samples = 3248</text>\n<text text-anchor=\"middle\" x=\"201.5\" y=\"-245.8\" font-family=\"Times,serif\" font-size=\"14.00\" fill=\"#000000\">value = [370, 2878]</text>\n<text text-anchor=\"middle\" x=\"201.5\" y=\"-230.8\" font-family=\"Times,serif\" font-size=\"14.00\" fill=\"#000000\">class = yes</text>\n</g>\n<!-- 0&#45;&gt;1 -->\n<g id=\"edge1\" class=\"edge\">\n<title>0&#45;&gt;1</title>\n<path fill=\"none\" stroke=\"#000000\" d=\"M258.0716,-341.8796C251.6189,-333.0534 244.743,-323.6485 238.0887,-314.5466\"/>\n<polygon fill=\"#000000\" stroke=\"#000000\" points=\"240.7856,-312.3051 232.0583,-306.2981 235.1347,-316.4364 240.7856,-312.3051\"/>\n<text text-anchor=\"middle\" x=\"228.2208\" y=\"-327.3018\" font-family=\"Times,serif\" font-size=\"14.00\" fill=\"#000000\">True</text>\n</g>\n<!-- 6 -->\n<g id=\"node7\" class=\"node\">\n<title>6</title>\n<polygon fill=\"#f3c4a2\" stroke=\"#000000\" points=\"519,-306 340,-306 340,-223 519,-223 519,-306\"/>\n<text text-anchor=\"middle\" x=\"429.5\" y=\"-290.8\" font-family=\"Times,serif\" font-size=\"14.00\" fill=\"#000000\">km_per_year &lt;= 24112.741</text>\n<text text-anchor=\"middle\" x=\"429.5\" y=\"-275.8\" font-family=\"Times,serif\" font-size=\"14.00\" fill=\"#000000\">gini = 0.453</text>\n<text text-anchor=\"middle\" x=\"429.5\" y=\"-260.8\" font-family=\"Times,serif\" font-size=\"14.00\" fill=\"#000000\">samples = 4252</text>\n<text text-anchor=\"middle\" x=\"429.5\" y=\"-245.8\" font-family=\"Times,serif\" font-size=\"14.00\" fill=\"#000000\">value = [2780, 1472]</text>\n<text text-anchor=\"middle\" x=\"429.5\" y=\"-230.8\" font-family=\"Times,serif\" font-size=\"14.00\" fill=\"#000000\">class = no</text>\n</g>\n<!-- 0&#45;&gt;6 -->\n<g id=\"edge6\" class=\"edge\">\n<title>0&#45;&gt;6</title>\n<path fill=\"none\" stroke=\"#000000\" d=\"M337.815,-341.8796C348.9132,-332.513 360.7835,-322.4948 372.1777,-312.8784\"/>\n<polygon fill=\"#000000\" stroke=\"#000000\" points=\"374.5899,-315.4225 379.9746,-306.2981 370.075,-310.0731 374.5899,-315.4225\"/>\n<text text-anchor=\"middle\" x=\"377.8667\" y=\"-327.5091\" font-family=\"Times,serif\" font-size=\"14.00\" fill=\"#000000\">False</text>\n</g>\n<!-- 2 -->\n<g id=\"node3\" class=\"node\">\n<title>2</title>\n<polygon fill=\"#399de5\" stroke=\"#000000\" points=\"117,-179.5 0,-179.5 0,-111.5 117,-111.5 117,-179.5\"/>\n<text text-anchor=\"middle\" x=\"58.5\" y=\"-164.3\" font-family=\"Times,serif\" font-size=\"14.00\" fill=\"#000000\">gini = 0.0</text>\n<text text-anchor=\"middle\" x=\"58.5\" y=\"-149.3\" font-family=\"Times,serif\" font-size=\"14.00\" fill=\"#000000\">samples = 1441</text>\n<text text-anchor=\"middle\" x=\"58.5\" y=\"-134.3\" font-family=\"Times,serif\" font-size=\"14.00\" fill=\"#000000\">value = [0, 1441]</text>\n<text text-anchor=\"middle\" x=\"58.5\" y=\"-119.3\" font-family=\"Times,serif\" font-size=\"14.00\" fill=\"#000000\">class = yes</text>\n</g>\n<!-- 1&#45;&gt;2 -->\n<g id=\"edge2\" class=\"edge\">\n<title>1&#45;&gt;2</title>\n<path fill=\"none\" stroke=\"#000000\" d=\"M151.4855,-222.8796C137.2147,-211.0038 121.6849,-198.0804 107.4767,-186.2568\"/>\n<polygon fill=\"#000000\" stroke=\"#000000\" points=\"109.661,-183.5212 99.7356,-179.8149 105.1834,-188.9019 109.661,-183.5212\"/>\n</g>\n<!-- 3 -->\n<g id=\"node4\" class=\"node\">\n<title>3</title>\n<polygon fill=\"#6cb6ec\" stroke=\"#000000\" points=\"267.5,-187 135.5,-187 135.5,-104 267.5,-104 267.5,-187\"/>\n<text text-anchor=\"middle\" x=\"201.5\" y=\"-171.8\" font-family=\"Times,serif\" font-size=\"14.00\" fill=\"#000000\">price &lt;= 40723.646</text>\n<text text-anchor=\"middle\" x=\"201.5\" y=\"-156.8\" font-family=\"Times,serif\" font-size=\"14.00\" fill=\"#000000\">gini = 0.326</text>\n<text text-anchor=\"middle\" x=\"201.5\" y=\"-141.8\" font-family=\"Times,serif\" font-size=\"14.00\" fill=\"#000000\">samples = 1807</text>\n<text text-anchor=\"middle\" x=\"201.5\" y=\"-126.8\" font-family=\"Times,serif\" font-size=\"14.00\" fill=\"#000000\">value = [370, 1437]</text>\n<text text-anchor=\"middle\" x=\"201.5\" y=\"-111.8\" font-family=\"Times,serif\" font-size=\"14.00\" fill=\"#000000\">class = yes</text>\n</g>\n<!-- 1&#45;&gt;3 -->\n<g id=\"edge3\" class=\"edge\">\n<title>1&#45;&gt;3</title>\n<path fill=\"none\" stroke=\"#000000\" d=\"M201.5,-222.8796C201.5,-214.6838 201.5,-205.9891 201.5,-197.5013\"/>\n<polygon fill=\"#000000\" stroke=\"#000000\" points=\"205.0001,-197.298 201.5,-187.2981 198.0001,-197.2981 205.0001,-197.298\"/>\n</g>\n<!-- 4 -->\n<g id=\"node5\" class=\"node\">\n<title>4</title>\n<polygon fill=\"#9acdf2\" stroke=\"#000000\" points=\"117.5,-68 7.5,-68 7.5,0 117.5,0 117.5,-68\"/>\n<text text-anchor=\"middle\" x=\"62.5\" y=\"-52.8\" font-family=\"Times,serif\" font-size=\"14.00\" fill=\"#000000\">gini = 0.441</text>\n<text text-anchor=\"middle\" x=\"62.5\" y=\"-37.8\" font-family=\"Times,serif\" font-size=\"14.00\" fill=\"#000000\">samples = 61</text>\n<text text-anchor=\"middle\" x=\"62.5\" y=\"-22.8\" font-family=\"Times,serif\" font-size=\"14.00\" fill=\"#000000\">value = [20, 41]</text>\n<text text-anchor=\"middle\" x=\"62.5\" y=\"-7.8\" font-family=\"Times,serif\" font-size=\"14.00\" fill=\"#000000\">class = yes</text>\n</g>\n<!-- 3&#45;&gt;4 -->\n<g id=\"edge4\" class=\"edge\">\n<title>3&#45;&gt;4</title>\n<path fill=\"none\" stroke=\"#000000\" d=\"M149.7415,-103.9815C137.8258,-94.4232 125.1644,-84.2668 113.2903,-74.7419\"/>\n<polygon fill=\"#000000\" stroke=\"#000000\" points=\"115.2049,-71.7907 105.2144,-68.2637 110.8248,-77.2511 115.2049,-71.7907\"/>\n</g>\n<!-- 5 -->\n<g id=\"node6\" class=\"node\">\n<title>5</title>\n<polygon fill=\"#6bb6ec\" stroke=\"#000000\" points=\"267.5,-68 135.5,-68 135.5,0 267.5,0 267.5,-68\"/>\n<text text-anchor=\"middle\" x=\"201.5\" y=\"-52.8\" font-family=\"Times,serif\" font-size=\"14.00\" fill=\"#000000\">gini = 0.321</text>\n<text text-anchor=\"middle\" x=\"201.5\" y=\"-37.8\" font-family=\"Times,serif\" font-size=\"14.00\" fill=\"#000000\">samples = 1746</text>\n<text text-anchor=\"middle\" x=\"201.5\" y=\"-22.8\" font-family=\"Times,serif\" font-size=\"14.00\" fill=\"#000000\">value = [350, 1396]</text>\n<text text-anchor=\"middle\" x=\"201.5\" y=\"-7.8\" font-family=\"Times,serif\" font-size=\"14.00\" fill=\"#000000\">class = yes</text>\n</g>\n<!-- 3&#45;&gt;5 -->\n<g id=\"edge5\" class=\"edge\">\n<title>3&#45;&gt;5</title>\n<path fill=\"none\" stroke=\"#000000\" d=\"M201.5,-103.9815C201.5,-95.618 201.5,-86.7965 201.5,-78.3409\"/>\n<polygon fill=\"#000000\" stroke=\"#000000\" points=\"205.0001,-78.2636 201.5,-68.2637 198.0001,-78.2637 205.0001,-78.2636\"/>\n</g>\n<!-- 7 -->\n<g id=\"node8\" class=\"node\">\n<title>7</title>\n<polygon fill=\"#fcf0e7\" stroke=\"#000000\" points=\"499.5,-187 359.5,-187 359.5,-104 499.5,-104 499.5,-187\"/>\n<text text-anchor=\"middle\" x=\"429.5\" y=\"-171.8\" font-family=\"Times,serif\" font-size=\"14.00\" fill=\"#000000\">price &lt;= 99974.41</text>\n<text text-anchor=\"middle\" x=\"429.5\" y=\"-156.8\" font-family=\"Times,serif\" font-size=\"14.00\" fill=\"#000000\">gini = 0.498</text>\n<text text-anchor=\"middle\" x=\"429.5\" y=\"-141.8\" font-family=\"Times,serif\" font-size=\"14.00\" fill=\"#000000\">samples = 2649</text>\n<text text-anchor=\"middle\" x=\"429.5\" y=\"-126.8\" font-family=\"Times,serif\" font-size=\"14.00\" fill=\"#000000\">value = [1409, 1240]</text>\n<text text-anchor=\"middle\" x=\"429.5\" y=\"-111.8\" font-family=\"Times,serif\" font-size=\"14.00\" fill=\"#000000\">class = no</text>\n</g>\n<!-- 6&#45;&gt;7 -->\n<g id=\"edge7\" class=\"edge\">\n<title>6&#45;&gt;7</title>\n<path fill=\"none\" stroke=\"#000000\" d=\"M429.5,-222.8796C429.5,-214.6838 429.5,-205.9891 429.5,-197.5013\"/>\n<polygon fill=\"#000000\" stroke=\"#000000\" points=\"433.0001,-197.298 429.5,-187.2981 426.0001,-197.2981 433.0001,-197.298\"/>\n</g>\n<!-- 10 -->\n<g id=\"node11\" class=\"node\">\n<title>10</title>\n<polygon fill=\"#e9965b\" stroke=\"#000000\" points=\"711.5,-187 571.5,-187 571.5,-104 711.5,-104 711.5,-187\"/>\n<text text-anchor=\"middle\" x=\"641.5\" y=\"-171.8\" font-family=\"Times,serif\" font-size=\"14.00\" fill=\"#000000\">price &lt;= 100076.957</text>\n<text text-anchor=\"middle\" x=\"641.5\" y=\"-156.8\" font-family=\"Times,serif\" font-size=\"14.00\" fill=\"#000000\">gini = 0.248</text>\n<text text-anchor=\"middle\" x=\"641.5\" y=\"-141.8\" font-family=\"Times,serif\" font-size=\"14.00\" fill=\"#000000\">samples = 1603</text>\n<text text-anchor=\"middle\" x=\"641.5\" y=\"-126.8\" font-family=\"Times,serif\" font-size=\"14.00\" fill=\"#000000\">value = [1371, 232]</text>\n<text text-anchor=\"middle\" x=\"641.5\" y=\"-111.8\" font-family=\"Times,serif\" font-size=\"14.00\" fill=\"#000000\">class = no</text>\n</g>\n<!-- 6&#45;&gt;10 -->\n<g id=\"edge10\" class=\"edge\">\n<title>6&#45;&gt;10</title>\n<path fill=\"none\" stroke=\"#000000\" d=\"M503.6473,-222.8796C522.6997,-212.1851 543.2655,-200.6411 562.5511,-189.8157\"/>\n<polygon fill=\"#000000\" stroke=\"#000000\" points=\"564.3049,-192.8449 571.3119,-184.898 560.8785,-186.7408 564.3049,-192.8449\"/>\n</g>\n<!-- 8 -->\n<g id=\"node9\" class=\"node\">\n<title>8</title>\n<polygon fill=\"#f9e0cf\" stroke=\"#000000\" points=\"417.5,-68 285.5,-68 285.5,0 417.5,0 417.5,-68\"/>\n<text text-anchor=\"middle\" x=\"351.5\" y=\"-52.8\" font-family=\"Times,serif\" font-size=\"14.00\" fill=\"#000000\">gini = 0.49</text>\n<text text-anchor=\"middle\" x=\"351.5\" y=\"-37.8\" font-family=\"Times,serif\" font-size=\"14.00\" fill=\"#000000\">samples = 2223</text>\n<text text-anchor=\"middle\" x=\"351.5\" y=\"-22.8\" font-family=\"Times,serif\" font-size=\"14.00\" fill=\"#000000\">value = [1266, 957]</text>\n<text text-anchor=\"middle\" x=\"351.5\" y=\"-7.8\" font-family=\"Times,serif\" font-size=\"14.00\" fill=\"#000000\">class = no</text>\n</g>\n<!-- 7&#45;&gt;8 -->\n<g id=\"edge8\" class=\"edge\">\n<title>7&#45;&gt;8</title>\n<path fill=\"none\" stroke=\"#000000\" d=\"M400.4557,-103.9815C394.2192,-95.0666 387.6187,-85.6313 381.3522,-76.6734\"/>\n<polygon fill=\"#000000\" stroke=\"#000000\" points=\"384.0693,-74.4515 375.4692,-68.2637 378.3335,-78.464 384.0693,-74.4515\"/>\n</g>\n<!-- 9 -->\n<g id=\"node10\" class=\"node\">\n<title>9</title>\n<polygon fill=\"#9dcff2\" stroke=\"#000000\" points=\"561,-68 436,-68 436,0 561,0 561,-68\"/>\n<text text-anchor=\"middle\" x=\"498.5\" y=\"-52.8\" font-family=\"Times,serif\" font-size=\"14.00\" fill=\"#000000\">gini = 0.446</text>\n<text text-anchor=\"middle\" x=\"498.5\" y=\"-37.8\" font-family=\"Times,serif\" font-size=\"14.00\" fill=\"#000000\">samples = 426</text>\n<text text-anchor=\"middle\" x=\"498.5\" y=\"-22.8\" font-family=\"Times,serif\" font-size=\"14.00\" fill=\"#000000\">value = [143, 283]</text>\n<text text-anchor=\"middle\" x=\"498.5\" y=\"-7.8\" font-family=\"Times,serif\" font-size=\"14.00\" fill=\"#000000\">class = yes</text>\n</g>\n<!-- 7&#45;&gt;9 -->\n<g id=\"edge9\" class=\"edge\">\n<title>7&#45;&gt;9</title>\n<path fill=\"none\" stroke=\"#000000\" d=\"M455.1931,-103.9815C460.6531,-95.1585 466.4284,-85.8258 471.9207,-76.9506\"/>\n<polygon fill=\"#000000\" stroke=\"#000000\" points=\"475.0104,-78.609 477.2965,-68.2637 469.058,-74.9254 475.0104,-78.609\"/>\n</g>\n<!-- 11 -->\n<g id=\"node12\" class=\"node\">\n<title>11</title>\n<polygon fill=\"#e68742\" stroke=\"#000000\" points=\"704,-68 579,-68 579,0 704,0 704,-68\"/>\n<text text-anchor=\"middle\" x=\"641.5\" y=\"-52.8\" font-family=\"Times,serif\" font-size=\"14.00\" fill=\"#000000\">gini = 0.086</text>\n<text text-anchor=\"middle\" x=\"641.5\" y=\"-37.8\" font-family=\"Times,serif\" font-size=\"14.00\" fill=\"#000000\">samples = 1356</text>\n<text text-anchor=\"middle\" x=\"641.5\" y=\"-22.8\" font-family=\"Times,serif\" font-size=\"14.00\" fill=\"#000000\">value = [1295, 61]</text>\n<text text-anchor=\"middle\" x=\"641.5\" y=\"-7.8\" font-family=\"Times,serif\" font-size=\"14.00\" fill=\"#000000\">class = no</text>\n</g>\n<!-- 10&#45;&gt;11 -->\n<g id=\"edge11\" class=\"edge\">\n<title>10&#45;&gt;11</title>\n<path fill=\"none\" stroke=\"#000000\" d=\"M641.5,-103.9815C641.5,-95.618 641.5,-86.7965 641.5,-78.3409\"/>\n<polygon fill=\"#000000\" stroke=\"#000000\" points=\"645.0001,-78.2636 641.5,-68.2637 638.0001,-78.2637 645.0001,-78.2636\"/>\n</g>\n<!-- 12 -->\n<g id=\"node13\" class=\"node\">\n<title>12</title>\n<polygon fill=\"#91c9f1\" stroke=\"#000000\" points=\"839,-68 722,-68 722,0 839,0 839,-68\"/>\n<text text-anchor=\"middle\" x=\"780.5\" y=\"-52.8\" font-family=\"Times,serif\" font-size=\"14.00\" fill=\"#000000\">gini = 0.426</text>\n<text text-anchor=\"middle\" x=\"780.5\" y=\"-37.8\" font-family=\"Times,serif\" font-size=\"14.00\" fill=\"#000000\">samples = 247</text>\n<text text-anchor=\"middle\" x=\"780.5\" y=\"-22.8\" font-family=\"Times,serif\" font-size=\"14.00\" fill=\"#000000\">value = [76, 171]</text>\n<text text-anchor=\"middle\" x=\"780.5\" y=\"-7.8\" font-family=\"Times,serif\" font-size=\"14.00\" fill=\"#000000\">class = yes</text>\n</g>\n<!-- 10&#45;&gt;12 -->\n<g id=\"edge12\" class=\"edge\">\n<title>10&#45;&gt;12</title>\n<path fill=\"none\" stroke=\"#000000\" d=\"M693.2585,-103.9815C705.1742,-94.4232 717.8356,-84.2668 729.7097,-74.7419\"/>\n<polygon fill=\"#000000\" stroke=\"#000000\" points=\"732.1752,-77.2511 737.7856,-68.2637 727.7951,-71.7907 732.1752,-77.2511\"/>\n</g>\n</g>\n</svg>\n"
          },
          "metadata": {
            "tags": []
          },
          "execution_count": 95
        }
      ]
    }
  ]
}
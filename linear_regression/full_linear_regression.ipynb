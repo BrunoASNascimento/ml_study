{
  "nbformat": 4,
  "nbformat_minor": 0,
  "metadata": {
    "kernelspec": {
      "display_name": "Python [conda env:dl]",
      "language": "python",
      "name": "conda-env-dl-py"
    },
    "language_info": {
      "codemirror_mode": {
        "name": "ipython",
        "version": 3
      },
      "file_extension": ".py",
      "mimetype": "text/x-python",
      "name": "python",
      "nbconvert_exporter": "python",
      "pygments_lexer": "ipython3",
      "version": "3.6.7"
    },
    "colab": {
      "name": "full_linear_regression.ipynb",
      "provenance": []
    }
  },
  "cells": [
    {
      "cell_type": "markdown",
      "metadata": {
        "id": "Gq_HaVnE4lJy"
      },
      "source": [
        "<h1 style='color: green; font-size: 30px; font-weight: bold;'>Data Science - Regressão Linear: de baixo dos panos</h1>"
      ]
    },
    {
      "cell_type": "markdown",
      "metadata": {
        "id": "WpowqCZT4lJy"
      },
      "source": [
        "# 1.1 Conhecendo o Dataset"
      ]
    },
    {
      "cell_type": "markdown",
      "metadata": {
        "id": "F45ntle-4lJy"
      },
      "source": [
        "## Importando o numpy, pandas e random"
      ]
    },
    {
      "cell_type": "code",
      "metadata": {
        "id": "fnBvcpbE4lJy"
      },
      "source": [
        "import numpy as np\n",
        "import pandas as pd\n",
        "import random\n",
        "random.seed(42)"
      ],
      "execution_count": 1,
      "outputs": []
    },
    {
      "cell_type": "markdown",
      "metadata": {
        "id": "fCKsVA944lJz"
      },
      "source": [
        "## O Dataset e o Projeto\n",
        "<hr>\n",
        "\n",
        "### Descrição:\n",
        "<p style='font-size: 15px; line-height: 2; margin: 10px 50px; text-align: justify; text-indent: 35px;'>O mercado imobiliário vem sendo objeto de diversos estudos e pesquisas nos últimos tempos. A crise financeira que afeta a economia tem afetado significativamente os investimentos e ganhos advindos deste setor. Este cenário incentiva o aumento do interesse por estudos de previsão de demanda baseados em características deste mercado, dos imóveis e do entorno destes imóveis.</p>\n",
        "\n",
        "<p style='font-size: 15px; line-height: 2; margin: 10px 50px; text-align: justify; text-indent: 35px;'>Neste contexto o objetivo principal do nosso projeto é desenvolver um sistema de avaliação imobiliária utilizando a metodologia de regressões lineares que é uma das técnicas de machine learning.</p>\n",
        "\n",
        "<p style='font-size: 15px; line-height: 2; margin: 10px 50px; text-align: justify; text-indent: 35px;'>Nosso dataset é uma amostra aleatória de tamanho 5000 de imóveis disponíveis para venda no município do Rio de Janeiro.</p>\n",
        "\n",
        "### Dados:\n",
        "<ul style='font-size: 15px; line-height: 2; text-align: justify;'>\n",
        "    <li><b>Valor</b> - Valor (R$) de oferta do imóvel;</li>\n",
        "    <li><b>Area</b> - Área do imóvel em m².</li>\n",
        "</ul>"
      ]
    },
    {
      "cell_type": "code",
      "metadata": {
        "id": "Ynuj6InT4lJz"
      },
      "source": [
        "try:\n",
        "    dados = pd.read_csv('data/dados_imoveis.csv',sep=';')\n",
        "except:\n",
        "    dados = pd.read_csv('https://raw.githubusercontent.com/BrunoASNascimento/ml_study/master/data/dados_imoveis.csv',sep=';')    "
      ],
      "execution_count": 2,
      "outputs": []
    },
    {
      "cell_type": "code",
      "metadata": {
        "colab": {
          "base_uri": "https://localhost:8080/",
          "height": 204
        },
        "id": "Np4h1RyF4lJz",
        "outputId": "941aae48-003b-44b7-9226-113a4e5dedad"
      },
      "source": [
        "dados.head()"
      ],
      "execution_count": 3,
      "outputs": [
        {
          "output_type": "execute_result",
          "data": {
            "text/html": [
              "<div>\n",
              "<style scoped>\n",
              "    .dataframe tbody tr th:only-of-type {\n",
              "        vertical-align: middle;\n",
              "    }\n",
              "\n",
              "    .dataframe tbody tr th {\n",
              "        vertical-align: top;\n",
              "    }\n",
              "\n",
              "    .dataframe thead th {\n",
              "        text-align: right;\n",
              "    }\n",
              "</style>\n",
              "<table border=\"1\" class=\"dataframe\">\n",
              "  <thead>\n",
              "    <tr style=\"text-align: right;\">\n",
              "      <th></th>\n",
              "      <th>Valor</th>\n",
              "      <th>Area</th>\n",
              "      <th>Dist_Praia</th>\n",
              "      <th>Dist_Farmacia</th>\n",
              "    </tr>\n",
              "  </thead>\n",
              "  <tbody>\n",
              "    <tr>\n",
              "      <th>0</th>\n",
              "      <td>4600000</td>\n",
              "      <td>280</td>\n",
              "      <td>0.240925</td>\n",
              "      <td>0.793637</td>\n",
              "    </tr>\n",
              "    <tr>\n",
              "      <th>1</th>\n",
              "      <td>900000</td>\n",
              "      <td>208</td>\n",
              "      <td>0.904136</td>\n",
              "      <td>0.134494</td>\n",
              "    </tr>\n",
              "    <tr>\n",
              "      <th>2</th>\n",
              "      <td>2550000</td>\n",
              "      <td>170</td>\n",
              "      <td>0.059525</td>\n",
              "      <td>0.423318</td>\n",
              "    </tr>\n",
              "    <tr>\n",
              "      <th>3</th>\n",
              "      <td>550000</td>\n",
              "      <td>100</td>\n",
              "      <td>2.883181</td>\n",
              "      <td>0.525064</td>\n",
              "    </tr>\n",
              "    <tr>\n",
              "      <th>4</th>\n",
              "      <td>2200000</td>\n",
              "      <td>164</td>\n",
              "      <td>0.239758</td>\n",
              "      <td>0.192374</td>\n",
              "    </tr>\n",
              "  </tbody>\n",
              "</table>\n",
              "</div>"
            ],
            "text/plain": [
              "     Valor  Area  Dist_Praia  Dist_Farmacia\n",
              "0  4600000   280    0.240925       0.793637\n",
              "1   900000   208    0.904136       0.134494\n",
              "2  2550000   170    0.059525       0.423318\n",
              "3   550000   100    2.883181       0.525064\n",
              "4  2200000   164    0.239758       0.192374"
            ]
          },
          "metadata": {
            "tags": []
          },
          "execution_count": 3
        }
      ]
    },
    {
      "cell_type": "code",
      "metadata": {
        "id": "JSTXISUo4lJz"
      },
      "source": [
        "valor = np.log(dados['Valor'])\n",
        "area = np.log(dados['Area'])"
      ],
      "execution_count": 4,
      "outputs": []
    },
    {
      "cell_type": "code",
      "metadata": {
        "id": "u31Y9hub4lJz"
      },
      "source": [
        "import matplotlib.pyplot as plt\n",
        "import seaborn as sns\n",
        "%matplotlib inline"
      ],
      "execution_count": 5,
      "outputs": []
    },
    {
      "cell_type": "code",
      "metadata": {
        "colab": {
          "base_uri": "https://localhost:8080/",
          "height": 295
        },
        "id": "QqaFc9t94lJz",
        "outputId": "5bac099b-9179-4ee1-8774-a42cc9823fee"
      },
      "source": [
        "ax = sns.scatterplot(x=area, y=valor)\n",
        "\n",
        "ax.set_title('Dados dispersos')\n",
        "ax.set_xlabel('Área')\n",
        "ax.set_ylabel('Valor')\n",
        "plt.show()"
      ],
      "execution_count": 6,
      "outputs": [
        {
          "output_type": "display_data",
          "data": {
            "image/png": "[encoded data removed]",
            "text/plain": [
              "<Figure size 432x288 with 1 Axes>"
            ]
          },
          "metadata": {
            "tags": [],
            "needs_background": "light"
          }
        }
      ]
    },
    {
      "cell_type": "markdown",
      "metadata": {
        "id": "Vb_Q9AEc4lJ0"
      },
      "source": [
        "Podemos então definir uma hipótese a partir das constantes $\\alpha$ e $\\beta$ tal que:\n",
        "\n",
        "$$y_i = \\theta_1 x_i + \\theta_0 + \\epsilon_i$$"
      ]
    },
    {
      "cell_type": "markdown",
      "metadata": {
        "id": "qsMHmZ1K4lJ0"
      },
      "source": [
        "Sendo $y_i$ é o valor de um determinado imóvel, $x_i$ é a área deste mesmo imóvel e o termo $\\epsilon_i$ é o termo de erro (esperamos que pequeno) representando que existem fatores não levados em consideração para este modelo simples.\n",
        "\n",
        "Supondo que temos $\\theta_1$ e $\\theta_0$, podemos fazer uma previsão através facilmente."
      ]
    },
    {
      "cell_type": "code",
      "metadata": {
        "id": "sCOwBJeY4lJ0"
      },
      "source": [
        "def prever(theta0, theta1, x_i):\n",
        "    return theta1*x_i + theta0 "
      ],
      "execution_count": 7,
      "outputs": []
    },
    {
      "cell_type": "markdown",
      "metadata": {
        "id": "nAFmkaUH4lJ0"
      },
      "source": [
        "Como vamos escolher as constântes $\\theta_0$ e $\\theta_1$?\n",
        "\n",
        "Sabendo que podemos calcular a saída prevista com a função \"prever\" e sabendo qual é a saída real, é possível calcularmos o erro de cada previsão fazendo a diferença entre a saída real e a saída prevista."
      ]
    },
    {
      "cell_type": "code",
      "metadata": {
        "id": "noLNPm4U4lJ0"
      },
      "source": [
        "def erro(theta0, theta1, x_i, y_i):\n",
        "    return y_i - prever(theta0, theta1, x_i)"
      ],
      "execution_count": 8,
      "outputs": []
    },
    {
      "cell_type": "markdown",
      "metadata": {
        "id": "Jm0TOjg_4lJ0"
      },
      "source": [
        "No entanto esta função de erro calcula apenas o erro de uma saída, e não de todas elas. Ainda que podemos ter uma saída com erro positivo cancelando uma outra saída com erro negativo. Então, devemos somar todos os erros e elevá-los ao quadrado para que todos erros sejam positivos."
      ]
    },
    {
      "cell_type": "markdown",
      "metadata": {
        "id": "eayVvUvY4lJ0"
      },
      "source": [
        "$$\n",
        "EQM = \\frac{1}{N}\\sum^{N}_{i=0}(y_i - y^p_i)^2\n",
        "$$"
      ]
    },
    {
      "cell_type": "code",
      "metadata": {
        "id": "wzaQ99K34lJ0"
      },
      "source": [
        "def soma_erro_quadratico_medio(previsto, y):\n",
        "    return np.array([(y_i - y_previsto) ** 2 for y_previsto, y_i in zip(previsto,y)]).mean()"
      ],
      "execution_count": 9,
      "outputs": []
    },
    {
      "cell_type": "markdown",
      "metadata": {
        "id": "KmSXGdHW4lJ0"
      },
      "source": [
        "Agora podemos ver a regressão como um problema de otimização. Devemos minimizar esta função de soma dos erros quadráticos. Isto é um problema conhecido na algebra linear como minímos quadrados e sua resolução dá as equações:\n",
        "\n",
        "$$\\theta_1 = correlacao(x, y) \\times \\frac{\\sigma(y)}{\\sigma(x)}$$\n",
        "\n",
        "$$\\theta_0 = \\bar{y} - \\alpha\\bar{x}$$"
      ]
    },
    {
      "cell_type": "markdown",
      "metadata": {
        "id": "6Gl79olx4lJ0"
      },
      "source": [
        "Sendo $\\bar{x}$ e $\\bar{y}$ as médias dos valores de x e y, correlação(x, y) é a correlação entre os valores de x e y, e $\\sigma(x)$, $\\sigma(y)$ os desvios padrões de x e y.\n",
        "\n",
        "Assim, vamos definir uma função para minimizar os valores de $\\theta_1$ e $\\theta_0$. "
      ]
    },
    {
      "cell_type": "code",
      "metadata": {
        "id": "6KhdP-6O4lJ0"
      },
      "source": [
        "def minimos_quadrados(x, y):\n",
        "    theta1 = np.corrcoef(x,y)[0,1] * y.std() / x.std()\n",
        "    theta0 = y.mean() - theta1 * x.mean()\n",
        "    return theta1, theta0"
      ],
      "execution_count": 10,
      "outputs": []
    },
    {
      "cell_type": "markdown",
      "metadata": {
        "id": "YebcOo_y4lJ0"
      },
      "source": [
        "Agora sim, podemos escolher valores para $\\theta_0$ e $\\theta_1$ e fazer nossa regressão!"
      ]
    },
    {
      "cell_type": "code",
      "metadata": {
        "id": "JiswHnuv4lJ0"
      },
      "source": [
        "theta1, theta0 = minimos_quadrados(area, valor)"
      ],
      "execution_count": 11,
      "outputs": []
    },
    {
      "cell_type": "code",
      "metadata": {
        "colab": {
          "base_uri": "https://localhost:8080/"
        },
        "id": "7ZDH3LMN4lJ0",
        "outputId": "60887373-a03b-496e-f34c-8da0fa8a24b1"
      },
      "source": [
        "print(theta1)\n",
        "print(theta0)"
      ],
      "execution_count": 12,
      "outputs": [
        {
          "output_type": "stream",
          "text": [
            "1.273136797389051\n",
            "7.806465474455786\n"
          ],
          "name": "stdout"
        }
      ]
    },
    {
      "cell_type": "markdown",
      "metadata": {
        "id": "r5yhGLRa4lJ0"
      },
      "source": [
        "Para avaliar se nossa regressão está de fato representando o que queremos, vamos verificar na função de erro:"
      ]
    },
    {
      "cell_type": "code",
      "metadata": {
        "colab": {
          "base_uri": "https://localhost:8080/"
        },
        "id": "bjY1pO2s4lJ0",
        "outputId": "52586de9-c3af-4d5b-93f0-c87652b30c2b"
      },
      "source": [
        "soma_erro_quadratico_medio(prever(theta0, theta1, area), valor)"
      ],
      "execution_count": 13,
      "outputs": [
        {
          "output_type": "execute_result",
          "data": {
            "text/plain": [
              "0.2922746317391325"
            ]
          },
          "metadata": {
            "tags": []
          },
          "execution_count": 13
        }
      ]
    },
    {
      "cell_type": "markdown",
      "metadata": {
        "id": "NnvLNM434lJ0"
      },
      "source": [
        "## Visualizando nossos resultados de forma gráfica"
      ]
    },
    {
      "cell_type": "code",
      "metadata": {
        "id": "o28wkw5t4lJ0"
      },
      "source": [
        "import matplotlib.pyplot as plt\n",
        "import seaborn as sns\n",
        "%matplotlib inline"
      ],
      "execution_count": 14,
      "outputs": []
    },
    {
      "cell_type": "code",
      "metadata": {
        "colab": {
          "base_uri": "https://localhost:8080/",
          "height": 295
        },
        "id": "rL_W3kLO4lJ0",
        "outputId": "e8623d19-7436-461b-d41d-fb62ee6d26e9"
      },
      "source": [
        "ax = sns.scatterplot(x=area, y=valor)\n",
        "ax = sns.lineplot(x=area,y = prever(theta0, theta1, area), color = 'red')\n",
        "\n",
        "ax.set_title('Curva prevista nos dados dispersos')\n",
        "ax.set_xlabel('Área')\n",
        "ax.set_ylabel('Valor previsto com nosso modelo')\n",
        "plt.show()"
      ],
      "execution_count": 15,
      "outputs": [
        {
          "output_type": "display_data",
          "data": {
            "image/png": "[encoded data removed]",
            "text/plain": [
              "<Figure size 432x288 with 1 Axes>"
            ]
          },
          "metadata": {
            "tags": [],
            "needs_background": "light"
          }
        }
      ]
    },
    {
      "cell_type": "markdown",
      "metadata": {
        "id": "dENtzZlC4lJ0"
      },
      "source": [
        "Uma das métricas mais utilizadas é a $R^2$ também conhecida como coeficiente de determinação.\n",
        "\n",
        "Esta métrica varia entre 0 e 1, indicando, em percentagem quanto o modelo consegue explicar nossos dados. Quanto maior o $R^2$, mais explicativo é nosso modelo, ou seja mais ele se ajusta ao conjunto de dados utilizado.\n",
        "\n",
        "Podemos dizer o quanto nosso modelo é explicativo através da variância de nosso valores de y, ou seja comparando as variâncias dos valores de imóveis previstos e a variância utilizando o valor real do imóveis.\n",
        "\n",
        "$$\n",
        "R^2 = 1 - \\frac{\\sum^{N}_{i=0}(y_i - y^p_i)^2}{\\sum^{N}_{i=0}(y_i - y_i)^2}\n",
        "$$\n"
      ]
    },
    {
      "cell_type": "code",
      "metadata": {
        "id": "HqpIr4ay4lJ0"
      },
      "source": [
        "def r_2(y_previsto, y):\n",
        "    \n",
        "    variancia_prevista = sum([(y[i] - y_previsto[i]) ** 2 for i in range(len(y))])\n",
        "    variancia_original = sum([(y[i] - y.mean()) ** 2 for i in range(len(y))])\n",
        "    \n",
        "    return 1 - variancia_prevista / variancia_original"
      ],
      "execution_count": 16,
      "outputs": []
    },
    {
      "cell_type": "code",
      "metadata": {
        "colab": {
          "base_uri": "https://localhost:8080/"
        },
        "id": "7UxkGH5d4lJ0",
        "outputId": "7ab10a35-52a4-4eb3-8c08-4a28b1a49a4b"
      },
      "source": [
        "r_2(prever(theta0, theta1, area), valor)"
      ],
      "execution_count": 17,
      "outputs": [
        {
          "output_type": "execute_result",
          "data": {
            "text/plain": [
              "0.641975652487156"
            ]
          },
          "metadata": {
            "tags": []
          },
          "execution_count": 17
        }
      ]
    },
    {
      "cell_type": "markdown",
      "metadata": {
        "id": "lriz8x7d4lJ0"
      },
      "source": [
        "Quanto custa um apartamento de 72$m^2$?"
      ]
    },
    {
      "cell_type": "code",
      "metadata": {
        "colab": {
          "base_uri": "https://localhost:8080/"
        },
        "id": "XBpUgs5B4lJ0",
        "outputId": "d95dbe66-191a-4330-8ec6-3d7994677ac0"
      },
      "source": [
        "np.exp(prever(theta0, theta1, np.log(72)))"
      ],
      "execution_count": 18,
      "outputs": [
        {
          "output_type": "execute_result",
          "data": {
            "text/plain": [
              "568778.5698688689"
            ]
          },
          "metadata": {
            "tags": []
          },
          "execution_count": 18
        }
      ]
    },
    {
      "cell_type": "markdown",
      "metadata": {
        "id": "Bf7xMjDF4lJ0"
      },
      "source": [
        "# Limitações do métodos dos minímos quadrados:"
      ]
    },
    {
      "cell_type": "markdown",
      "metadata": {
        "id": "S5IXTJVs4lJ0"
      },
      "source": [
        "Quando nosso problema não envolve apenas uma variável independente, pode ser que o método dos quadrados mínimos fique muito caro do ponto de vista computacional. Note que apenas resolvemos este problema para uma variável (área), e se houvessem mais? Teriamos de refazer todas nossas contas usando algebra matricial.\n",
        "\n",
        "A fórmula que determina os coeficientes da regressão seria:\n",
        "\n",
        "$$\n",
        "\\Theta = (X'X)^{-1}X'y\n",
        "$$\n",
        "\n",
        "Existe uma procedimento de inversão matricial envolvido, o que é muito caro computacionalmente O($n^3$). Quando nosso conjunto de dados é muito grande e possuí muitas variáveis, um método iterativo, como o Gradiente Descendente pode ser mais eficiente."
      ]
    },
    {
      "cell_type": "markdown",
      "metadata": {
        "id": "HSc_qWhU4lJ0"
      },
      "source": [
        "# Regressão linear com o Gradiente Descendente"
      ]
    },
    {
      "cell_type": "markdown",
      "metadata": {
        "id": "-FamaDa74lJ0"
      },
      "source": [
        "O método do gradiente descendente é um método de otimização iterativo e não analítico como o mínimos quadrados. A ideia deste método é utilizar o gradiente da função a ser otimizada para indicar o sentido de minimização da função. Em geral, as bibliotecas prontas de Machine Learning usam este método para otimizar seus modelos.\n",
        "\n",
        "Começamos com valores aleatórios para nosso parâmetros $\\theta_1$ e $\\theta_0$ e iterativamente vamos atualizando seus valores usando o gradiente da função de custo (erro quadrático médio)."
      ]
    },
    {
      "cell_type": "markdown",
      "metadata": {
        "id": "qEsOPwNm4lJ0"
      },
      "source": [
        "Agora podemos ver a regressão como um problema de otimização. Devemos minimizar esta função de soma dos erros quadráticos. Para isto, vamos utilizar a técnica do gradiente descendente. Primeiramente, vamos definir a derivada da função de custo em relação a $\\theta_1$ e $\\theta_0$.\n",
        "\n",
        "$$\n",
        "\\frac{\\delta}{\\delta\\theta_0}EQM = \\frac{2}{N}\\sum^{N}_{i=0}y(x_i) - y_i\n",
        "$$\n",
        "\n",
        "$$\n",
        "\\frac{\\delta}{\\delta\\theta_1}EQM = \\frac{2}{N}\\sum^{N}_{i=0}(y(x_i) - y_i)x_i\n",
        "$$"
      ]
    },
    {
      "cell_type": "code",
      "metadata": {
        "id": "bbyGZIHq4lJ0"
      },
      "source": [
        "def derivada(theta0, theta1, X, y):\n",
        "    dtheta0 = 0\n",
        "    dtheta1 = 0\n",
        "    \n",
        "    for x_i, y_i in zip(X, y):\n",
        "        dtheta0 += prever(theta0, theta1, x_i) - y_i\n",
        "        dtheta1 += (prever(theta0, theta1, x_i) - y_i)*x_i\n",
        "\n",
        "    dtheta0 /= 0.5*len(X)\n",
        "    dtheta1 /= 0.5*len(X)\n",
        "\n",
        "    return dtheta0, dtheta1"
      ],
      "execution_count": 19,
      "outputs": []
    },
    {
      "cell_type": "code",
      "metadata": {
        "id": "XTuU1M9V4lJ0"
      },
      "source": [
        "def derivada(theta0, theta1, X, y):\n",
        "\n",
        "    dtheta0 = 2*np.array([prever(theta0, theta1, x_i) - y_i for x_i, y_i in zip(X, y)]).mean()\n",
        "    dtheta1 = 2*np.array([(prever(theta0, theta1, x_i) - y_i)*x_i for x_i, y_i in zip(X, y)]).mean()\n",
        "\n",
        "    return dtheta0, dtheta1"
      ],
      "execution_count": 20,
      "outputs": []
    },
    {
      "cell_type": "markdown",
      "metadata": {
        "id": "5qhymhfd4lJ0"
      },
      "source": [
        "Agora queremos realizar o processo de otimização de nossa função de custo. Para isto, vamos atulizar o valor de nossas variáveis $\\theta_0$ e $\\theta_1$. Vamos criar um parâmetro novo para nosso algoritmo, vamos chamá-lo de taxa de aprendizado ($\\alpha$), será um número pequeno para dizer o quanto queremos atualizar nossos parâmetros.\n",
        "\n",
        "$$\n",
        "\\theta_0 = \\theta_0 - \\alpha\\frac{\\delta}{\\delta\\theta_0}EQM\n",
        "$$\n",
        "\n",
        "$$\n",
        "\\theta_1 = \\theta_1 - \\alpha\\frac{\\delta}{\\delta\\theta_1}EQM\n",
        "$$"
      ]
    },
    {
      "cell_type": "code",
      "metadata": {
        "id": "nqH45gtj4lJ0"
      },
      "source": [
        "def gradienteDescendente(theta0, theta1, X, y, alpha):\n",
        "    dtheta0, dtheta1 = derivada(theta0, theta1, X, y)\n",
        "    theta0 = theta0 - (alpha * dtheta0)\n",
        "    theta1 = theta1 - (alpha * dtheta1)\n",
        "\n",
        "    return theta0, theta1"
      ],
      "execution_count": 21,
      "outputs": []
    },
    {
      "cell_type": "markdown",
      "metadata": {
        "id": "hvytn7vf4lJ0"
      },
      "source": [
        "Finalmente, vamos inicializar nosso valores iniciais aleatóriamente e executar o gradiente descendente várias vezes."
      ]
    },
    {
      "cell_type": "code",
      "metadata": {
        "colab": {
          "base_uri": "https://localhost:8080/"
        },
        "id": "0DYCXV9n4lJ0",
        "outputId": "76639406-8bb7-4813-97c2-e559544b620d"
      },
      "source": [
        "theta0 = random.random()\n",
        "theta1 = random.random()\n",
        "    \n",
        "for i in range(10000):\n",
        "    if i % 1000 == 0:\n",
        "        print(soma_erro_quadratico_medio(prever(theta0, theta1,area), valor))\n",
        "    theta0, theta1 = gradienteDescendente(theta0, theta1, area, valor, 0.01)"
      ],
      "execution_count": 22,
      "outputs": [
        {
          "output_type": "stream",
          "text": [
            "168.22116350027565\n",
            "0.6593029559163834\n",
            "0.49986004915533633\n",
            "0.4096816618926126\n",
            "0.3586781917821899\n",
            "0.3298314354554666\n",
            "0.31351616614591205\n",
            "0.30428850776975325\n",
            "0.2990694900819959\n",
            "0.29611769619076367\n"
          ],
          "name": "stdout"
        }
      ]
    },
    {
      "cell_type": "code",
      "metadata": {
        "colab": {
          "base_uri": "https://localhost:8080/"
        },
        "id": "_TdmU7a14lJ1",
        "outputId": "bfb0f0fd-433a-4078-9ab3-385dba4514dc"
      },
      "source": [
        "print(theta0)\n",
        "print(theta1)"
      ],
      "execution_count": 23,
      "outputs": [
        {
          "output_type": "stream",
          "text": [
            "7.424430958943951\n",
            "1.3545668505867476\n"
          ],
          "name": "stdout"
        }
      ]
    },
    {
      "cell_type": "code",
      "metadata": {
        "colab": {
          "base_uri": "https://localhost:8080/"
        },
        "id": "DuA8oqw34lJ1",
        "outputId": "a1929467-ba0b-4c23-fe03-b31a5f1c6757"
      },
      "source": [
        "r_2(prever(theta0, theta1, area), valor)"
      ],
      "execution_count": 24,
      "outputs": [
        {
          "output_type": "execute_result",
          "data": {
            "text/plain": [
              "0.6393131110901085"
            ]
          },
          "metadata": {
            "tags": []
          },
          "execution_count": 24
        }
      ]
    },
    {
      "cell_type": "markdown",
      "metadata": {
        "id": "zoVjHTLY4lJ1"
      },
      "source": [
        "Quanto custa um apartamento de 72$m^2$?"
      ]
    },
    {
      "cell_type": "code",
      "metadata": {
        "colab": {
          "base_uri": "https://localhost:8080/"
        },
        "id": "8vNvWdfh4lJ1",
        "outputId": "3fabf59d-4f83-4ced-e734-6726d1cb801b"
      },
      "source": [
        "np.exp(prever(theta0, theta1, np.log(72)))"
      ],
      "execution_count": 25,
      "outputs": [
        {
          "output_type": "execute_result",
          "data": {
            "text/plain": [
              "549883.1690804189"
            ]
          },
          "metadata": {
            "tags": []
          },
          "execution_count": 25
        }
      ]
    },
    {
      "cell_type": "markdown",
      "metadata": {
        "id": "bnUXo_FS4lJ1"
      },
      "source": [
        "## Visualizando nossos resultados de forma gráfica"
      ]
    },
    {
      "cell_type": "code",
      "metadata": {
        "colab": {
          "base_uri": "https://localhost:8080/",
          "height": 295
        },
        "id": "G5VVG2pf4lJ1",
        "outputId": "cb90dc24-5550-4268-bd6c-445a6693f61e"
      },
      "source": [
        "ax = sns.scatterplot(x=area, y=valor)\n",
        "ax = sns.lineplot(x=area,y = prever(theta0, theta1, area), color = 'red')\n",
        "\n",
        "ax.set_title('Curva prevista nos dados dispersos')\n",
        "ax.set_xlabel('Área')\n",
        "ax.set_ylabel('Valor previsto com nosso modelo')\n",
        "plt.show()"
      ],
      "execution_count": 26,
      "outputs": [
        {
          "output_type": "display_data",
          "data": {
            "image/png": "[encoded data removed]",
            "text/plain": [
              "<Figure size 432x288 with 1 Axes>"
            ]
          },
          "metadata": {
            "tags": [],
            "needs_background": "light"
          }
        }
      ]
    },
    {
      "cell_type": "markdown",
      "metadata": {
        "id": "ehaLLivK4lJ1"
      },
      "source": [
        "## Comparando com um modelo do sk-learn"
      ]
    },
    {
      "cell_type": "code",
      "metadata": {
        "id": "C4cP_Zmg4lJ1"
      },
      "source": [
        "from sklearn.linear_model import LinearRegression\n",
        "lr = LinearRegression()"
      ],
      "execution_count": 27,
      "outputs": []
    },
    {
      "cell_type": "code",
      "metadata": {
        "colab": {
          "base_uri": "https://localhost:8080/"
        },
        "id": "TjCfg9LP4lJ1",
        "outputId": "474e02dd-5069-4db3-f4d7-08573d4bafa9"
      },
      "source": [
        "lr.fit(np.array(area).reshape(len(area),1), valor)"
      ],
      "execution_count": 28,
      "outputs": [
        {
          "output_type": "execute_result",
          "data": {
            "text/plain": [
              "LinearRegression(copy_X=True, fit_intercept=True, n_jobs=None, normalize=False)"
            ]
          },
          "metadata": {
            "tags": []
          },
          "execution_count": 28
        }
      ]
    },
    {
      "cell_type": "code",
      "metadata": {
        "colab": {
          "base_uri": "https://localhost:8080/",
          "height": 295
        },
        "id": "0sag_cX_4lJ1",
        "outputId": "1d35603f-0708-44f5-9e04-d0da3ba31213"
      },
      "source": [
        "ax = sns.scatterplot(x=area, y=valor)\n",
        "ax = sns.lineplot(x=area,y = lr.predict(np.array(area).reshape(len(area),1)), color='red')\n",
        "\n",
        "ax.set_title('Curva prevista nos dados dispersos')\n",
        "ax.set_xlabel('Área')\n",
        "ax.set_ylabel('Valor previsto com Sk-learn')\n",
        "plt.show()"
      ],
      "execution_count": 29,
      "outputs": [
        {
          "output_type": "display_data",
          "data": {
            "image/png": "[encoded data removed]",
            "text/plain": [
              "<Figure size 432x288 with 1 Axes>"
            ]
          },
          "metadata": {
            "tags": [],
            "needs_background": "light"
          }
        }
      ]
    },
    {
      "cell_type": "code",
      "metadata": {
        "colab": {
          "base_uri": "https://localhost:8080/"
        },
        "id": "dKwS8LHX4lJ1",
        "outputId": "bc7916f0-3ac2-4d4c-e8c3-92d3cfa4a5f1"
      },
      "source": [
        "from sklearn.metrics import r2_score\n",
        "\n",
        "r2_score(valor, lr.predict(np.array(area).reshape(len(area),1)))"
      ],
      "execution_count": 30,
      "outputs": [
        {
          "output_type": "execute_result",
          "data": {
            "text/plain": [
              "0.6419756524871572"
            ]
          },
          "metadata": {
            "tags": []
          },
          "execution_count": 30
        }
      ]
    },
    {
      "cell_type": "markdown",
      "metadata": {
        "id": "1UMeXg2n4lJ1"
      },
      "source": [
        "# Gradiente descendente vs Mínimos Quadrados\n",
        "\n",
        "Legal! Utilizando ambos métodos apresentaram resultados semelhantes.\n",
        "\n",
        "Agora a questão é apenas escolher qual deles usar. Levando em consideração que ambos métodos chegam em um resultado igual ou muito semelhante e que a maior limitação do método dos mínimos quadrados é para grande conjuntos de dados. Podemos dizer que vale a pena utilizar o Gradiente Descendente quando temos muitos dados disponíveis e os mínimos quadrados quando nosso conjunto de dados é menor. "
      ]
    },
    {
      "cell_type": "markdown",
      "metadata": {
        "id": "soxSPmAB4lJ1"
      },
      "source": [
        "## E se eu quiser usar mais dados, além da área de um imóvel para calcular seu valor?"
      ]
    },
    {
      "cell_type": "markdown",
      "metadata": {
        "id": "o6a93Pl54lJ1"
      },
      "source": [
        "## O Dataset e o Projeto\n",
        "<hr>\n",
        "\n",
        "### Descrição:\n",
        "<p style='font-size: 15px; line-height: 2; margin: 10px 50px; text-align: justify; text-indent: 35px;'>O mercado imobiliário vem sendo objeto de diversos estudos e pesquisas nos últimos tempos. A crise financeira que afeta a economia tem afetado significativamente os investimentos e ganhos advindos deste setor. Este cenário incentiva o aumento do interesse por estudos de previsão de demanda baseados em características deste mercado, dos imóveis e do entorno destes imóveis.</p>\n",
        "\n",
        "<p style='font-size: 15px; line-height: 2; margin: 10px 50px; text-align: justify; text-indent: 35px;'>Neste contexto o objetivo principal do nosso projeto é desenvolver um sistema de avaliação imobiliária utilizando a metodologia de regressões lineares que é uma das técnicas de machine learning.</p>\n",
        "\n",
        "<p style='font-size: 15px; line-height: 2; margin: 10px 50px; text-align: justify; text-indent: 35px;'>Nosso dataset é uma amostra aleatória de tamanho 5000 de imóveis disponíveis para venda no município do Rio de Janeiro.</p>\n",
        "\n",
        "### Dados:\n",
        "<ul style='font-size: 15px; line-height: 2; text-align: justify;'>\n",
        "    <li><b>Valor</b> - Valor (R$) de oferta do imóvel;</li>\n",
        "    <li><b>Area</b> - Área do imóvel em m².</li>\n",
        "    <li><b>Dist_Praia</b> - Distância do imóvel até a praia (km) (em linha reta).</li>\n",
        "    <li><b>Dist_Farmacia</b> - Distância do imóvel até a farmácia mais próxima (km) (em linha reta).</li>\n",
        "</ul>"
      ]
    },
    {
      "cell_type": "code",
      "metadata": {
        "colab": {
          "base_uri": "https://localhost:8080/",
          "height": 204
        },
        "id": "kgjhXuTR4lJ1",
        "outputId": "7dcccec9-7d31-4826-a4e3-e66797749a23"
      },
      "source": [
        "dados.head()"
      ],
      "execution_count": 32,
      "outputs": [
        {
          "output_type": "execute_result",
          "data": {
            "text/html": [
              "<div>\n",
              "<style scoped>\n",
              "    .dataframe tbody tr th:only-of-type {\n",
              "        vertical-align: middle;\n",
              "    }\n",
              "\n",
              "    .dataframe tbody tr th {\n",
              "        vertical-align: top;\n",
              "    }\n",
              "\n",
              "    .dataframe thead th {\n",
              "        text-align: right;\n",
              "    }\n",
              "</style>\n",
              "<table border=\"1\" class=\"dataframe\">\n",
              "  <thead>\n",
              "    <tr style=\"text-align: right;\">\n",
              "      <th></th>\n",
              "      <th>Valor</th>\n",
              "      <th>Area</th>\n",
              "      <th>Dist_Praia</th>\n",
              "      <th>Dist_Farmacia</th>\n",
              "    </tr>\n",
              "  </thead>\n",
              "  <tbody>\n",
              "    <tr>\n",
              "      <th>0</th>\n",
              "      <td>4600000</td>\n",
              "      <td>280</td>\n",
              "      <td>0.240925</td>\n",
              "      <td>0.793637</td>\n",
              "    </tr>\n",
              "    <tr>\n",
              "      <th>1</th>\n",
              "      <td>900000</td>\n",
              "      <td>208</td>\n",
              "      <td>0.904136</td>\n",
              "      <td>0.134494</td>\n",
              "    </tr>\n",
              "    <tr>\n",
              "      <th>2</th>\n",
              "      <td>2550000</td>\n",
              "      <td>170</td>\n",
              "      <td>0.059525</td>\n",
              "      <td>0.423318</td>\n",
              "    </tr>\n",
              "    <tr>\n",
              "      <th>3</th>\n",
              "      <td>550000</td>\n",
              "      <td>100</td>\n",
              "      <td>2.883181</td>\n",
              "      <td>0.525064</td>\n",
              "    </tr>\n",
              "    <tr>\n",
              "      <th>4</th>\n",
              "      <td>2200000</td>\n",
              "      <td>164</td>\n",
              "      <td>0.239758</td>\n",
              "      <td>0.192374</td>\n",
              "    </tr>\n",
              "  </tbody>\n",
              "</table>\n",
              "</div>"
            ],
            "text/plain": [
              "     Valor  Area  Dist_Praia  Dist_Farmacia\n",
              "0  4600000   280    0.240925       0.793637\n",
              "1   900000   208    0.904136       0.134494\n",
              "2  2550000   170    0.059525       0.423318\n",
              "3   550000   100    2.883181       0.525064\n",
              "4  2200000   164    0.239758       0.192374"
            ]
          },
          "metadata": {
            "tags": []
          },
          "execution_count": 32
        }
      ]
    },
    {
      "cell_type": "code",
      "metadata": {
        "id": "wxCu153n4lJ1"
      },
      "source": [
        "valor = np.log(dados['Valor'])\n",
        "area = np.log(dados['Area'])\n",
        "dist_Praia = np.log(dados['Dist_Praia'] + 1)\n",
        "dist_Farmacia = np.log(dados['Dist_Farmacia'] + 1)\n",
        "\n",
        "valor = np.array(valor)\n",
        "area = np.array(area)\n",
        "dist_Praia = np.array(dist_Praia)\n",
        "dist_Farmacia = np.array(dist_Farmacia)\n",
        "\n",
        "X = np.array([area, dist_Praia, dist_Farmacia]).T\n",
        "y = valor"
      ],
      "execution_count": 33,
      "outputs": []
    },
    {
      "cell_type": "markdown",
      "metadata": {
        "id": "C3Mac_Lj4lJ1"
      },
      "source": [
        "# Regressão multivariável\n",
        "\n",
        "Desta vez, não temos apenas uma variável. Então, nosso problema vai ficar um pouco maior, em vez de otimizarmos dois parâmetros, devemos otimizar $n+1$ parâmetros, sendo $n$ o número de variáveis do problema. No nosso caso, temos três variáveis no problema, portanto iremos otimizar no total quatro parâmetros. Então nossa hipótese de forma geral será:\n",
        "\n",
        "$$\n",
        "y(x_0, x_1, ..., x_n) = \\theta_0 + \\theta_1 x_0 + \\theta_2 x_1 + ... + \\theta_{n} x_{n-1}\n",
        "$$\n",
        "\n",
        "Como nosso problema possuí três variáveis, teremos:\n",
        "\n",
        "$$\n",
        "y(x_0, x_1, x_2) = \\theta_0 + \\theta_1 x_0 + \\theta_2 x_1 + \\theta_3 x_2\n",
        "$$\n",
        "\n",
        "Podemos definir isto a partir da notação matricial:\n",
        "\n",
        "$$\n",
        "y(X) = \\theta_0 + X \\bullet \\theta \n",
        "$$\n",
        "\n",
        "Desta forma, é facil prever usando nosso modelo."
      ]
    },
    {
      "cell_type": "code",
      "metadata": {
        "id": "ioPqpY--4lJ1"
      },
      "source": [
        "def prever(theta, X):\n",
        "    return np.dot(X, theta)"
      ],
      "execution_count": 34,
      "outputs": []
    },
    {
      "cell_type": "markdown",
      "metadata": {
        "id": "9DUAxxXS4lJ1"
      },
      "source": [
        "Agora, vamos a função de custo. Usaremos o erro quadrático médio.\n",
        "\n",
        "$$\n",
        "EQM = \\frac{1}{N}\\sum_{i=0}^{N}(y_{i}-y_{i}^{p}(x_{i}))^2\n",
        "$$"
      ]
    },
    {
      "cell_type": "markdown",
      "metadata": {
        "id": "1Ufs8l1M4lJ1"
      },
      "source": [
        "Devemos minimizar nossa função de custo, para isto usamos o gradiente descendente. Nele, usamos a derivada de nossa função de custo, definida como:\n",
        "\n",
        "$$\n",
        "EQM' = \\frac{1}{2N}\\sum_{i=0}^{N}(y^{p}_{i}(x_i) - y_{i})x_{i}\n",
        "$$"
      ]
    },
    {
      "cell_type": "code",
      "metadata": {
        "id": "ZYqWidBH4lJ1"
      },
      "source": [
        "def gradienteDescendente(theta, X, y, alpha):\n",
        "    previsto = prever(theta, X)\n",
        "    erro = previsto - y\n",
        "    \n",
        "    gradiente = np.dot(X.T, erro) / (2*len(X))\n",
        "    \n",
        "    theta -= alpha*gradiente"
      ],
      "execution_count": 35,
      "outputs": []
    },
    {
      "cell_type": "markdown",
      "metadata": {
        "id": "Th_L01bj4lJ1"
      },
      "source": [
        "O métoto c_ do numpy vai apenas colocar mais um atributo em todas amostras de nosso conjunto. Este ultimo atributo será sempre unitário, e será responsável pela variável independente $\\theta_0$.\n",
        "\n",
        "Após isto, vamos criar nossos pesos de forma aleatória e executar a nossa otimização."
      ]
    },
    {
      "cell_type": "code",
      "metadata": {
        "colab": {
          "base_uri": "https://localhost:8080/"
        },
        "id": "wvk5XlH_4lJ1",
        "outputId": "d084f7a2-9166-4d9c-97fa-41f64d383843"
      },
      "source": [
        "X = np.c_[np.ones(X.shape[0]), X] \n",
        "\n",
        "theta = np.random.rand(X.shape[1])\n",
        "\n",
        "for i in range(7000):\n",
        "    previsto = prever(theta, X)\n",
        "    custo = soma_erro_quadratico_medio(prever(theta, X), y)\n",
        "    \n",
        "    if i % 1000 == 0:\n",
        "        print(custo)\n",
        "    \n",
        "    gradienteDescendente(theta, X, y, 0.1)"
      ],
      "execution_count": 36,
      "outputs": [
        {
          "output_type": "stream",
          "text": [
            "161.03679807775757\n",
            "0.4466321061047585\n",
            "0.2621813837875023\n",
            "0.19702542867849343\n",
            "0.1739891393720715\n",
            "0.1658442254228357\n",
            "0.16296443351912918\n"
          ],
          "name": "stdout"
        }
      ]
    },
    {
      "cell_type": "code",
      "metadata": {
        "colab": {
          "base_uri": "https://localhost:8080/"
        },
        "id": "L5EjcGlH4lJ1",
        "outputId": "8cb161ce-291e-49d1-f5c9-aa8ae8157f96"
      },
      "source": [
        "theta"
      ],
      "execution_count": 37,
      "outputs": [
        {
          "output_type": "execute_result",
          "data": {
            "text/plain": [
              "array([ 9.16564662,  1.08810325, -0.47692579,  0.03242912])"
            ]
          },
          "metadata": {
            "tags": []
          },
          "execution_count": 37
        }
      ]
    },
    {
      "cell_type": "code",
      "metadata": {
        "colab": {
          "base_uri": "https://localhost:8080/"
        },
        "id": "hSAg3USx4lJ1",
        "outputId": "8a142256-3efb-4ab2-9c73-ddd4a44c26a1"
      },
      "source": [
        "r_2(prever(theta, X), y)"
      ],
      "execution_count": 38,
      "outputs": [
        {
          "output_type": "execute_result",
          "data": {
            "text/plain": [
              "0.8016225629213908"
            ]
          },
          "metadata": {
            "tags": []
          },
          "execution_count": 38
        }
      ]
    },
    {
      "cell_type": "markdown",
      "metadata": {
        "id": "l_RFJQ-J4lJ1"
      },
      "source": [
        "Eu tenho um apartamento, de 72$m^2$, a 500$m$ da praia e 100$m$ de uma farmácia, por quanto posso vende-lo?"
      ]
    },
    {
      "cell_type": "code",
      "metadata": {
        "colab": {
          "base_uri": "https://localhost:8080/"
        },
        "id": "FdUBEZjx4lJ1",
        "outputId": "da782769-c155-49f0-cfb3-a5b480ca6bb2"
      },
      "source": [
        "minha_area = np.log(72)\n",
        "minha_dist_Praia = np.log(0.5 + 1)\n",
        "minha_dist_Farmacia = np.log(0.1 + 1)\n",
        "\n",
        "np.exp(prever(theta, [1, minha_area, minha_dist_Praia, minha_dist_Farmacia]))"
      ],
      "execution_count": 39,
      "outputs": [
        {
          "output_type": "execute_result",
          "data": {
            "text/plain": [
              "829696.2924278222"
            ]
          },
          "metadata": {
            "tags": []
          },
          "execution_count": 39
        }
      ]
    },
    {
      "cell_type": "markdown",
      "metadata": {
        "id": "3U0PBI-C4lJ1"
      },
      "source": [
        "# Comparando com o Sk-learn"
      ]
    },
    {
      "cell_type": "code",
      "metadata": {
        "id": "W2aDWyIz4lJ1"
      },
      "source": [
        "from sklearn.linear_model import LinearRegression\n",
        "\n",
        "lr = LinearRegression()"
      ],
      "execution_count": 40,
      "outputs": []
    },
    {
      "cell_type": "code",
      "metadata": {
        "colab": {
          "base_uri": "https://localhost:8080/"
        },
        "id": "tqgMZBIF4lJ1",
        "outputId": "615b5ada-3ee8-4707-e7c8-dd7cd298795f"
      },
      "source": [
        "lr.fit(X, y)"
      ],
      "execution_count": 41,
      "outputs": [
        {
          "output_type": "execute_result",
          "data": {
            "text/plain": [
              "LinearRegression(copy_X=True, fit_intercept=True, n_jobs=None, normalize=False)"
            ]
          },
          "metadata": {
            "tags": []
          },
          "execution_count": 41
        }
      ]
    },
    {
      "cell_type": "code",
      "metadata": {
        "colab": {
          "base_uri": "https://localhost:8080/"
        },
        "id": "1KK4FnGq4lJ1",
        "outputId": "a0edb627-169a-4be1-9cf3-ca1acdc3a2c9"
      },
      "source": [
        "r2_score(y, lr.predict(X))"
      ],
      "execution_count": 42,
      "outputs": [
        {
          "output_type": "execute_result",
          "data": {
            "text/plain": [
              "0.8023047600430262"
            ]
          },
          "metadata": {
            "tags": []
          },
          "execution_count": 42
        }
      ]
    }
  ]
}
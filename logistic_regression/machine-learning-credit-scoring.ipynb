{
 "cells": [
  {
   "cell_type": "markdown",
   "metadata": {},
   "source": [
    "# Pillar of credit chain:\n",
    "\n",
    "- Prospection;\n",
    "- Concession;\n",
    "- Risk management;\n",
    "- Recovery.\n",
    "\n",
    "The focus of this course is on the concession pillar.\n",
    "\n",
    "## Credit chain:\n",
    "The credit chain is the process of granting credit to a customer. And it is composed of three agents:\n",
    "\n",
    "- The savers;\n",
    "- The financial intermediaries;\n",
    "- The borrowers.\n",
    "\n",
    "## Credit scoring:\n",
    "\n",
    "Credit scoring is the process of evaluating the creditworthiness of a customer. This is a probability, then the value is between 0 and 1.  And it is composed of three steps:\n",
    "- Data collection;\n",
    "- Data analysis;\n",
    "- Decision making.\n",
    "\n",
    "## Credit risk:\n",
    "\n",
    "Credit risk is the risk of loss due to a borrower's default on a loan or other line of credit.\n"
   ]
  },
  {
   "cell_type": "markdown",
   "metadata": {},
   "source": [
    "# Importing libraries"
   ]
  },
  {
   "cell_type": "code",
   "execution_count": 46,
   "metadata": {},
   "outputs": [],
   "source": [
    "import pandas as pd\n",
    "import numpy as np\n",
    "import matplotlib.pyplot as plt\n",
    "import seaborn as sns\n",
    "from sklearn.model_selection import train_test_split\n",
    "from sklearn.linear_model import LogisticRegression\n",
    "from sklearn.model_selection import KFold\n",
    "from sklearn.metrics import accuracy_score,  confusion_matrix, ConfusionMatrixDisplay, classification_report,roc_curve, roc_auc_score"
   ]
  },
  {
   "cell_type": "code",
   "execution_count": 47,
   "metadata": {},
   "outputs": [],
   "source": [
    "SEED = 42"
   ]
  },
  {
   "cell_type": "markdown",
   "metadata": {},
   "source": [
    "# Reading the data"
   ]
  },
  {
   "cell_type": "code",
   "execution_count": 48,
   "metadata": {},
   "outputs": [
    {
     "data": {
      "text/html": [
       "<div>\n",
       "<style scoped>\n",
       "    .dataframe tbody tr th:only-of-type {\n",
       "        vertical-align: middle;\n",
       "    }\n",
       "\n",
       "    .dataframe tbody tr th {\n",
       "        vertical-align: top;\n",
       "    }\n",
       "\n",
       "    .dataframe thead th {\n",
       "        text-align: right;\n",
       "    }\n",
       "</style>\n",
       "<table border=\"1\" class=\"dataframe\">\n",
       "  <thead>\n",
       "    <tr style=\"text-align: right;\">\n",
       "      <th></th>\n",
       "      <th>default</th>\n",
       "      <th>account_check_status</th>\n",
       "      <th>duration_in_month</th>\n",
       "      <th>credit_history</th>\n",
       "      <th>purpose</th>\n",
       "      <th>credit_amount</th>\n",
       "      <th>savings</th>\n",
       "      <th>present_emp_since</th>\n",
       "      <th>installment_as_income_perc</th>\n",
       "      <th>personal_status_sex</th>\n",
       "      <th>...</th>\n",
       "      <th>present_res_since</th>\n",
       "      <th>property</th>\n",
       "      <th>age</th>\n",
       "      <th>other_installment_plans</th>\n",
       "      <th>housing</th>\n",
       "      <th>credits_this_bank</th>\n",
       "      <th>job</th>\n",
       "      <th>people_under_maintenance</th>\n",
       "      <th>telephone</th>\n",
       "      <th>foreign_worker</th>\n",
       "    </tr>\n",
       "  </thead>\n",
       "  <tbody>\n",
       "    <tr>\n",
       "      <th>0</th>\n",
       "      <td>0</td>\n",
       "      <td>&lt; 0 DM</td>\n",
       "      <td>6</td>\n",
       "      <td>critical account/ other credits existing (not ...</td>\n",
       "      <td>domestic appliances</td>\n",
       "      <td>1169</td>\n",
       "      <td>unknown/ no savings account</td>\n",
       "      <td>.. &gt;= 7 years</td>\n",
       "      <td>4</td>\n",
       "      <td>male : single</td>\n",
       "      <td>...</td>\n",
       "      <td>4</td>\n",
       "      <td>real estate</td>\n",
       "      <td>67</td>\n",
       "      <td>none</td>\n",
       "      <td>own</td>\n",
       "      <td>2</td>\n",
       "      <td>skilled employee / official</td>\n",
       "      <td>1</td>\n",
       "      <td>yes, registered under the customers name</td>\n",
       "      <td>yes</td>\n",
       "    </tr>\n",
       "    <tr>\n",
       "      <th>1</th>\n",
       "      <td>1</td>\n",
       "      <td>0 &lt;= ... &lt; 200 DM</td>\n",
       "      <td>48</td>\n",
       "      <td>existing credits paid back duly till now</td>\n",
       "      <td>domestic appliances</td>\n",
       "      <td>5951</td>\n",
       "      <td>... &lt; 100 DM</td>\n",
       "      <td>1 &lt;= ... &lt; 4 years</td>\n",
       "      <td>2</td>\n",
       "      <td>female : divorced/separated/married</td>\n",
       "      <td>...</td>\n",
       "      <td>2</td>\n",
       "      <td>real estate</td>\n",
       "      <td>22</td>\n",
       "      <td>none</td>\n",
       "      <td>own</td>\n",
       "      <td>1</td>\n",
       "      <td>skilled employee / official</td>\n",
       "      <td>1</td>\n",
       "      <td>none</td>\n",
       "      <td>yes</td>\n",
       "    </tr>\n",
       "    <tr>\n",
       "      <th>2</th>\n",
       "      <td>0</td>\n",
       "      <td>no checking account</td>\n",
       "      <td>12</td>\n",
       "      <td>critical account/ other credits existing (not ...</td>\n",
       "      <td>(vacation - does not exist?)</td>\n",
       "      <td>2096</td>\n",
       "      <td>... &lt; 100 DM</td>\n",
       "      <td>4 &lt;= ... &lt; 7 years</td>\n",
       "      <td>2</td>\n",
       "      <td>male : single</td>\n",
       "      <td>...</td>\n",
       "      <td>3</td>\n",
       "      <td>real estate</td>\n",
       "      <td>49</td>\n",
       "      <td>none</td>\n",
       "      <td>own</td>\n",
       "      <td>1</td>\n",
       "      <td>unskilled - resident</td>\n",
       "      <td>2</td>\n",
       "      <td>none</td>\n",
       "      <td>yes</td>\n",
       "    </tr>\n",
       "  </tbody>\n",
       "</table>\n",
       "<p>3 rows × 21 columns</p>\n",
       "</div>"
      ],
      "text/plain": [
       "   default account_check_status  duration_in_month  \\\n",
       "0        0               < 0 DM                  6   \n",
       "1        1    0 <= ... < 200 DM                 48   \n",
       "2        0  no checking account                 12   \n",
       "\n",
       "                                      credit_history  \\\n",
       "0  critical account/ other credits existing (not ...   \n",
       "1           existing credits paid back duly till now   \n",
       "2  critical account/ other credits existing (not ...   \n",
       "\n",
       "                        purpose  credit_amount                      savings  \\\n",
       "0           domestic appliances           1169  unknown/ no savings account   \n",
       "1           domestic appliances           5951                 ... < 100 DM   \n",
       "2  (vacation - does not exist?)           2096                 ... < 100 DM   \n",
       "\n",
       "    present_emp_since  installment_as_income_perc  \\\n",
       "0       .. >= 7 years                           4   \n",
       "1  1 <= ... < 4 years                           2   \n",
       "2  4 <= ... < 7 years                           2   \n",
       "\n",
       "                   personal_status_sex  ... present_res_since     property  \\\n",
       "0                        male : single  ...                 4  real estate   \n",
       "1  female : divorced/separated/married  ...                 2  real estate   \n",
       "2                        male : single  ...                 3  real estate   \n",
       "\n",
       "  age  other_installment_plans housing credits_this_bank  \\\n",
       "0  67                     none     own                 2   \n",
       "1  22                     none     own                 1   \n",
       "2  49                     none     own                 1   \n",
       "\n",
       "                           job people_under_maintenance  \\\n",
       "0  skilled employee / official                        1   \n",
       "1  skilled employee / official                        1   \n",
       "2         unskilled - resident                        2   \n",
       "\n",
       "                                   telephone foreign_worker  \n",
       "0  yes, registered under the customers name             yes  \n",
       "1                                       none            yes  \n",
       "2                                       none            yes  \n",
       "\n",
       "[3 rows x 21 columns]"
      ]
     },
     "execution_count": 48,
     "metadata": {},
     "output_type": "execute_result"
    }
   ],
   "source": [
    "df_german_credit = pd.read_csv('../data/statlog_german_credit/german_credit.csv')\n",
    "df_german_credit.head(3)"
   ]
  },
  {
   "cell_type": "code",
   "execution_count": 49,
   "metadata": {},
   "outputs": [
    {
     "name": "stdout",
     "output_type": "stream",
     "text": [
      "<class 'pandas.core.frame.DataFrame'>\n",
      "RangeIndex: 1000 entries, 0 to 999\n",
      "Data columns (total 21 columns):\n",
      " #   Column                      Non-Null Count  Dtype \n",
      "---  ------                      --------------  ----- \n",
      " 0   default                     1000 non-null   int64 \n",
      " 1   account_check_status        1000 non-null   object\n",
      " 2   duration_in_month           1000 non-null   int64 \n",
      " 3   credit_history              1000 non-null   object\n",
      " 4   purpose                     1000 non-null   object\n",
      " 5   credit_amount               1000 non-null   int64 \n",
      " 6   savings                     1000 non-null   object\n",
      " 7   present_emp_since           1000 non-null   object\n",
      " 8   installment_as_income_perc  1000 non-null   int64 \n",
      " 9   personal_status_sex         1000 non-null   object\n",
      " 10  other_debtors               1000 non-null   object\n",
      " 11  present_res_since           1000 non-null   int64 \n",
      " 12  property                    1000 non-null   object\n",
      " 13  age                         1000 non-null   int64 \n",
      " 14  other_installment_plans     1000 non-null   object\n",
      " 15  housing                     1000 non-null   object\n",
      " 16  credits_this_bank           1000 non-null   int64 \n",
      " 17  job                         1000 non-null   object\n",
      " 18  people_under_maintenance    1000 non-null   int64 \n",
      " 19  telephone                   1000 non-null   object\n",
      " 20  foreign_worker              1000 non-null   object\n",
      "dtypes: int64(8), object(13)\n",
      "memory usage: 164.2+ KB\n"
     ]
    }
   ],
   "source": [
    "df_german_credit.info()"
   ]
  },
  {
   "cell_type": "code",
   "execution_count": 50,
   "metadata": {},
   "outputs": [
    {
     "data": {
      "text/plain": [
       "(1000, 21)"
      ]
     },
     "execution_count": 50,
     "metadata": {},
     "output_type": "execute_result"
    }
   ],
   "source": [
    "lines_size, columns_size = df_german_credit.shape\n",
    "lines_size, columns_size"
   ]
  },
  {
   "cell_type": "code",
   "execution_count": 51,
   "metadata": {},
   "outputs": [
    {
     "name": "stdout",
     "output_type": "stream",
     "text": [
      "The dataset has 0 duplicated lines.\n"
     ]
    }
   ],
   "source": [
    "duplicate_lines = df_german_credit.duplicated()\n",
    "print(f'The dataset has {duplicate_lines.sum()} duplicated lines.')"
   ]
  },
  {
   "cell_type": "code",
   "execution_count": 52,
   "metadata": {},
   "outputs": [
    {
     "data": {
      "text/plain": [
       "default                       0\n",
       "account_check_status          0\n",
       "duration_in_month             0\n",
       "credit_history                0\n",
       "purpose                       0\n",
       "credit_amount                 0\n",
       "savings                       0\n",
       "present_emp_since             0\n",
       "installment_as_income_perc    0\n",
       "personal_status_sex           0\n",
       "other_debtors                 0\n",
       "present_res_since             0\n",
       "property                      0\n",
       "age                           0\n",
       "other_installment_plans       0\n",
       "housing                       0\n",
       "credits_this_bank             0\n",
       "job                           0\n",
       "people_under_maintenance      0\n",
       "telephone                     0\n",
       "foreign_worker                0\n",
       "dtype: int64"
      ]
     },
     "execution_count": 52,
     "metadata": {},
     "output_type": "execute_result"
    }
   ],
   "source": [
    "empty_values = df_german_credit.isnull()\n",
    "empty_values.sum()"
   ]
  },
  {
   "cell_type": "markdown",
   "metadata": {},
   "source": [
    "# Logistic regression"
   ]
  },
  {
   "cell_type": "markdown",
   "metadata": {},
   "source": [
    "## Data categorization"
   ]
  },
  {
   "cell_type": "code",
   "execution_count": 53,
   "metadata": {},
   "outputs": [],
   "source": [
    "def categorization_data(df, column_name):\n",
    "    series_categorized = pd.Categorical(\n",
    "        df[column_name],\n",
    "        ordered=False\n",
    "    )\n",
    "    series_droped_duplicates = df[column_name].drop_duplicates()\n",
    "    data_categorized_code = {column_name: {}}\n",
    "\n",
    "    for index_info in series_droped_duplicates.index:\n",
    "        data_categorized_code[column_name].update(\n",
    "            {\n",
    "                series_categorized.codes[index_info]: series_droped_duplicates[index_info]\n",
    "            }\n",
    "        )\n",
    "    return series_categorized.codes, data_categorized_code"
   ]
  },
  {
   "cell_type": "code",
   "execution_count": 54,
   "metadata": {},
   "outputs": [
    {
     "name": "stdout",
     "output_type": "stream",
     "text": [
      "<class 'pandas.core.frame.DataFrame'>\n",
      "RangeIndex: 1000 entries, 0 to 999\n",
      "Data columns (total 21 columns):\n",
      " #   Column                      Non-Null Count  Dtype\n",
      "---  ------                      --------------  -----\n",
      " 0   default                     1000 non-null   int64\n",
      " 1   account_check_status        1000 non-null   int8 \n",
      " 2   duration_in_month           1000 non-null   int64\n",
      " 3   credit_history              1000 non-null   int8 \n",
      " 4   purpose                     1000 non-null   int8 \n",
      " 5   credit_amount               1000 non-null   int64\n",
      " 6   savings                     1000 non-null   int8 \n",
      " 7   present_emp_since           1000 non-null   int8 \n",
      " 8   installment_as_income_perc  1000 non-null   int64\n",
      " 9   personal_status_sex         1000 non-null   int8 \n",
      " 10  other_debtors               1000 non-null   int8 \n",
      " 11  present_res_since           1000 non-null   int64\n",
      " 12  property                    1000 non-null   int8 \n",
      " 13  age                         1000 non-null   int64\n",
      " 14  other_installment_plans     1000 non-null   int8 \n",
      " 15  housing                     1000 non-null   int8 \n",
      " 16  credits_this_bank           1000 non-null   int64\n",
      " 17  job                         1000 non-null   int8 \n",
      " 18  people_under_maintenance    1000 non-null   int64\n",
      " 19  telephone                   1000 non-null   int8 \n",
      " 20  foreign_worker              1000 non-null   int8 \n",
      "dtypes: int64(8), int8(13)\n",
      "memory usage: 75.3 KB\n"
     ]
    }
   ],
   "source": [
    "object_columns = df_german_credit.select_dtypes(include=['object']).columns\n",
    "data_categorized_code_complete = {}\n",
    "\n",
    "for column_name in object_columns:\n",
    "    df_german_credit[column_name], data_categorized_code = categorization_data(\n",
    "        df_german_credit, column_name)\n",
    "    data_categorized_code_complete.update(data_categorized_code)\n",
    "\n",
    "df_german_credit.info()"
   ]
  },
  {
   "cell_type": "markdown",
   "metadata": {},
   "source": [
    "## Split data between modelling (x) and response (y)"
   ]
  },
  {
   "cell_type": "code",
   "execution_count": 55,
   "metadata": {},
   "outputs": [
    {
     "name": "stdout",
     "output_type": "stream",
     "text": [
      "data complete shape: (1000, 21) | x shape: (1000, 20) | y shape: (1000,)\n"
     ]
    }
   ],
   "source": [
    "x, y = df_german_credit.drop(columns=['default']), df_german_credit['default']\n",
    "print(f'data complete shape: {df_german_credit.shape} | x shape: {x.shape} | y shape: {y.shape}')"
   ]
  },
  {
   "cell_type": "markdown",
   "metadata": {},
   "source": [
    "## Split data between training and testing"
   ]
  },
  {
   "cell_type": "code",
   "execution_count": 56,
   "metadata": {},
   "outputs": [
    {
     "name": "stdout",
     "output_type": "stream",
     "text": [
      "The train dataset has 700 lines and the test dataset has 300 lines.\n"
     ]
    }
   ],
   "source": [
    "x_train, x_test, y_train, y_test = train_test_split(\n",
    "    x, y,\n",
    "    test_size=0.3,\n",
    "    random_state=SEED\n",
    ")\n",
    "print(\n",
    "    f'The train dataset has {x_train.shape[0]} lines and the test dataset has {x_test.shape[0]} lines.')"
   ]
  },
  {
   "cell_type": "markdown",
   "metadata": {},
   "source": [
    "## Define the model"
   ]
  },
  {
   "cell_type": "code",
   "execution_count": 57,
   "metadata": {},
   "outputs": [],
   "source": [
    "def build_model(x_train, y_train):\n",
    "    model = LogisticRegression(\n",
    "        max_iter=1_000,\n",
    "        random_state=SEED\n",
    "    )\n",
    "    model.fit(x_train, y_train)\n",
    "    return model"
   ]
  },
  {
   "cell_type": "code",
   "execution_count": 58,
   "metadata": {},
   "outputs": [],
   "source": [
    "model_lr = build_model(x_train, y_train)\n"
   ]
  },
  {
   "cell_type": "code",
   "execution_count": 59,
   "metadata": {},
   "outputs": [
    {
     "data": {
      "text/plain": [
       "'The model score is 73.14%'"
      ]
     },
     "execution_count": 59,
     "metadata": {},
     "output_type": "execute_result"
    }
   ],
   "source": [
    "f'The model score is {model_lr.score(x_train, y_train):.2%}'"
   ]
  },
  {
   "cell_type": "code",
   "execution_count": 60,
   "metadata": {},
   "outputs": [
    {
     "name": "stdout",
     "output_type": "stream",
     "text": [
      "Fold 0:\n",
      "The model score is 73.62%\n",
      "Fold 1:\n",
      "The model score is 74.50%\n",
      "Fold 2:\n",
      "The model score is 74.50%\n",
      "Fold 3:\n",
      "The model score is 73.12%\n",
      "Fold 4:\n",
      "The model score is 74.50%\n"
     ]
    }
   ],
   "source": [
    "kf = KFold(n_splits=5, shuffle=True, random_state=SEED)\n",
    "kf.get_n_splits(x)\n",
    "\n",
    "for i, (train_index, test_index) in enumerate(kf.split(x)):\n",
    "    print(f\"Fold {i}:\")\n",
    "    x_train_kf, x_test_kf, y_train_kf, y_test_kf = (\n",
    "        x.loc[train_index],\n",
    "        x.loc[test_index],\n",
    "        y.loc[train_index],\n",
    "        y.loc[test_index]\n",
    "    )\n",
    "    model_lr_kf = build_model(x_train_kf, y_train_kf)\n",
    "    print(\n",
    "        f'The model score is {model_lr_kf.score(x_train_kf, y_train_kf):.2%}')"
   ]
  },
  {
   "cell_type": "code",
   "execution_count": 61,
   "metadata": {},
   "outputs": [
    {
     "data": {
      "text/plain": [
       "array([0, 0, 0, 0, 0, 0, 0, 1, 0, 0, 0, 1, 0, 1, 1, 0, 0, 0, 0, 0, 0, 0,\n",
       "       0, 0, 0, 0, 1, 1, 0, 0, 0, 0, 0, 0, 0, 0, 1, 0, 0, 0, 0, 0, 0, 0,\n",
       "       0, 0, 0, 0, 0, 0, 0, 0, 0, 1, 0, 1, 0, 1, 1, 0, 0, 0, 0, 0, 0, 0,\n",
       "       0, 0, 0, 0, 1, 0, 0, 0, 0, 0, 0, 0, 0, 0, 0, 0, 0, 1, 0, 0, 1, 1,\n",
       "       0, 0, 0, 0, 0, 0, 0, 0, 0, 0, 1, 0, 0, 0, 0, 0, 0, 0, 0, 0, 0, 0,\n",
       "       1, 0, 0, 0, 0, 0, 0, 0, 0, 0, 0, 0, 0, 0, 0, 0, 0, 0, 0, 0, 0, 0,\n",
       "       0, 0, 0, 0, 0, 0, 0, 0, 0, 0, 1, 0, 0, 0, 0, 0, 0, 1, 0, 0, 0, 0,\n",
       "       0, 0, 1, 0, 0, 0, 0, 0, 0, 1, 0, 0, 0, 0, 0, 0, 0, 0, 0, 0, 0, 0,\n",
       "       0, 0, 0, 1, 0, 0, 0, 0, 0, 0, 1, 0, 0, 0, 0, 1, 1, 0, 0, 0, 1, 0,\n",
       "       0, 0, 0, 0, 0, 0, 0, 1, 0, 0, 0, 0, 0, 1, 0, 0, 0, 0, 0, 0, 1, 1,\n",
       "       0, 0, 0, 0, 1, 0, 0, 0, 0, 0, 0, 0, 1, 0, 0, 0, 0, 0, 1, 1, 0, 0,\n",
       "       0, 0, 0, 0, 0, 0, 0, 1, 0, 0, 1, 0, 0, 0, 0, 0, 0, 0, 0, 0, 1, 0,\n",
       "       0, 0, 0, 0, 0, 1, 0, 0, 0, 0, 0, 1, 0, 0, 0, 1, 0, 0, 0, 0, 0, 0,\n",
       "       1, 0, 0, 0, 0, 0, 0, 0, 0, 0, 0, 0, 0, 0], dtype=int64)"
      ]
     },
     "execution_count": 61,
     "metadata": {},
     "output_type": "execute_result"
    }
   ],
   "source": [
    "predicts = model_lr.predict(x_test)\n",
    "predicts"
   ]
  },
  {
   "cell_type": "code",
   "execution_count": 62,
   "metadata": {},
   "outputs": [
    {
     "name": "stdout",
     "output_type": "stream",
     "text": [
      "The model accuracy is 71.33%\n"
     ]
    }
   ],
   "source": [
    "accuracy_model = accuracy_score(y_test, predicts)\n",
    "print(f'The model accuracy is {accuracy_model:.2%}')"
   ]
  },
  {
   "cell_type": "markdown",
   "metadata": {},
   "source": [
    "## Confusion matrix\n",
    "\n",
    "The confusion matrix is a table that is often used to describe the performance of a classification model (or \"classifier\") on a set of test data for which the true values are known. It allows the visualization of the performance of an algorithm. The number of correct and incorrect predictions are summarized with count values and broken down by each class. This is the key to the confusion matrix. The confusion matrix is split into four quadrants:\n",
    "- True Positive (TP): The model correctly predicts the positive class as positive.\n",
    "- False Positive (FP): The model incorrectly predicts the negative class as positive.\n",
    "- True Negative (TN): The model correctly predicts the negative class as negative.\n",
    "- False Negative (FN): The model incorrectly predicts the positive class as negative."
   ]
  },
  {
   "cell_type": "code",
   "execution_count": 63,
   "metadata": {},
   "outputs": [
    {
     "data": {
      "text/plain": [
       "<sklearn.metrics._plot.confusion_matrix.ConfusionMatrixDisplay at 0x1cde9690cd0>"
      ]
     },
     "execution_count": 63,
     "metadata": {},
     "output_type": "execute_result"
    },
    {
     "data": {
      "image/png": "[encoded data removed]",
      "text/plain": [
       "<Figure size 640x480 with 2 Axes>"
      ]
     },
     "metadata": {},
     "output_type": "display_data"
    }
   ],
   "source": [
    "# confusion_matrix = plot_confusion_matrix(model_lr, x_test, y_test,cmap=plt.cm.Blues,values_format='.3g') # Old version\n",
    "\n",
    "confusion_matrix_model = confusion_matrix(y_test, predicts)\n",
    "display_confusion_matrix = ConfusionMatrixDisplay(confusion_matrix_model, display_labels=model_lr.classes_)\n",
    "display_confusion_matrix.plot(cmap=plt.cm.Blues,values_format='.3g')\n"
   ]
  },
  {
   "cell_type": "markdown",
   "metadata": {},
   "source": [
    "## Classification report"
   ]
  },
  {
   "cell_type": "code",
   "execution_count": 64,
   "metadata": {},
   "outputs": [
    {
     "name": "stdout",
     "output_type": "stream",
     "text": [
      "              precision    recall  f1-score   support\n",
      "\n",
      "           0       0.74      0.91      0.82       209\n",
      "           1       0.56      0.25      0.35        91\n",
      "\n",
      "    accuracy                           0.71       300\n",
      "   macro avg       0.65      0.58      0.58       300\n",
      "weighted avg       0.68      0.71      0.67       300\n",
      "\n"
     ]
    }
   ],
   "source": [
    "classification_report_model = classification_report(y_test, predicts)\n",
    "print(classification_report_model)"
   ]
  },
  {
   "cell_type": "markdown",
   "metadata": {},
   "source": [
    "## ROC curve"
   ]
  },
  {
   "cell_type": "code",
   "execution_count": 65,
   "metadata": {},
   "outputs": [
    {
     "name": "stdout",
     "output_type": "stream",
     "text": [
      "The AUC score is 71.58%\n"
     ]
    }
   ],
   "source": [
    "# [:,1] -> Probabilities of the class 1\n",
    "probabilities_model = model_lr.predict_proba(x_test)[:, 1]  \n",
    "# tfp -> False Positive Rate, tvp -> True Positive Rate\n",
    "tfp, tvp, thresholds = roc_curve(y_test, probabilities_model)\n",
    "print(f'The AUC score is {roc_auc_score(y_test, probabilities_model):.2%}')"
   ]
  },
  {
   "cell_type": "code",
   "execution_count": 66,
   "metadata": {},
   "outputs": [
    {
     "data": {
      "image/png": "[encoded data removed]",
      "text/plain": [
       "<Figure size 500x500 with 1 Axes>"
      ]
     },
     "metadata": {},
     "output_type": "display_data"
    }
   ],
   "source": [
    "plt.subplots(1, figsize=(5, 5))\n",
    "plt.title('Receiver Operating Characteristic - Logistic Regression')\n",
    "plt.plot(tfp, tvp)\n",
    "plt.xlabel('Specificity')\n",
    "plt.ylabel('Sensitivity')\n",
    "plt.plot([0, 1], ls=\"--\", c=\"red\")\n",
    "plt.plot([0, 0], [1, 0], ls=\"--\", c=\"green\")\n",
    "plt.plot([1, 1], ls=\"--\", c=\"green\")\n",
    "plt.show()"
   ]
  },
  {
   "cell_type": "markdown",
   "metadata": {},
   "source": [
    "## Describe analysis"
   ]
  },
  {
   "cell_type": "code",
   "execution_count": 67,
   "metadata": {},
   "outputs": [
    {
     "data": {
      "text/plain": [
       "{3: 'male : single',\n",
       " 0: 'female : divorced/separated/married',\n",
       " 1: 'male : divorced/separated',\n",
       " 2: 'male : married/widowed'}"
      ]
     },
     "execution_count": 67,
     "metadata": {},
     "output_type": "execute_result"
    }
   ],
   "source": [
    "data_categorized_code_complete.get('personal_status_sex')\n",
    "\n"
   ]
  },
  {
   "cell_type": "code",
   "execution_count": 68,
   "metadata": {},
   "outputs": [
    {
     "data": {
      "text/html": [
       "<div>\n",
       "<style scoped>\n",
       "    .dataframe tbody tr th:only-of-type {\n",
       "        vertical-align: middle;\n",
       "    }\n",
       "\n",
       "    .dataframe tbody tr th {\n",
       "        vertical-align: top;\n",
       "    }\n",
       "\n",
       "    .dataframe thead th {\n",
       "        text-align: right;\n",
       "    }\n",
       "</style>\n",
       "<table border=\"1\" class=\"dataframe\">\n",
       "  <thead>\n",
       "    <tr style=\"text-align: right;\">\n",
       "      <th></th>\n",
       "      <th>default</th>\n",
       "      <th>duration_in_month</th>\n",
       "      <th>credit_amount</th>\n",
       "      <th>installment_as_income_perc</th>\n",
       "      <th>present_res_since</th>\n",
       "      <th>age</th>\n",
       "      <th>credits_this_bank</th>\n",
       "      <th>people_under_maintenance</th>\n",
       "    </tr>\n",
       "  </thead>\n",
       "  <tbody>\n",
       "    <tr>\n",
       "      <th>count</th>\n",
       "      <td>1000.000000</td>\n",
       "      <td>1000.000000</td>\n",
       "      <td>1000.000000</td>\n",
       "      <td>1000.000000</td>\n",
       "      <td>1000.000000</td>\n",
       "      <td>1000.000000</td>\n",
       "      <td>1000.000000</td>\n",
       "      <td>1000.000000</td>\n",
       "    </tr>\n",
       "    <tr>\n",
       "      <th>mean</th>\n",
       "      <td>0.300000</td>\n",
       "      <td>20.903000</td>\n",
       "      <td>3271.258000</td>\n",
       "      <td>2.973000</td>\n",
       "      <td>2.845000</td>\n",
       "      <td>35.546000</td>\n",
       "      <td>1.407000</td>\n",
       "      <td>1.155000</td>\n",
       "    </tr>\n",
       "    <tr>\n",
       "      <th>std</th>\n",
       "      <td>0.458487</td>\n",
       "      <td>12.058814</td>\n",
       "      <td>2822.736876</td>\n",
       "      <td>1.118715</td>\n",
       "      <td>1.103718</td>\n",
       "      <td>11.375469</td>\n",
       "      <td>0.577654</td>\n",
       "      <td>0.362086</td>\n",
       "    </tr>\n",
       "    <tr>\n",
       "      <th>min</th>\n",
       "      <td>0.000000</td>\n",
       "      <td>4.000000</td>\n",
       "      <td>250.000000</td>\n",
       "      <td>1.000000</td>\n",
       "      <td>1.000000</td>\n",
       "      <td>19.000000</td>\n",
       "      <td>1.000000</td>\n",
       "      <td>1.000000</td>\n",
       "    </tr>\n",
       "    <tr>\n",
       "      <th>25%</th>\n",
       "      <td>0.000000</td>\n",
       "      <td>12.000000</td>\n",
       "      <td>1365.500000</td>\n",
       "      <td>2.000000</td>\n",
       "      <td>2.000000</td>\n",
       "      <td>27.000000</td>\n",
       "      <td>1.000000</td>\n",
       "      <td>1.000000</td>\n",
       "    </tr>\n",
       "    <tr>\n",
       "      <th>50%</th>\n",
       "      <td>0.000000</td>\n",
       "      <td>18.000000</td>\n",
       "      <td>2319.500000</td>\n",
       "      <td>3.000000</td>\n",
       "      <td>3.000000</td>\n",
       "      <td>33.000000</td>\n",
       "      <td>1.000000</td>\n",
       "      <td>1.000000</td>\n",
       "    </tr>\n",
       "    <tr>\n",
       "      <th>75%</th>\n",
       "      <td>1.000000</td>\n",
       "      <td>24.000000</td>\n",
       "      <td>3972.250000</td>\n",
       "      <td>4.000000</td>\n",
       "      <td>4.000000</td>\n",
       "      <td>42.000000</td>\n",
       "      <td>2.000000</td>\n",
       "      <td>1.000000</td>\n",
       "    </tr>\n",
       "    <tr>\n",
       "      <th>max</th>\n",
       "      <td>1.000000</td>\n",
       "      <td>72.000000</td>\n",
       "      <td>18424.000000</td>\n",
       "      <td>4.000000</td>\n",
       "      <td>4.000000</td>\n",
       "      <td>75.000000</td>\n",
       "      <td>4.000000</td>\n",
       "      <td>2.000000</td>\n",
       "    </tr>\n",
       "  </tbody>\n",
       "</table>\n",
       "</div>"
      ],
      "text/plain": [
       "           default  duration_in_month  credit_amount  \\\n",
       "count  1000.000000        1000.000000    1000.000000   \n",
       "mean      0.300000          20.903000    3271.258000   \n",
       "std       0.458487          12.058814    2822.736876   \n",
       "min       0.000000           4.000000     250.000000   \n",
       "25%       0.000000          12.000000    1365.500000   \n",
       "50%       0.000000          18.000000    2319.500000   \n",
       "75%       1.000000          24.000000    3972.250000   \n",
       "max       1.000000          72.000000   18424.000000   \n",
       "\n",
       "       installment_as_income_perc  present_res_since          age  \\\n",
       "count                 1000.000000        1000.000000  1000.000000   \n",
       "mean                     2.973000           2.845000    35.546000   \n",
       "std                      1.118715           1.103718    11.375469   \n",
       "min                      1.000000           1.000000    19.000000   \n",
       "25%                      2.000000           2.000000    27.000000   \n",
       "50%                      3.000000           3.000000    33.000000   \n",
       "75%                      4.000000           4.000000    42.000000   \n",
       "max                      4.000000           4.000000    75.000000   \n",
       "\n",
       "       credits_this_bank  people_under_maintenance  \n",
       "count        1000.000000               1000.000000  \n",
       "mean            1.407000                  1.155000  \n",
       "std             0.577654                  0.362086  \n",
       "min             1.000000                  1.000000  \n",
       "25%             1.000000                  1.000000  \n",
       "50%             1.000000                  1.000000  \n",
       "75%             2.000000                  1.000000  \n",
       "max             4.000000                  2.000000  "
      ]
     },
     "execution_count": 68,
     "metadata": {},
     "output_type": "execute_result"
    }
   ],
   "source": [
    "variables_analysis = [\n",
    "    item \n",
    "    for item in df_german_credit.columns \n",
    "    if item not in object_columns\n",
    "    ]\n",
    "\n",
    "df_german_credit[variables_analysis].describe()"
   ]
  },
  {
   "cell_type": "code",
   "execution_count": 69,
   "metadata": {},
   "outputs": [
    {
     "data": {
      "text/plain": [
       "female : divorced/separated/married    310\n",
       "male : divorced/separated               50\n",
       "male : married/widowed                  92\n",
       "male : single                          548\n",
       "Name: personal_status_sex, dtype: int64"
      ]
     },
     "execution_count": 69,
     "metadata": {},
     "output_type": "execute_result"
    }
   ],
   "source": [
    "df_german_credit['personal_status_sex'].replace(\n",
    "    data_categorized_code_complete.get('personal_status_sex')).value_counts().sort_index()"
   ]
  },
  {
   "cell_type": "code",
   "execution_count": 70,
   "metadata": {},
   "outputs": [
    {
     "data": {
      "text/plain": [
       "0    700\n",
       "1    300\n",
       "Name: default, dtype: int64"
      ]
     },
     "execution_count": 70,
     "metadata": {},
     "output_type": "execute_result"
    }
   ],
   "source": [
    "# Our dataset is unbalanced\n",
    "df_german_credit['default'].value_counts().sort_index()"
   ]
  },
  {
   "cell_type": "code",
   "execution_count": 71,
   "metadata": {},
   "outputs": [
    {
     "data": {
      "image/png": "[encoded data removed]",
      "text/plain": [
       "<Figure size 1500x1000 with 3 Axes>"
      ]
     },
     "metadata": {},
     "output_type": "display_data"
    }
   ],
   "source": [
    "histograms = ['personal_status_sex', 'duration_in_month', 'default']\n",
    "\n",
    "plt.figure(figsize=(15, 10))\n",
    "for histogram in list(enumerate(histograms)):\n",
    "    plt.subplot(2, 2, histogram[0]+1)\n",
    "    sns.countplot(x=histogram[1], data=df_german_credit)"
   ]
  },
  {
   "cell_type": "code",
   "execution_count": 72,
   "metadata": {},
   "outputs": [
    {
     "data": {
      "text/plain": [
       "<AxesSubplot:xlabel='personal_status_sex', ylabel='age'>"
      ]
     },
     "execution_count": 72,
     "metadata": {},
     "output_type": "execute_result"
    },
    {
     "data": {
      "image/png": "[encoded data removed]",
      "text/plain": [
       "<Figure size 640x480 with 1 Axes>"
      ]
     },
     "metadata": {},
     "output_type": "display_data"
    }
   ],
   "source": [
    "sns.boxplot(x='personal_status_sex',\n",
    "            y='age', data=df_german_credit)"
   ]
  },
  {
   "cell_type": "code",
   "execution_count": 73,
   "metadata": {},
   "outputs": [
    {
     "data": {
      "text/plain": [
       "<AxesSubplot:xlabel='duration_in_month', ylabel='credit_amount'>"
      ]
     },
     "execution_count": 73,
     "metadata": {},
     "output_type": "execute_result"
    },
    {
     "data": {
      "image/png": "[encoded data removed]",
      "text/plain": [
       "<Figure size 1500x500 with 1 Axes>"
      ]
     },
     "metadata": {},
     "output_type": "display_data"
    }
   ],
   "source": [
    "plt.figure(figsize=(15, 5))\n",
    "sns.barplot(x='duration_in_month', y='credit_amount',data=df_german_credit)"
   ]
  },
  {
   "cell_type": "code",
   "execution_count": 75,
   "metadata": {},
   "outputs": [
    {
     "data": {
      "text/html": [
       "<div>\n",
       "<style scoped>\n",
       "    .dataframe tbody tr th:only-of-type {\n",
       "        vertical-align: middle;\n",
       "    }\n",
       "\n",
       "    .dataframe tbody tr th {\n",
       "        vertical-align: top;\n",
       "    }\n",
       "\n",
       "    .dataframe thead th {\n",
       "        text-align: right;\n",
       "    }\n",
       "</style>\n",
       "<table border=\"1\" class=\"dataframe\">\n",
       "  <thead>\n",
       "    <tr style=\"text-align: right;\">\n",
       "      <th></th>\n",
       "      <th>personal_status</th>\n",
       "      <th>sex</th>\n",
       "    </tr>\n",
       "  </thead>\n",
       "  <tbody>\n",
       "    <tr>\n",
       "      <th>count</th>\n",
       "      <td>1000.000000</td>\n",
       "      <td>1000.000000</td>\n",
       "    </tr>\n",
       "    <tr>\n",
       "      <th>mean</th>\n",
       "      <td>0.598000</td>\n",
       "      <td>0.690000</td>\n",
       "    </tr>\n",
       "    <tr>\n",
       "      <th>std</th>\n",
       "      <td>0.490547</td>\n",
       "      <td>0.462725</td>\n",
       "    </tr>\n",
       "    <tr>\n",
       "      <th>min</th>\n",
       "      <td>0.000000</td>\n",
       "      <td>0.000000</td>\n",
       "    </tr>\n",
       "    <tr>\n",
       "      <th>25%</th>\n",
       "      <td>0.000000</td>\n",
       "      <td>0.000000</td>\n",
       "    </tr>\n",
       "    <tr>\n",
       "      <th>50%</th>\n",
       "      <td>1.000000</td>\n",
       "      <td>1.000000</td>\n",
       "    </tr>\n",
       "    <tr>\n",
       "      <th>75%</th>\n",
       "      <td>1.000000</td>\n",
       "      <td>1.000000</td>\n",
       "    </tr>\n",
       "    <tr>\n",
       "      <th>max</th>\n",
       "      <td>1.000000</td>\n",
       "      <td>1.000000</td>\n",
       "    </tr>\n",
       "  </tbody>\n",
       "</table>\n",
       "</div>"
      ],
      "text/plain": [
       "       personal_status          sex\n",
       "count      1000.000000  1000.000000\n",
       "mean          0.598000     0.690000\n",
       "std           0.490547     0.462725\n",
       "min           0.000000     0.000000\n",
       "25%           0.000000     0.000000\n",
       "50%           1.000000     1.000000\n",
       "75%           1.000000     1.000000\n",
       "max           1.000000     1.000000"
      ]
     },
     "metadata": {},
     "output_type": "display_data"
    },
    {
     "data": {
      "text/plain": [
       "0    402\n",
       "1    598\n",
       "Name: personal_status, dtype: int64"
      ]
     },
     "metadata": {},
     "output_type": "display_data"
    },
    {
     "data": {
      "text/plain": [
       "0    310\n",
       "1    690\n",
       "Name: sex, dtype: int64"
      ]
     },
     "metadata": {},
     "output_type": "display_data"
    }
   ],
   "source": [
    "split_personal_status = {\n",
    "    0: 0,  # 'divorced/separated/married'\n",
    "    1: 1,  # 'divorced/separated'\n",
    "    2: 0,  # 'married/widowed'\n",
    "    3: 1,  # 'single'\n",
    "}\n",
    "split_sex = {\n",
    "    0: 0,  # 'female'\n",
    "    1: 1,  # 'male'\n",
    "    2: 1,  # 'male'\n",
    "    3: 1,  # 'male'\n",
    "}\n",
    "\n",
    "df_german_credit['personal_status'] = df_german_credit['personal_status_sex'].replace(\n",
    "    split_personal_status)\n",
    "df_german_credit['sex'] = df_german_credit['personal_status_sex'].replace(\n",
    "    split_sex)\n",
    "\n",
    "display(df_german_credit[['personal_status', 'sex']].describe())\n",
    "display(df_german_credit['personal_status'].value_counts().sort_index())\n",
    "display(df_german_credit['sex'].value_counts().sort_index())"
   ]
  },
  {
   "cell_type": "code",
   "execution_count": 89,
   "metadata": {},
   "outputs": [],
   "source": [
    "def run_model(data_base,classificator):\n",
    "    x, y = data_base.drop(columns=['default']), data_base['default']\n",
    "    x_train, x_test, y_train, y_test = train_test_split(\n",
    "        x, y,\n",
    "        test_size=0.3,\n",
    "        random_state=SEED\n",
    "    )\n",
    "    print(\n",
    "        f'The train dataset has {x_train.shape[0]} lines and the test dataset has {x_test.shape[0]} lines.')\n",
    "    model = classificator.fit(x_train, y_train)\n",
    "\n",
    "    predicts = model.predict(x_test)\n",
    "    confusion_matrix_model = confusion_matrix(y_test, predicts)\n",
    "    display_confusion_matrix = ConfusionMatrixDisplay(confusion_matrix_model, display_labels=model_lr.classes_)\n",
    " \n",
    "    display_confusion_matrix.plot(cmap=plt.cm.Blues,values_format='.3g')\n",
    "    plt.title('Confusion Matrix')\n",
    "    plt.show()\n",
    "    print(f'Classisication Report: \\n {classification_report(y_test, predicts)}')\n",
    "\n",
    "    probabilities_model = model.predict_proba(x_test)[:, 1]\n",
    "    tfp, tvp, thresholds = roc_curve(y_test, probabilities_model)\n",
    "    print(f'The AUC score is {roc_auc_score(y_test, probabilities_model):.2%}')\n",
    "\n",
    "    plt.subplots(1, figsize=(5, 5))\n",
    "    plt.title('RoC Curve')\n",
    "    plt.plot(tfp, tvp)\n",
    "    plt.xlabel('Specificity')\n",
    "    plt.ylabel('Sensitivity')\n",
    "    plt.plot([0, 1], ls=\"--\", c=\"red\")\n",
    "    plt.plot([0, 0], [1, 0], ls=\"--\", c=\"green\")\n",
    "    plt.plot([1, 1], ls=\"--\", c=\"green\")\n",
    "    plt.show()\n",
    "    \n",
    "\n",
    "    print(100*'-')\n",
    "     \n",
    "    return model, confusion_matrix_model"
   ]
  },
  {
   "cell_type": "code",
   "execution_count": 90,
   "metadata": {},
   "outputs": [
    {
     "name": "stdout",
     "output_type": "stream",
     "text": [
      "The train dataset has 700 lines and the test dataset has 300 lines.\n"
     ]
    },
    {
     "data": {
      "image/png": "[encoded data removed]",
      "text/plain": [
       "<Figure size 640x480 with 2 Axes>"
      ]
     },
     "metadata": {},
     "output_type": "display_data"
    },
    {
     "name": "stdout",
     "output_type": "stream",
     "text": [
      "Classisication Report: \n",
      "               precision    recall  f1-score   support\n",
      "\n",
      "           0       0.73      0.91      0.81       209\n",
      "           1       0.54      0.24      0.33        91\n",
      "\n",
      "    accuracy                           0.71       300\n",
      "   macro avg       0.64      0.58      0.57       300\n",
      "weighted avg       0.67      0.71      0.67       300\n",
      "\n",
      "The AUC score is 71.68%\n"
     ]
    },
    {
     "data": {
      "image/png": "[encoded data removed]",
      "text/plain": [
       "<Figure size 500x500 with 1 Axes>"
      ]
     },
     "metadata": {},
     "output_type": "display_data"
    },
    {
     "name": "stdout",
     "output_type": "stream",
     "text": [
      "----------------------------------------------------------------------------------------------------\n"
     ]
    },
    {
     "data": {
      "text/plain": [
       "(LogisticRegression(max_iter=1000),\n",
       " array([[190,  19],\n",
       "        [ 69,  22]], dtype=int64))"
      ]
     },
     "execution_count": 90,
     "metadata": {},
     "output_type": "execute_result"
    }
   ],
   "source": [
    "run_model(df_german_credit, LogisticRegression(max_iter=1_000))"
   ]
  }
 ],
 "metadata": {
  "kernelspec": {
   "display_name": "s_w_py10",
   "language": "python",
   "name": "python3"
  },
  "language_info": {
   "codemirror_mode": {
    "name": "ipython",
    "version": 3
   },
   "file_extension": ".py",
   "mimetype": "text/x-python",
   "name": "python",
   "nbconvert_exporter": "python",
   "pygments_lexer": "ipython3",
   "version": "3.10.12"
  }
 },
 "nbformat": 4,
 "nbformat_minor": 2
}

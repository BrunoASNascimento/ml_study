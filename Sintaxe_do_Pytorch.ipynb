{
  "nbformat": 4,
  "nbformat_minor": 0,
  "metadata": {
    "colab": {
      "name": "Sintaxe do Pytorch",
      "provenance": [],
      "collapsed_sections": [],
      "include_colab_link": true
    },
    "kernelspec": {
      "name": "python3",
      "display_name": "Python 3"
    },
    "accelerator": "GPU"
  },
  "cells": [
    {
      "cell_type": "markdown",
      "metadata": {
        "id": "view-in-github",
        "colab_type": "text"
      },
      "source": [
        "<a href=\"https://colab.research.google.com/github/BrunoASNascimento/ml_study/blob/master/Sintaxe_do_Pytorch.ipynb\" target=\"_parent\"><img src=\"https://colab.research.google.com/assets/colab-badge.svg\" alt=\"Open In Colab\"/></a>"
      ]
    },
    {
      "cell_type": "markdown",
      "metadata": {
        "id": "c25hqijfflPT",
        "colab_type": "text"
      },
      "source": [
        "# Sintaxe básica do Pytorch\n",
        "\n",
        "Assim como o NumPy, o Pytorch é uma biblioteca de processamento vetorial/matricial/tensorial. Operações sobre os tensores do Pytorch possuem sintaxe consideravelmente parecida com operações sobre tensores do NumPy.\n",
        "\n",
        "Para mais informações sobre tensores em PyTorch, consulte a documentação: <br> https://pytorch.org/docs/stable/tensors.html\n",
        "\n"
      ]
    },
    {
      "cell_type": "markdown",
      "metadata": {
        "id": "pIHvu_8afoi2",
        "colab_type": "text"
      },
      "source": [
        "## Tipos de tensores \n",
        "\n",
        "Você pode criar tensores do PyTorch de inúmeras formas! Vamos ver primeiro os tipos de tensores que estão ao nosso dispor. Para isso, vamos converter listas comuns do Python em tensors do PyTorch.\n",
        "\n",
        "Note que a impressão de tensores dos tipos ```float32``` e ```int64``` não vêm acompanhadas do parâmetro de tipo ```dtype```, visto que se tratam dos tipos padrão trabalhados pelo PyTorch."
      ]
    },
    {
      "cell_type": "code",
      "metadata": {
        "id": "hnOEg66FjD2F",
        "colab_type": "code",
        "colab": {
          "base_uri": "https://localhost:8080/",
          "height": 85
        },
        "outputId": "10020977-09ea-4825-a9ed-4ab1cb222545"
      },
      "source": [
        "import torch\n",
        "\n",
        "lista =[[1,2,3],[4,5,6]]\n",
        "tns = torch.Tensor(lista)\n",
        "print(tns.dtype)\n",
        "\n",
        "lista =[[1,2,3],[4,5,6]]\n",
        "tns = torch.FloatTensor(lista)\n",
        "print(tns.dtype)\n",
        "\n",
        "lista =[[1,2,3],[4,5,6]]\n",
        "tns = torch.DoubleTensor(lista)\n",
        "print(tns.dtype)\n",
        "\n",
        "lista =[[1,2,3],[4,5,6]]\n",
        "tns = torch.LongTensor(lista)\n",
        "print(tns.dtype)"
      ],
      "execution_count": null,
      "outputs": [
        {
          "output_type": "stream",
          "text": [
            "torch.float32\n",
            "torch.float32\n",
            "torch.float64\n",
            "torch.int64\n"
          ],
          "name": "stdout"
        }
      ]
    },
    {
      "cell_type": "markdown",
      "metadata": {
        "id": "gxA-fH8bq_fQ",
        "colab_type": "text"
      },
      "source": [
        "## Outras formas de instanciar tensores\n",
        "\n",
        "### A partir de arrays Numpy\n",
        "$torch.from\\_numpy()$ \n",
        "\n"
      ]
    },
    {
      "cell_type": "code",
      "metadata": {
        "id": "eNxZ-rMHq-xd",
        "colab_type": "code",
        "colab": {
          "base_uri": "https://localhost:8080/",
          "height": 119
        },
        "outputId": "392496e4-aef0-45f4-dace-e0270bfc95b1"
      },
      "source": [
        "import numpy as np\n",
        "\n",
        "arr = np.random.rand(3,4)\n",
        "tns = torch.from_numpy(arr)\n",
        "\n",
        "print(arr)\n",
        "print(tns)"
      ],
      "execution_count": null,
      "outputs": [
        {
          "output_type": "stream",
          "text": [
            "[[0.64901642 0.92611538 0.64621127 0.17264453]\n",
            " [0.43995829 0.9381946  0.16259176 0.2117906 ]\n",
            " [0.22454043 0.52139847 0.58155311 0.93101352]]\n",
            "tensor([[0.6490, 0.9261, 0.6462, 0.1726],\n",
            "        [0.4400, 0.9382, 0.1626, 0.2118],\n",
            "        [0.2245, 0.5214, 0.5816, 0.9310]], dtype=torch.float64)\n"
          ],
          "name": "stdout"
        }
      ]
    },
    {
      "cell_type": "markdown",
      "metadata": {
        "id": "7QC4F0AqkpPb",
        "colab_type": "text"
      },
      "source": [
        "### Tensores inicializados\n",
        "Essas funções recebem como parâmetro o tamanho de cada dimensão do tensor. Aqui vamos conhecer as seguintes funções:\n",
        "\n",
        "$torch.ones()$ -> Cria um tensor preenchido com zeros.\n",
        "\n",
        "$torch.zeros()$ -> Cria um tensor preenchido com uns.\n",
        "\n",
        "$torch.randn()$ -> Cria um tensor preenchido com números aleatórios a partir de uma distribuição normal."
      ]
    },
    {
      "cell_type": "code",
      "metadata": {
        "id": "mZ0kLNgtko5O",
        "colab_type": "code",
        "colab": {
          "base_uri": "https://localhost:8080/",
          "height": 119
        },
        "outputId": "b7a5e3f2-3ef6-4f49-c1d0-c70b854e55a3"
      },
      "source": [
        "tns1 = torch.ones(2,3)\n",
        "print(tns1)\n",
        "\n",
        "tns0 = torch.zeros(2,3)\n",
        "print(tns0)\n",
        "\n",
        "tnsr = torch.randn(2,3)\n",
        "print(tnsr)"
      ],
      "execution_count": null,
      "outputs": [
        {
          "output_type": "stream",
          "text": [
            "tensor([[1., 1., 1.],\n",
            "        [1., 1., 1.]])\n",
            "tensor([[0., 0., 0.],\n",
            "        [0., 0., 0.]])\n",
            "tensor([[ 0.2570,  0.7399, -2.3524],\n",
            "        [-1.1141, -0.7626,  1.5975]])\n"
          ],
          "name": "stdout"
        }
      ]
    },
    {
      "cell_type": "markdown",
      "metadata": {
        "id": "lf9piGFVnx6m",
        "colab_type": "text"
      },
      "source": [
        "### Tensor para array numpy"
      ]
    },
    {
      "cell_type": "code",
      "metadata": {
        "id": "FLGt-iw2n3Za",
        "colab_type": "code",
        "colab": {
          "base_uri": "https://localhost:8080/",
          "height": 51
        },
        "outputId": "dbf72d50-20b6-492e-88a6-5b4870c420a3"
      },
      "source": [
        "arr=tnsr.data.numpy()\n",
        "print(arr)"
      ],
      "execution_count": null,
      "outputs": [
        {
          "output_type": "stream",
          "text": [
            "[[ 0.25704888  0.7399218  -2.3524203 ]\n",
            " [-1.1141235  -0.76259595  1.5975082 ]]\n"
          ],
          "name": "stdout"
        }
      ]
    },
    {
      "cell_type": "markdown",
      "metadata": {
        "id": "X07bm9KBnMtA",
        "colab_type": "text"
      },
      "source": [
        "## Indexação\n",
        "\n",
        "De posse dessa informação, a indexação é feita de forma similar a arrays Numpy, através da sintaxe de colchetes ```[]```."
      ]
    },
    {
      "cell_type": "code",
      "metadata": {
        "id": "c8jRdxHTpCN0",
        "colab_type": "code",
        "colab": {
          "base_uri": "https://localhost:8080/",
          "height": 85
        },
        "outputId": "ed339382-d765-40f0-de78-b32f2ccd59e6"
      },
      "source": [
        "print(tnsr)\n",
        "\n",
        "tnsr[0,2]=-10\n",
        "print(tnsr)\n",
        "\n"
      ],
      "execution_count": null,
      "outputs": [
        {
          "output_type": "stream",
          "text": [
            "tensor([[ 0.2570,  0.7399, -2.3524],\n",
            "        [-1.1141, -0.7626,  1.5975]])\n",
            "tensor([[  0.2570,   0.7399, -10.0000],\n",
            "        [ -1.1141,  -0.7626,   1.5975]])\n"
          ],
          "name": "stdout"
        }
      ]
    },
    {
      "cell_type": "markdown",
      "metadata": {
        "id": "EzGW3gVTqK4y",
        "colab_type": "text"
      },
      "source": [
        "## Operações com tensores\n",
        "\n",
        "A função ```.item()``` utilizada anteriormente extrai o número de um tensor que possui um único valor, permitindo realizar as operações numéricas do Python. Caso o item não seja extraído, operações que envolvam tensores vão retornar novos tensores.\n",
        "\n",
        "Vale ressaltar também que operações entre tensores são realizadas **ponto a ponto**, operando cada elemento ```(i, j)``` do tensor ```t1```, com o elemento ```(i, j)``` do tensor ```t2```."
      ]
    },
    {
      "cell_type": "code",
      "metadata": {
        "id": "vuQTTUf6QiY0",
        "colab_type": "code",
        "colab": {
          "base_uri": "https://localhost:8080/",
          "height": 187
        },
        "outputId": "e643674c-0a8f-4c15-9667-a657c1b02796"
      },
      "source": [
        "print(tnsr+tns1)\n",
        "print(tnsr-tns1)\n",
        "print(tnsr*tns1)\n",
        "print(tnsr/tns1)\n",
        "\n",
        "#Multiplicação entre matrizes\n",
        "print(torch.mm(tnsr,tns1.T))"
      ],
      "execution_count": null,
      "outputs": [
        {
          "output_type": "stream",
          "text": [
            "tensor([[ 1.2570,  1.7399, -9.0000],\n",
            "        [-0.1141,  0.2374,  2.5975]])\n",
            "tensor([[ -0.7430,  -0.2601, -11.0000],\n",
            "        [ -2.1141,  -1.7626,   0.5975]])\n",
            "tensor([[  0.2570,   0.7399, -10.0000],\n",
            "        [ -1.1141,  -0.7626,   1.5975]])\n",
            "tensor([[  0.2570,   0.7399, -10.0000],\n",
            "        [ -1.1141,  -0.7626,   1.5975]])\n",
            "tensor([[-9.0030, -9.0030],\n",
            "        [-0.2792, -0.2792]])\n"
          ],
          "name": "stdout"
        }
      ]
    },
    {
      "cell_type": "markdown",
      "metadata": {
        "id": "f-N_PETWtMZ7",
        "colab_type": "text"
      },
      "source": [
        "## Função ```.size()``` e ```.view()```\n",
        "\n",
        "Uma operações **importantíssima** na manipulação de tensores para Deep Learning é a reorganização das suas dimensões. Dessa forma podemos, por exemplo, **linearizar um tensor n-dimensional**."
      ]
    },
    {
      "cell_type": "code",
      "metadata": {
        "id": "CKgCe5brte2L",
        "colab_type": "code",
        "colab": {
          "base_uri": "https://localhost:8080/",
          "height": 136
        },
        "outputId": "c6e140f4-adc2-41b4-912d-d5538ee60574"
      },
      "source": [
        "tns = torch.randn(2,2,3)\n",
        "print(tns.size())\n",
        "print(tns.view(-1))\n",
        "print(tns.view(4,3))"
      ],
      "execution_count": null,
      "outputs": [
        {
          "output_type": "stream",
          "text": [
            "torch.Size([2, 2, 3])\n",
            "tensor([-0.5038, -0.6378,  2.5664, -1.4729,  0.2634, -0.1256,  1.1227, -1.0518,\n",
            "        -0.6682, -0.0172,  1.7875, -1.4261])\n",
            "tensor([[-0.5038, -0.6378,  2.5664],\n",
            "        [-1.4729,  0.2634, -0.1256],\n",
            "        [ 1.1227, -1.0518, -0.6682],\n",
            "        [-0.0172,  1.7875, -1.4261]])\n"
          ],
          "name": "stdout"
        }
      ]
    },
    {
      "cell_type": "markdown",
      "metadata": {
        "id": "0o4_LzQoz0Ti",
        "colab_type": "text"
      },
      "source": [
        "## GPU Cast\n",
        "\n",
        "Para que o seu script dê suporte a infraestruturas com e sem GPU, é importante definir o dispositivo no início do seu código de acordo com a verificação apresentada a seguir. Essa definição de dispositivo será utilizada toda vez que precisarmos subir valores na GPU, como os pesos da rede, os gradientes, etc."
      ]
    },
    {
      "cell_type": "code",
      "metadata": {
        "id": "uePyYun4z1u3",
        "colab_type": "code",
        "colab": {
          "base_uri": "https://localhost:8080/",
          "height": 85
        },
        "outputId": "e11c3434-687a-4dd0-c054-1ae163daef75"
      },
      "source": [
        "import torch\n",
        "\n",
        "tns = torch.rand(10)\n",
        "if torch.cuda.is_available():\n",
        "    device = torch.device('cuda')\n",
        "else:\n",
        "    device = torch.device('cpu')\n",
        "print(device)\n",
        "\n",
        "tns = tns.to(device)\n",
        "print(tns)\n",
        "\n",
        "print(torch.cuda.device_count())"
      ],
      "execution_count": null,
      "outputs": [
        {
          "output_type": "stream",
          "text": [
            "cuda\n",
            "tensor([0.7606, 0.4177, 0.1924, 0.0784, 0.8688, 0.7040, 0.6825, 0.1600, 0.1757,\n",
            "        0.0732], device='cuda:0')\n",
            "1\n"
          ],
          "name": "stdout"
        }
      ]
    }
  ]
}